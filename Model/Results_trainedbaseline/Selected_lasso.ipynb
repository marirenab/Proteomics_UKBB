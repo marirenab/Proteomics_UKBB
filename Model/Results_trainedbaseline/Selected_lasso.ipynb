{
 "cells": [
  {
   "cell_type": "code",
   "execution_count": 2,
   "id": "f264ae89-f61e-4075-88e8-10eedbcf2e52",
   "metadata": {},
   "outputs": [],
   "source": [
    "import pandas as pd\n",
    "import numpy as np\n",
    "import glob"
   ]
  },
  {
   "cell_type": "code",
   "execution_count": 6,
   "id": "bdd1e6c8-c63c-4a2f-8286-4d2120d1034d",
   "metadata": {},
   "outputs": [
    {
     "name": "stdout",
     "output_type": "stream",
     "text": [
      "Loaded PredictionsLASSORegression_proteins_residuals_PD_HC_unique_residualised_training_SIMPLEMEDIAN_recall_Training_all_prodromals_Featureimportance.csv with shape (540, 3)\n",
      "Loaded PredictionsLASSORegression_proteins_residuals_PD_HC_unique_PD_OND_residualisedhealthycontrol_SIMPLEMEDIAN_recall_Training_all_prodromals_Featureimportance.csv with shape (605, 3)\n",
      "Loaded PredictionsLASSORegression_proteins_matched_baseline_PD_HC_SIMPLEMEDIAN_recall_Training_all_prodromals_Featureimportance.csv with shape (115, 3)\n",
      "Loaded PredictionsLASSORegression_proteins_residuals_PD_HC_residualisedtraining_SIMPLEMEDIAN_recall_Training_all_prodromals_Featureimportance.csv with shape (560, 3)\n",
      "Loaded PredictionsLASSORegression_proteins_residuals_PD_HC_PD_OND_residualisedtraining_SIMPLEMEDIAN_recall_Training_all_prodromals_Featureimportance.csv with shape (585, 3)\n",
      "Loaded PredictionsLASSORegression_proteins_residuals_PD_HC_PD_OND_residualisedhealthycontrol_SIMPLEMEDIAN_recall_Training_all_prodromals_Featureimportance.csv with shape (635, 3)\n",
      "Loaded PredictionsLASSORegression_proteins_residuals_PD_HC_residualisedhealthycontrol_SIMPLEMEDIAN_recall_Training_all_prodromals_Featureimportance.csv with shape (610, 3)\n",
      "Loaded PredictionsLASSORegression_proteins_cox_PD_SIMPLEMEDIAN_recall_Training_all_prodromals_Featureimportance.csv with shape (345, 3)\n",
      "Loaded PredictionsLASSORegression_proteins_cox_specificPD_SIMPLEMEDIAN_recall_Training_all_prodromals_Featureimportance.csv with shape (310, 3)\n",
      "Loaded PredictionsLASSORegression_proteins_matched_all_PD_HC_unique_SIMPLEMEDIAN_recall_Training_all_prodromals_Featureimportance.csv with shape (315, 3)\n",
      "Loaded PredictionsLASSORegression_proteins_matched_baseline_PD_HC_unique_SIMPLEMEDIAN_recall_Training_all_prodromals_Featureimportance.csv with shape (125, 3)\n",
      "Loaded PredictionsLASSORegression_proteins_residuals_PD_HC_unique_PD_OND_residualised_training_SIMPLEMEDIAN_recall_Training_all_prodromals_Featureimportance.csv with shape (565, 3)\n",
      "Loaded PredictionsLASSORegression_proteins_matched_prodromals_PD_HC_unique_SIMPLEMEDIAN_recall_Training_all_prodromals_Featureimportance.csv with shape (130, 3)\n",
      "Loaded PredictionsLASSORegression_proteins_matched_prodromals_PD_HC_SIMPLEMEDIAN_recall_Training_all_prodromals_Featureimportance.csv with shape (100, 3)\n",
      "Loaded PredictionsLASSORegression_PredictionsLightGBM_balanced_proteins_cox_specificPD_SIMPLEMEDIAN_recall_Training_all_prodromals_specificfeatures_SIMPLEMEDIAN_recall_Training_all_prodromals_Featureimportance.csv with shape (120, 3)\n"
     ]
    }
   ],
   "source": [
    "# Match all files ending with _Featureimportance.csv\n",
    "files = glob.glob(\"PredictionsLASSORegression_*_Featureimportance.csv\")\n",
    "\n",
    "# Read them into a dict of DataFrames\n",
    "dfs = {f: pd.read_csv(f) for f in files}\n",
    "\n",
    "# Example: access one\n",
    "for fname, df in dfs.items():\n",
    "    print(f\"Loaded {fname} with shape {df.shape}\")"
   ]
  },
  {
   "cell_type": "code",
   "execution_count": 8,
   "id": "ee846777-f208-4787-9504-27d5260b6c62",
   "metadata": {},
   "outputs": [
    {
     "data": {
      "text/plain": [
       "array(['ITGAV', 'BAG3', 'CLEC10A', 'ITGA11', 'ITGB2', 'HNMT', 'PTPRN2',\n",
       "       'SCG2', 'KLK8', 'ADGRG2', 'SETMAR', 'EPS8L2', 'IFNLR1', 'ITGB1',\n",
       "       'CD99', 'DCTPP1', 'LDLR', 'TNXB', 'RTBDN', 'IL13RA1', 'PLAU',\n",
       "       'ENG', 'ITGB5', 'FABP4', 'XG', 'CD209', 'ITGA5', 'FURIN', 'CALB2',\n",
       "       'TGFBI', 'IL16', 'CDON', 'PTPRF', 'NEFL', 'CCL27', 'ERBB3',\n",
       "       'COLEC12', 'L1CAM', 'TCL1A', 'EFNA4', 'ADAMTS15', 'MEGF9', 'HYOU1',\n",
       "       'RGMB', 'THBD', 'JAM2', 'TAFA5', 'CXCL17', 'NOMO1', 'TNFRSF13B',\n",
       "       'THOP1', 'COMP', 'DPP4', 'CD55', 'FCRL1', 'IGFBP7', 'CLEC4C',\n",
       "       'ERBB2', 'MARCO', 'LAYN', 'ENPP2', 'NOTCH1', 'FGFBP1', 'SMOC2',\n",
       "       'EFEMP1', 'CD34', 'CD22', 'CLEC1A', 'EZR', 'NTF4', 'KDR', 'SCLY',\n",
       "       'ROBO2', 'FST', 'TPPP3', 'CD93', 'OGFR', 'MYOC', 'ALCAM', 'CD276',\n",
       "       'KYNU', 'CRHBP', 'MEP1B', 'BLMH', 'GGH', 'TFPI', 'SELE', 'SSC4D',\n",
       "       'NPY', 'MET', 'PAMR1', 'CD59', 'PPY', 'ISM1', 'ANGPTL3', 'GPR37',\n",
       "       'SEMA3F', 'ST6GAL1', 'BOC', 'CLEC14A', 'MASP1', 'LRRN1', 'WARS',\n",
       "       'GUSB', 'TNFRSF21', 'SFTPD', 'CRTAC1', 'MATN2'], dtype=object)"
      ]
     },
     "execution_count": 8,
     "metadata": {},
     "output_type": "execute_result"
    }
   ],
   "source": [
    "dfs[\"PredictionsLASSORegression_proteins_residuals_PD_HC_unique_residualised_training_SIMPLEMEDIAN_recall_Training_all_prodromals_Featureimportance.csv\"][\"Feature\"].unique()"
   ]
  },
  {
   "cell_type": "code",
   "execution_count": 12,
   "id": "df22584e-a961-4cfd-8404-b25e813b7b2a",
   "metadata": {},
   "outputs": [],
   "source": [
    "df1 = dfs[\"PredictionsLASSORegression_proteins_residuals_PD_HC_unique_residualised_training_SIMPLEMEDIAN_recall_Training_all_prodromals_Featureimportance.csv\"]"
   ]
  },
  {
   "cell_type": "code",
   "execution_count": 19,
   "id": "96e35181-c26c-4c85-9c71-324442992c61",
   "metadata": {},
   "outputs": [
    {
     "name": "stdout",
     "output_type": "stream",
     "text": [
      "✅ Saved 62 features to PredictionsLASSORegression_proteins_residuals_PD_HC_unique_residualised_training_SIMPLEMEDIAN_recall_Training_all_prodromals_specificfeatures.txt\n",
      "✅ Saved 67 features to PredictionsLASSORegression_proteins_residuals_PD_HC_unique_PD_OND_residualisedhealthycontrol_SIMPLEMEDIAN_recall_Training_all_prodromals_specificfeatures.txt\n",
      "✅ Saved 16 features to PredictionsLASSORegression_proteins_matched_baseline_PD_HC_SIMPLEMEDIAN_recall_Training_all_prodromals_specificfeatures.txt\n",
      "✅ Saved 61 features to PredictionsLASSORegression_proteins_residuals_PD_HC_residualisedtraining_SIMPLEMEDIAN_recall_Training_all_prodromals_specificfeatures.txt\n",
      "✅ Saved 57 features to PredictionsLASSORegression_proteins_residuals_PD_HC_PD_OND_residualisedtraining_SIMPLEMEDIAN_recall_Training_all_prodromals_specificfeatures.txt\n",
      "✅ Saved 11 features to PredictionsLASSORegression_PredictionsLightGBM_balanced_proteins_matched_all_PD_HC_unique_SIMPLEMEDIAN_recall_Training_all_prodromals_specificfeatures_SIMPLEMEDIAN_recall_Training_all_prodromals_specificfeatures.txt\n",
      "✅ Saved 18 features to PredictionsLASSORegression_PredictionsLightGBM_balanced_proteins_matched_baseline_PD_HC_unique_SIMPLEMEDIAN_recall_Training_all_prodromals_specificfeatures_SIMPLEMEDIAN_recall_Training_all_prodromals_specificfeatures.txt\n",
      "✅ Saved 67 features to PredictionsLASSORegression_proteins_residuals_PD_HC_PD_OND_residualisedhealthycontrol_SIMPLEMEDIAN_recall_Training_all_prodromals_specificfeatures.txt\n",
      "✅ Saved 64 features to PredictionsLASSORegression_proteins_residuals_PD_HC_residualisedhealthycontrol_SIMPLEMEDIAN_recall_Training_all_prodromals_specificfeatures.txt\n",
      "✅ Saved 51 features to PredictionsLASSORegression_proteins_cox_PD_SIMPLEMEDIAN_recall_Training_all_prodromals_specificfeatures.txt\n",
      "✅ Saved 59 features to PredictionsLASSORegression_proteins_cox_specificPD_SIMPLEMEDIAN_recall_Training_all_prodromals_specificfeatures.txt\n",
      "✅ Saved 63 features to PredictionsLASSORegression_proteins_matched_all_PD_HC_unique_SIMPLEMEDIAN_recall_Training_all_prodromals_specificfeatures.txt\n",
      "✅ Saved 16 features to PredictionsLASSORegression_proteins_matched_baseline_PD_HC_unique_SIMPLEMEDIAN_recall_Training_all_prodromals_specificfeatures.txt\n",
      "✅ Saved 61 features to PredictionsLASSORegression_proteins_residuals_PD_HC_unique_PD_OND_residualised_training_SIMPLEMEDIAN_recall_Training_all_prodromals_specificfeatures.txt\n",
      "✅ Saved 22 features to PredictionsLASSORegression_proteins_matched_prodromals_PD_HC_unique_SIMPLEMEDIAN_recall_Training_all_prodromals_specificfeatures.txt\n",
      "✅ Saved 19 features to PredictionsLASSORegression_proteins_matched_prodromals_PD_HC_SIMPLEMEDIAN_recall_Training_all_prodromals_specificfeatures.txt\n",
      "✅ Saved 24 features to PredictionsLASSORegression_PredictionsLightGBM_balanced_proteins_cox_specificPD_SIMPLEMEDIAN_recall_Training_all_prodromals_specificfeatures_SIMPLEMEDIAN_recall_Training_all_prodromals_specificfeatures.txt\n"
     ]
    }
   ],
   "source": [
    "import pandas as pd\n",
    "import glob\n",
    "\n",
    "def save_selected_features(dfs):\n",
    "    \"\"\"\n",
    "    For each dataframe in dfs:\n",
    "      - extracts features with non-zero importance\n",
    "      - saves them to a corresponding .txt file\n",
    "\n",
    "    Parameters\n",
    "    ----------\n",
    "    dfs : dict\n",
    "        Dictionary of dataframes keyed by filename.\n",
    "    \"\"\"\n",
    "    for fname, df in dfs.items():\n",
    "        # Features with Importance == 0\n",
    "        zero_feats = df.loc[df[\"Importance\"] == 0, \"Feature\"].unique().tolist()\n",
    "\n",
    "        # Features that are not in zero_feats\n",
    "        selected_feats = df.loc[~df[\"Feature\"].isin(zero_feats), \"Feature\"].unique().tolist()\n",
    "\n",
    "        # Build output .txt filename (same as CSV but with .txt)\n",
    "        out_txt = fname.replace(\"_Featureimportance.csv\", \"_specificfeatures.txt\")\n",
    "\n",
    "        # Save to file\n",
    "        with open(out_txt, \"w\") as f:\n",
    "            for feat in selected_feats:\n",
    "                f.write(f\"{feat}\\n\")\n",
    "\n",
    "        print(f\"✅ Saved {len(selected_feats)} features to {out_txt}\")\n",
    "\n",
    "# --- Usage ---\n",
    "files = glob.glob(\"PredictionsLASSORegression*_*_recall_*Featureimportance.csv\")\n",
    "dfs = {f: pd.read_csv(f) for f in files}\n",
    "save_selected_features(dfs)\n"
   ]
  },
  {
   "cell_type": "code",
   "execution_count": null,
   "id": "0888379b-4efe-4542-8890-aac2cb37421f",
   "metadata": {},
   "outputs": [],
   "source": []
  }
 ],
 "metadata": {
  "kernelspec": {
   "display_name": "Python (test_env)",
   "language": "python",
   "name": "test_env"
  },
  "language_info": {
   "codemirror_mode": {
    "name": "ipython",
    "version": 3
   },
   "file_extension": ".py",
   "mimetype": "text/x-python",
   "name": "python",
   "nbconvert_exporter": "python",
   "pygments_lexer": "ipython3",
   "version": "3.10.0"
  }
 },
 "nbformat": 4,
 "nbformat_minor": 5
}
