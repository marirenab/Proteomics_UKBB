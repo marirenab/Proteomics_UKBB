{
 "cells": [
  {
   "cell_type": "code",
   "execution_count": 1,
   "id": "f264ae89-f61e-4075-88e8-10eedbcf2e52",
   "metadata": {},
   "outputs": [],
   "source": [
    "import pandas as pd\n",
    "import numpy as np\n",
    "import glob"
   ]
  },
  {
   "cell_type": "code",
   "execution_count": 2,
   "id": "e13d3334-f820-4808-978c-e22ad3206d92",
   "metadata": {},
   "outputs": [],
   "source": [
    "df = pd.read_csv(\"PredictionsLightGBM_balanced_proteins_cox_specificPD_SIMPLEMEDIAN_recall_Training_all_prodromals_Featureimportance.csv\")"
   ]
  },
  {
   "cell_type": "code",
   "execution_count": 1,
   "id": "ba96e2b3-17d2-4cba-b598-d8c82a3b8cea",
   "metadata": {},
   "outputs": [
    {
     "name": "stdout",
     "output_type": "stream",
     "text": [
      "✅ Saved 108 features to PredictionsLASSORegression_proteins_residuals_PD_HC_unique_residualised_training_SIMPLEMEDIAN_recall_Training_all_prodromals_specificfeatures.txt\n",
      "✅ Saved 116 features to PredictionsLASSORegression_proteins_residuals_PD_HC_unique_PD_OND_residualisedhealthycontrol_SIMPLEMEDIAN_recall_Training_all_prodromals_specificfeatures.txt\n",
      "✅ Saved 23 features to PredictionsLASSORegression_proteins_matched_baseline_PD_HC_SIMPLEMEDIAN_recall_Training_all_prodromals_specificfeatures.txt\n",
      "✅ Saved 112 features to PredictionsLASSORegression_proteins_residuals_PD_HC_residualisedtraining_SIMPLEMEDIAN_recall_Training_all_prodromals_specificfeatures.txt\n",
      "✅ Saved 109 features to PredictionsLASSORegression_proteins_residuals_PD_HC_PD_OND_residualisedtraining_SIMPLEMEDIAN_recall_Training_all_prodromals_specificfeatures.txt\n",
      "✅ Saved 127 features to PredictionsLASSORegression_proteins_residuals_PD_HC_PD_OND_residualisedhealthycontrol_SIMPLEMEDIAN_recall_Training_all_prodromals_specificfeatures.txt\n",
      "✅ Saved 116 features to PredictionsLASSORegression_proteins_residuals_PD_HC_residualisedhealthycontrol_SIMPLEMEDIAN_recall_Training_all_prodromals_specificfeatures.txt\n",
      "✅ Saved 69 features to PredictionsLASSORegression_proteins_cox_PD_SIMPLEMEDIAN_recall_Training_all_prodromals_specificfeatures.txt\n",
      "✅ Saved 62 features to PredictionsLASSORegression_proteins_cox_specificPD_SIMPLEMEDIAN_recall_Training_all_prodromals_specificfeatures.txt\n",
      "✅ Saved 7 features to PredictionsLASSORegression_proteins_matched_all_PD_HC_unique_SIMPLEMEDIAN_recall_Training_all_prodromals_specificfeatures.txt\n",
      "✅ Saved 25 features to PredictionsLASSORegression_proteins_matched_baseline_PD_HC_unique_SIMPLEMEDIAN_recall_Training_all_prodromals_specificfeatures.txt\n",
      "✅ Saved 113 features to PredictionsLASSORegression_proteins_residuals_PD_HC_unique_PD_OND_residualised_training_SIMPLEMEDIAN_recall_Training_all_prodromals_specificfeatures.txt\n",
      "✅ Saved 26 features to PredictionsLASSORegression_proteins_matched_prodromals_PD_HC_unique_SIMPLEMEDIAN_recall_Training_all_prodromals_specificfeatures.txt\n",
      "✅ Saved 20 features to PredictionsLASSORegression_proteins_matched_prodromals_PD_HC_SIMPLEMEDIAN_recall_Training_all_prodromals_specificfeatures.txt\n",
      "✅ Saved 8 features to PredictionsLASSORegression_PredictionsLightGBM_balanced_proteins_cox_specificPD_SIMPLEMEDIAN_recall_Training_all_prodromals_specificfeatures_SIMPLEMEDIAN_recall_Training_all_prodromals_specificfeatures.txt\n"
     ]
    }
   ],
   "source": [
    "import pandas as pd\n",
    "import glob\n",
    "\n",
    "def save_selected_features(dfs, rel_thresh=0.5):\n",
    "    \"\"\"\n",
    "    Save selected features based on importance:\n",
    "      - If any zero features exist: keep all non-zero features.\n",
    "      - If no zero features: keep only features with Importance >= rel_thresh * max importance.\n",
    "\n",
    "    Parameters\n",
    "    ----------\n",
    "    dfs : dict\n",
    "        Dictionary of dataframes keyed by filename.\n",
    "    rel_thresh : float\n",
    "        Relative importance threshold (fraction of max importance) when no zeros exist.\n",
    "    \"\"\"\n",
    "    for fname, df in dfs.items():\n",
    "        # Check for zero importance features\n",
    "        zero_feats = df.loc[df[\"Importance\"] == 0, \"Feature\"].unique().tolist()\n",
    "\n",
    "        if zero_feats:\n",
    "            # Case 1: zeros exist → keep only non-zero features\n",
    "            selected_feats = df.loc[df[\"Importance\"] > 0, \"Feature\"].unique().tolist()\n",
    "        else:\n",
    "            # Case 2: no zeros → keep only features above relative threshold\n",
    "            max_imp = df[\"Importance\"].max()\n",
    "            selected_feats = df.loc[df[\"Importance\"] >= rel_thresh * max_imp, \"Feature\"].unique().tolist()\n",
    "\n",
    "        if selected_feats:\n",
    "            # Build output filename\n",
    "            out_txt = fname.replace(\"_Featureimportance.csv\", \"_specificfeatures.txt\")\n",
    "\n",
    "            # Save to file\n",
    "            #with open(out_txt, \"w\") as f:\n",
    "               # for feat in selected_feats:\n",
    "                #    f.write(f\"{feat}\\n\")\n",
    "\n",
    "            print(f\"✅ Saved {len(selected_feats)} features to {out_txt}\")\n",
    "        else:\n",
    "            print(f\"⚠️ No features selected for {fname}, file not saved.\")\n",
    "\n",
    "# --- Usage ---\n",
    "files = glob.glob(\"PredictionsLASSORegression*_*_recall_*_Featureimportance.csv\")\n",
    "dfs = {f: pd.read_csv(f) for f in files}\n",
    "save_selected_features(dfs)\n"
   ]
  },
  {
   "cell_type": "code",
   "execution_count": 3,
   "id": "bdd1e6c8-c63c-4a2f-8286-4d2120d1034d",
   "metadata": {},
   "outputs": [
    {
     "name": "stdout",
     "output_type": "stream",
     "text": [
      "Loaded PredictionsLightGBM_balanced_proteins_matched_prodromals_PD_HC_unique_SIMPLEMEDIAN_recall_Training_all_prodromals_Featureimportance.csv with shape (130, 3)\n",
      "Loaded PredictionsLightGBM_balanced_proteins_residuals_PD_HC_residualisedtraining_SIMPLEMEDIAN_recall_Training_all_prodromals_Featureimportance.csv with shape (560, 3)\n",
      "Loaded PredictionsLightGBM_balanced_proteins_cox_PD_SIMPLEMEDIAN_recall_Training_all_prodromals_Featureimportance.csv with shape (345, 3)\n",
      "Loaded PredictionsLightGBM_balanced_proteins_residuals_PD_HC_unique_PD_OND_residualised_training_SIMPLEMEDIAN_recall_Training_all_prodromals_Featureimportance.csv with shape (565, 3)\n",
      "Loaded PredictionsLightGBM_balanced_proteins_matched_all_PD_HC_unique_SIMPLEMEDIAN_recall_Training_all_prodromals_Featureimportance.csv with shape (315, 3)\n",
      "Loaded PredictionsLightGBM_balanced_proteins_matched_prodromals_PD_HC_SIMPLEMEDIAN_recall_Training_all_prodromals_Featureimportance.csv with shape (100, 3)\n",
      "Loaded PredictionsLightGBM_balanced_proteins_residuals_PD_HC_residualisedhealthycontrol_SIMPLEMEDIAN_recall_Training_all_prodromals_Featureimportance.csv with shape (610, 3)\n",
      "Loaded PredictionsLightGBM_balanced_proteins_cox_specificPD_SIMPLEMEDIAN_recall_Training_all_prodromals_Featureimportance.csv with shape (310, 3)\n",
      "Loaded PredictionsLightGBM_balanced_proteins_residuals_PD_HC_unique_PD_OND_residualisedhealthycontrol_SIMPLEMEDIAN_recall_Training_all_prodromals_Featureimportance.csv with shape (605, 3)\n",
      "Loaded PredictionsLightGBM_sqr_proteins_cox_specificPD_SIMPLEMEDIAN_recall_Training_all_prodromals_Featureimportance.csv with shape (310, 3)\n",
      "Loaded PredictionsLightGBM_balanced_proteins_residuals_PD_HC_PD_OND_residualisedtraining_SIMPLEMEDIAN_recall_Training_all_prodromals_Featureimportance.csv with shape (585, 3)\n",
      "Loaded PredictionsLightGBM_balanced_proteins_residuals_PD_HC_unique_residualised_training_SIMPLEMEDIAN_recall_Training_all_prodromals_Featureimportance.csv with shape (540, 3)\n",
      "Loaded PredictionsLightGBM_balanced_proteins_matched_baseline_PD_HC_unique_SIMPLEMEDIAN_recall_Training_all_prodromals_Featureimportance.csv with shape (125, 3)\n",
      "Loaded PredictionsLightGBM_balanced_proteins_residuals_PD_HC_PD_OND_residualisedhealthycontrol_SIMPLEMEDIAN_recall_Training_all_prodromals_Featureimportance.csv with shape (635, 3)\n",
      "Loaded PredictionsLightGBM_balanced_proteins_matched_baseline_PD_HC_SIMPLEMEDIAN_recall_Training_all_prodromals_Featureimportance.csv with shape (115, 3)\n"
     ]
    }
   ],
   "source": [
    "# Match all files ending with _Featureimportance.csv\n",
    "files = glob.glob(\"PredictionsLightGBM*_*_Featureimportance.csv\")\n",
    "\n",
    "# Read them into a dict of DataFrames\n",
    "dfs = {f: pd.read_csv(f) for f in files}\n",
    "\n",
    "# Example: access one\n",
    "for fname, df in dfs.items():\n",
    "    print(f\"Loaded {fname} with shape {df.shape}\")"
   ]
  },
  {
   "cell_type": "code",
   "execution_count": 4,
   "id": "fdc355ba-9a7c-4025-857a-18f10f7cb365",
   "metadata": {},
   "outputs": [],
   "source": [
    "features_toremove = df[df[\"Importance\"] == 0][\"Feature\"].unique().tolist()"
   ]
  },
  {
   "cell_type": "code",
   "execution_count": 5,
   "id": "ee846777-f208-4787-9504-27d5260b6c62",
   "metadata": {},
   "outputs": [
    {
     "data": {
      "text/plain": [
       "['CLEC1A', 'ITGAV', 'KLK8', 'PLAU', 'RTBDN', 'ITGAM']"
      ]
     },
     "execution_count": 5,
     "metadata": {},
     "output_type": "execute_result"
    }
   ],
   "source": [
    "features_toremove"
   ]
  },
  {
   "cell_type": "code",
   "execution_count": 6,
   "id": "f4186241-39df-4bb0-af49-756b8e404c83",
   "metadata": {},
   "outputs": [],
   "source": [
    "unique_features = set(df[\"Feature\"].unique().tolist()) - set(features_toremove)"
   ]
  },
  {
   "cell_type": "code",
   "execution_count": 7,
   "id": "e1f394a7-0bd3-4822-bbc3-5194d60b5790",
   "metadata": {},
   "outputs": [
    {
     "data": {
      "text/plain": [
       "17"
      ]
     },
     "execution_count": 7,
     "metadata": {},
     "output_type": "execute_result"
    }
   ],
   "source": [
    "len(unique_features)"
   ]
  },
  {
   "cell_type": "code",
   "execution_count": 8,
   "id": "96e35181-c26c-4c85-9c71-324442992c61",
   "metadata": {},
   "outputs": [
    {
     "name": "stdout",
     "output_type": "stream",
     "text": [
      "✅ Saved 1 features to PredictionsLightGBM_balanced_proteins_matched_prodromals_PD_HC_unique_SIMPLEMEDIAN_recall_Training_all_prodromals_specificfeatures.txt\n",
      "✅ Saved 3 features to PredictionsLightGBM_balanced_proteins_residuals_PD_HC_residualisedtraining_SIMPLEMEDIAN_recall_Training_all_prodromals_specificfeatures.txt\n",
      "✅ Saved 4 features to PredictionsLightGBM_balanced_proteins_cox_PD_SIMPLEMEDIAN_recall_Training_all_prodromals_specificfeatures.txt\n",
      "✅ Saved 3 features to PredictionsLightGBM_balanced_proteins_residuals_PD_HC_unique_PD_OND_residualised_training_SIMPLEMEDIAN_recall_Training_all_prodromals_specificfeatures.txt\n",
      "✅ Saved 11 features to PredictionsLightGBM_balanced_proteins_matched_all_PD_HC_unique_SIMPLEMEDIAN_recall_Training_all_prodromals_specificfeatures.txt\n",
      "✅ Saved 1 features to PredictionsLightGBM_balanced_proteins_matched_prodromals_PD_HC_SIMPLEMEDIAN_recall_Training_all_prodromals_specificfeatures.txt\n",
      "✅ Saved 3 features to PredictionsLightGBM_balanced_proteins_residuals_PD_HC_residualisedhealthycontrol_SIMPLEMEDIAN_recall_Training_all_prodromals_specificfeatures.txt\n",
      "✅ Saved 24 features to PredictionsLightGBM_balanced_proteins_cox_specificPD_SIMPLEMEDIAN_recall_Training_all_prodromals_specificfeatures.txt\n",
      "✅ Saved 4 features to PredictionsLightGBM_balanced_proteins_residuals_PD_HC_unique_PD_OND_residualisedhealthycontrol_SIMPLEMEDIAN_recall_Training_all_prodromals_specificfeatures.txt\n",
      "✅ Saved 36 features to PredictionsLightGBM_sqr_proteins_cox_specificPD_SIMPLEMEDIAN_recall_Training_all_prodromals_specificfeatures.txt\n",
      "✅ Saved 3 features to PredictionsLightGBM_balanced_proteins_residuals_PD_HC_PD_OND_residualisedtraining_SIMPLEMEDIAN_recall_Training_all_prodromals_specificfeatures.txt\n",
      "✅ Saved 3 features to PredictionsLightGBM_balanced_proteins_residuals_PD_HC_unique_residualised_training_SIMPLEMEDIAN_recall_Training_all_prodromals_specificfeatures.txt\n",
      "✅ Saved 20 features to PredictionsLightGBM_balanced_proteins_matched_baseline_PD_HC_unique_SIMPLEMEDIAN_recall_Training_all_prodromals_specificfeatures.txt\n",
      "✅ Saved 3 features to PredictionsLightGBM_balanced_proteins_residuals_PD_HC_PD_OND_residualisedhealthycontrol_SIMPLEMEDIAN_recall_Training_all_prodromals_specificfeatures.txt\n",
      "✅ Saved 17 features to PredictionsLightGBM_balanced_proteins_matched_baseline_PD_HC_SIMPLEMEDIAN_recall_Training_all_prodromals_specificfeatures.txt\n"
     ]
    }
   ],
   "source": [
    "import pandas as pd\n",
    "import glob\n",
    "\n",
    "def save_selected_features(dfs):\n",
    "    \"\"\"\n",
    "    For each dataframe in dfs:\n",
    "      - extracts features with non-zero importance\n",
    "      - saves them to a corresponding .txt file\n",
    "\n",
    "    Parameters\n",
    "    ----------\n",
    "    dfs : dict\n",
    "        Dictionary of dataframes keyed by filename.\n",
    "    \"\"\"\n",
    "    for fname, df in dfs.items():\n",
    "        # Features with Importance == 0\n",
    "        zero_feats = df.loc[df[\"Importance\"] == 0, \"Feature\"].unique().tolist()\n",
    "\n",
    "        # Features that are not in zero_feats\n",
    "        selected_feats = df.loc[~df[\"Feature\"].isin(zero_feats), \"Feature\"].unique().tolist()\n",
    "\n",
    "        # Build output .txt filename (same as CSV but with .txt)\n",
    "        out_txt = fname.replace(\"_Featureimportance.csv\", \"_specificfeatures.txt\")\n",
    "\n",
    "        # Save to file\n",
    "        with open(out_txt, \"w\") as f:\n",
    "            for feat in selected_feats:\n",
    "                f.write(f\"{feat}\\n\")\n",
    "\n",
    "        print(f\"✅ Saved {len(selected_feats)} features to {out_txt}\")\n",
    "\n",
    "# --- Usage ---\n",
    "files = glob.glob(\"PredictionsLightGBM*_*_Featureimportance.csv\")\n",
    "dfs = {f: pd.read_csv(f) for f in files}\n",
    "save_selected_features(dfs)\n"
   ]
  },
  {
   "cell_type": "code",
   "execution_count": null,
   "id": "f80897e2-4a98-4eb0-998c-0522b06f00d1",
   "metadata": {},
   "outputs": [],
   "source": []
  }
 ],
 "metadata": {
  "kernelspec": {
   "display_name": "Python (test_env)",
   "language": "python",
   "name": "test_env"
  },
  "language_info": {
   "codemirror_mode": {
    "name": "ipython",
    "version": 3
   },
   "file_extension": ".py",
   "mimetype": "text/x-python",
   "name": "python",
   "nbconvert_exporter": "python",
   "pygments_lexer": "ipython3",
   "version": "3.10.0"
  }
 },
 "nbformat": 4,
 "nbformat_minor": 5
}
