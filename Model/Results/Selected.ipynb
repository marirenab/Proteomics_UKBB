{
 "cells": [
  {
   "cell_type": "code",
   "execution_count": 1,
   "id": "f264ae89-f61e-4075-88e8-10eedbcf2e52",
   "metadata": {},
   "outputs": [],
   "source": [
    "import pandas as pd\n",
    "import numpy as np\n",
    "import glob"
   ]
  },
  {
   "cell_type": "code",
   "execution_count": 14,
   "id": "96e35181-c26c-4c85-9c71-324442992c61",
   "metadata": {},
   "outputs": [],
   "source": [
    "import pandas as pd\n",
    "import glob\n",
    "\n",
    "def save_selected_features(dfs, rel_thresh=0.01, freq_thresh=0.5):\n",
    "    \"\"\"\n",
    "    For each dataset:\n",
    "      - Keeps features with relative importance >= rel_thresh * max importance (per fold).\n",
    "      - Aggregates across folds and keeps features appearing in >= freq_thresh fraction of folds.\n",
    "      - Saves stable features to .txt.\n",
    "\n",
    "    Parameters\n",
    "    ----------\n",
    "    dfs : dict\n",
    "        Dictionary of dataframes keyed by filename.\n",
    "    rel_thresh : float\n",
    "        Relative threshold (fraction of max importance within each fold).\n",
    "    freq_thresh : float\n",
    "        Minimum fraction of folds a feature must appear in to be kept.\n",
    "    \"\"\"\n",
    "    for fname, df in dfs.items():\n",
    "        if \"Fold\" not in df.columns:\n",
    "            raise ValueError(f\"{fname} needs a 'Fold' column for cross-validation info\")\n",
    "\n",
    "        stable_features = []\n",
    "\n",
    "        # Check across folds\n",
    "        folds = df[\"Fold\"].unique()\n",
    "        feat_counts = {}\n",
    "\n",
    "        for fold in folds:\n",
    "            fold_df = df[df[\"Fold\"] == fold]\n",
    "            max_imp = fold_df[\"Importance\"].max()\n",
    "\n",
    "            # Relative importance filter\n",
    "            selected = fold_df.loc[fold_df[\"Importance\"] >= rel_thresh * max_imp, \"Feature\"]\n",
    "\n",
    "            for feat in selected:\n",
    "                feat_counts[feat] = feat_counts.get(feat, 0) + 1\n",
    "\n",
    "        # Keep features that appear in enough folds\n",
    "        n_folds = len(folds)\n",
    "        stable_features = [f for f, count in feat_counts.items() if count / n_folds >= freq_thresh]\n",
    "\n",
    "        # Output file\n",
    "        out_txt = fname.replace(\"_Featureimportance.csv\", \"_stablefeatures.txt\")\n",
    "\n",
    "        with open(out_txt, \"w\") as f:\n",
    "            for feat in stable_features:\n",
    "                f.write(f\"{feat}\\n\")\n",
    "\n",
    "        print(f\"✅ Saved {len(stable_features)} for {fname} stable features (rel>{rel_thresh}, freq>{freq_thresh}) to {out_txt}\")\n",
    "\n",
    "\n"
   ]
  },
  {
   "cell_type": "code",
   "execution_count": 34,
   "id": "ac3a7f0a-c146-478f-8848-8e24922b6991",
   "metadata": {},
   "outputs": [
    {
     "name": "stdout",
     "output_type": "stream",
     "text": [
      "✅ Saved 29 features to PredictionsLASSORegression_proteins_residuals_PD_HC_unique_residualised_training_SIMPLEMEDIAN_recall_Training_all_prodromals_specificfeatures.txt\n",
      "✅ Saved 16 features to PredictionsLASSORegression_proteins_residuals_PD_HC_unique_PD_OND_residualisedhealthycontrol_SIMPLEMEDIAN_recall_Training_all_prodromals_specificfeatures.txt\n",
      "✅ Saved 23 features to PredictionsLASSORegression_proteins_matched_baseline_PD_HC_SIMPLEMEDIAN_recall_Training_all_prodromals_specificfeatures.txt\n",
      "✅ Saved 21 features to PredictionsLASSORegression_proteins_residuals_PD_HC_residualisedtraining_SIMPLEMEDIAN_recall_Training_all_prodromals_specificfeatures.txt\n",
      "✅ Saved 7 features to PredictionsLASSORegression_proteins_residuals_PD_HC_PD_OND_residualisedtraining_SIMPLEMEDIAN_recall_Training_all_prodromals_specificfeatures.txt\n",
      "✅ Saved 7 features to PredictionsLASSORegression_proteins_residuals_PD_HC_PD_OND_residualisedhealthycontrol_SIMPLEMEDIAN_recall_Training_all_prodromals_specificfeatures.txt\n",
      "✅ Saved 33 features to PredictionsLASSORegression_proteins_residuals_PD_HC_residualisedhealthycontrol_SIMPLEMEDIAN_recall_Training_all_prodromals_specificfeatures.txt\n",
      "✅ Saved 5 features to PredictionsLASSORegression_proteins_cox_PD_SIMPLEMEDIAN_recall_Training_all_prodromals_specificfeatures.txt\n",
      "✅ Saved 20 features to PredictionsLASSORegression_proteins_cox_specificPD_SIMPLEMEDIAN_recall_Training_all_prodromals_specificfeatures.txt\n",
      "✅ Saved 63 features to PredictionsLASSORegression_proteins_matched_all_PD_HC_unique_SIMPLEMEDIAN_recall_Training_all_prodromals_specificfeatures.txt\n",
      "✅ Saved 25 features to PredictionsLASSORegression_proteins_matched_baseline_PD_HC_unique_SIMPLEMEDIAN_recall_Training_all_prodromals_specificfeatures.txt\n",
      "✅ Saved 26 features to PredictionsLASSORegression_proteins_residuals_PD_HC_unique_PD_OND_residualised_training_SIMPLEMEDIAN_recall_Training_all_prodromals_specificfeatures.txt\n",
      "✅ Saved 26 features to PredictionsLASSORegression_proteins_matched_prodromals_PD_HC_unique_SIMPLEMEDIAN_recall_Training_all_prodromals_specificfeatures.txt\n",
      "✅ Saved 1 features to PredictionsLASSORegression_proteins_matched_prodromals_PD_HC_SIMPLEMEDIAN_recall_Training_all_prodromals_specificfeatures.txt\n"
     ]
    }
   ],
   "source": [
    "import pandas as pd\n",
    "import glob\n",
    "\n",
    "def save_selected_features(dfs, rel_thresh=0.5):\n",
    "    \"\"\"\n",
    "    Save selected features based on importance:\n",
    "      - If any zero features exist: keep all non-zero features.\n",
    "      - If no zero features: keep only features with Importance >= rel_thresh * max importance.\n",
    "\n",
    "    Parameters\n",
    "    ----------\n",
    "    dfs : dict\n",
    "        Dictionary of dataframes keyed by filename.\n",
    "    rel_thresh : float\n",
    "        Relative importance threshold (fraction of max importance) when no zeros exist.\n",
    "    \"\"\"\n",
    "    for fname, df in dfs.items():\n",
    "        # Check for zero importance features\n",
    "        zero_feats = df.loc[df[\"Importance\"] == 0, \"Feature\"].unique().tolist()\n",
    "\n",
    "        if zero_feats:\n",
    "            # Case 1: zeros exist → keep only non-zero features\n",
    "            selected_feats = df.loc[df[\"Importance\"] > 0, \"Feature\"].unique().tolist()\n",
    "        else:\n",
    "            # Case 2: no zeros → keep only features above relative threshold\n",
    "            max_imp = df[\"Importance\"].max()\n",
    "            selected_feats = df.loc[df[\"Importance\"] >= rel_thresh * max_imp, \"Feature\"].unique().tolist()\n",
    "\n",
    "        if selected_feats:\n",
    "            # Build output filename\n",
    "            out_txt = fname.replace(\"_Featureimportance.csv\", \"_specificfeatures.txt\")\n",
    "\n",
    "            # Save to file\n",
    "            with open(out_txt, \"w\") as f:\n",
    "                for feat in selected_feats:\n",
    "                    f.write(f\"{feat}\\n\")\n",
    "\n",
    "            print(f\"✅ Saved {len(selected_feats)} features to {out_txt}\")\n",
    "        else:\n",
    "            print(f\"⚠️ No features selected for {fname}, file not saved.\")\n",
    "\n",
    "# --- Usage ---\n",
    "files = glob.glob(\"PredictionsLASSORegression*_*_recall_*_Featureimportance.csv\")\n",
    "dfs = {f: pd.read_csv(f) for f in files}\n",
    "save_selected_features(dfs)\n"
   ]
  },
  {
   "cell_type": "code",
   "execution_count": 35,
   "id": "af3e8c7e-728f-402e-bbcf-2ef1db8668ae",
   "metadata": {},
   "outputs": [
    {
     "name": "stdout",
     "output_type": "stream",
     "text": [
      "✅ Saved 5 features to PredictionsLightGBM_balanced_proteins_matched_prodromals_PD_HC_unique_SIMPLEMEDIAN_recall_Training_all_prodromals_specificfeatures.txt\n",
      "✅ Saved 5 features to PredictionsLightGBM_balanced_proteins_residuals_PD_HC_unique_PD_OND_residualised_training_SIMPLEMEDIAN_recall_Training_all_prodromals_specificfeatures.txt\n",
      "✅ Saved 5 features to PredictionsLightGBM_balanced_proteins_matched_prodromals_PD_HC_SIMPLEMEDIAN_recall_Training_all_prodromals_specificfeatures.txt\n",
      "✅ Saved 6 features to PredictionsLightGBM_balanced_proteins_residuals_PD_HC_residualisedhealthycontrol_SIMPLEMEDIAN_recall_Training_all_prodromals_specificfeatures.txt\n",
      "✅ Saved 14 features to PredictionsLightGBM_balanced_proteins_cox_specificPD_SIMPLEMEDIAN_recall_Training_all_prodromals_specificfeatures.txt\n",
      "✅ Saved 5 features to PredictionsLightGBM_balanced_proteins_residuals_PD_HC_unique_residualised_training_SIMPLEMEDIAN_recall_Training_all_prodromals_specificfeatures.txt\n",
      "✅ Saved 9 features to PredictionsLightGBM_balanced_proteins_matched_baseline_PD_HC_SIMPLEMEDIAN_recall_Training_all_prodromals_specificfeatures.txt\n"
     ]
    }
   ],
   "source": [
    "# --- Usage ---\n",
    "files = glob.glob(\"PredictionsLightGBM*_*_recall_*_Featureimportance.csv\")\n",
    "dfs = {f: pd.read_csv(f) for f in files}\n",
    "save_selected_features(dfs)\n"
   ]
  },
  {
   "cell_type": "code",
   "execution_count": null,
   "id": "22afb93d-fdc8-4721-9d37-14678fea854c",
   "metadata": {},
   "outputs": [],
   "source": []
  }
 ],
 "metadata": {
  "kernelspec": {
   "display_name": "Python (test_env)",
   "language": "python",
   "name": "test_env"
  },
  "language_info": {
   "codemirror_mode": {
    "name": "ipython",
    "version": 3
   },
   "file_extension": ".py",
   "mimetype": "text/x-python",
   "name": "python",
   "nbconvert_exporter": "python",
   "pygments_lexer": "ipython3",
   "version": "3.10.0"
  }
 },
 "nbformat": 4,
 "nbformat_minor": 5
}
