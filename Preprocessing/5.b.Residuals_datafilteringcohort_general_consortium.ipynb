{
 "cells": [
  {
   "cell_type": "code",
   "execution_count": null,
   "metadata": {},
   "outputs": [],
   "source": [
    "import pandas as pd\n",
    "import numpy as np\n",
    "import seaborn as sns \n",
    "import matplotlib.pyplot as plt\n",
    "import statsmodels.formula.api as smf"
   ]
  },
  {
   "cell_type": "code",
   "execution_count": null,
   "metadata": {},
   "outputs": [],
   "source": [
    "import pandas as pd\n",
    "\n",
    "# Load residuals\n",
    "residuals = pd.read_csv(\"Residualised_general_pickedall.csv\")\n",
    "residualstesting = pd.read_csv(\"Testing_data_residualstraining.csv\")\n",
    "# Training sets\n",
    "training_all = pd.read_csv(\"Training_all.csv\")  # has [\"eid\", \"Diagnosis\"]\n",
    "training_eids = training_all[\"eid\"].tolist()\n",
    "diagnosis_dict = dict(zip(training_all[\"eid\"], training_all[\"Diagnosis\"]))\n",
    "\n",
    "training_neuro_eids = pd.read_csv(\"Training_neurodegenerative.csv\")[\"eid\"].tolist()\n",
    "training_hc_eids = pd.read_csv(\"Training_healthycontrol.csv\")[\"eid\"].tolist()\n",
    "\n",
    "# Testing set (has its own diagnosis column)\n",
    "testing_all = pd.read_csv(\"Testing_all.csv\")  # has [\"eid\", \"Diagnosis\"]\n",
    "testing_eids = testing_all[\"eid\"].tolist()\n",
    "testing_dict = dict(zip(testing_all[\"eid\"], testing_all[\"Diagnosis\"]))\n",
    "\n",
    "# Subset residuals\n",
    "\n",
    "\n",
    "residuals_neuro_training = residuals[residuals[\"eid\"].isin(training_neuro_eids)]\n",
    "residuals_hc_training = residuals[residuals[\"eid\"].isin(training_hc_eids)]\n",
    "residuals_training_all = residuals[residuals[\"eid\"].isin(training_eids)]\n",
    "residuals_testing = residualstesting[residualstesting[\"eid\"].isin(testing_eids)]\n",
    "\n",
    "# Add diagnosis to training splits\n",
    "for df in [residuals_neuro_training, residuals_hc_training, residuals_training_all]:\n",
    "    df[\"Diagnosis\"] = df[\"eid\"].map(diagnosis_dict)\n",
    "\n",
    "# Add diagnosis to testing split (different source)\n",
    "residuals_testing[\"Diagnosis\"] = residuals_testing[\"eid\"].map(testing_dict)\n",
    "\n",
    "residuals_neuro_training.to_csv(\"Training_residualsgeneral_neurodegenerative.csv\", index=False)\n",
    "residuals_hc_training.to_csv(\"Training_residualssgeneral_healthycontrol.csv\", index=False)\n",
    "residuals_training_all.to_csv(\"Training_residualssgeneral_all.csv\", index=False)\n",
    "residuals_testing.to_csv(\"Testing_residualstsgeneral_all.csv\", index=False)\n"
   ]
  }
 ],
 "metadata": {
  "kernelspec": {
   "display_name": "Python (test_env)",
   "language": "python",
   "name": "test_env"
  },
  "language_info": {
   "codemirror_mode": {
    "name": "ipython",
    "version": 3
   },
   "file_extension": ".py",
   "mimetype": "text/x-python",
   "name": "python",
   "nbconvert_exporter": "python",
   "pygments_lexer": "ipython3",
   "version": "3.10.5"
  }
 },
 "nbformat": 4,
 "nbformat_minor": 4
}
