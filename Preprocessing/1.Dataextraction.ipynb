{
 "cells": [
  {
   "cell_type": "code",
   "execution_count": null,
   "metadata": {},
   "outputs": [],
   "source": [
    "import pandas as pd\n",
    "import numpy as np\n",
    "import seaborn as sns \n",
    "import matplotlib.pyplot as plt\n",
    "import joblib\n",
    "from sklearn import linear_model\n",
    "from sklearn.model_selection import GridSearchCV, KFold\n",
    "from sklearn.preprocessing import StandardScaler"
   ]
  },
  {
   "cell_type": "code",
   "execution_count": null,
   "metadata": {},
   "outputs": [],
   "source": [
    "path_rds_diagnoses = \"/rds/general/user/meb22/projects/ukbiobank/live/ukbiobank/data_2025/UKBB_diagnoses_Jun2025/processed/diagnoses_extracted\""
   ]
  },
  {
   "cell_type": "code",
   "execution_count": null,
   "metadata": {},
   "outputs": [],
   "source": [
    "df = pd.read_table(\"/rds/general/user/meb22/projects/ukbiobank/live/ukbiobank/omics/olink_data.txt\")\n",
    "df = df[df[\"ins_index\"]==0]\n",
    "codings = pd.read_csv('/rds/general/user/meb22/projects/ukbiobank/live/ukbiobank/codings/coding143.tsv', sep='\\t')\n",
    "codings[['protein_abbr','protein_name']] = codings['meaning'].str.split(';',expand=True).rename(columns={0:'protein_abbr',1:'protein_name'})\n",
    "codings.rename(columns={\"coding\":\"protein_id\"},inplace=True)\n",
    "df_merged = pd.merge(codings, df, on=[\"protein_id\"])\n",
    "df_merged.rename(columns={\"result\":\"Expression levels\"},inplace=True)\n",
    "df_merged = df_merged[df_merged[\"ins_index\"] == 0]\n",
    "df_merged = df_merged[[\"eid\",\"protein_abbr\",\"Expression levels\"]]\n"
   ]
  },
  {
   "cell_type": "code",
   "execution_count": null,
   "metadata": {},
   "outputs": [],
   "source": [
    "all_proteins = df_merged[\"protein_abbr\"].unique().tolist()"
   ]
  },
  {
   "cell_type": "code",
   "execution_count": null,
   "metadata": {},
   "outputs": [],
   "source": [
    "with open(\"all_proteins.txt\", \"w\") as f:\n",
    "    for item in all_proteins:\n",
    "        f.write(f\"{item}\\n\")"
   ]
  },
  {
   "cell_type": "code",
   "execution_count": null,
   "metadata": {},
   "outputs": [],
   "source": [
    "withdrawn = pd.read_csv(\"../Feature_selection_ligh/withdrawnparticipants.csv\")\n",
    "first_col_name = withdrawn.columns[0]\n",
    "ids_withdrawn_list = [first_col_name] + withdrawn.iloc[:, 0].tolist()"
   ]
  },
  {
   "cell_type": "code",
   "execution_count": null,
   "metadata": {},
   "outputs": [],
   "source": [
    "len(ids_withdrawn_list)"
   ]
  },
  {
   "cell_type": "code",
   "execution_count": null,
   "metadata": {},
   "outputs": [],
   "source": [
    "df_merged = df_merged[~df_merged[\"eid\"].isin(ids_withdrawn_list)]\n",
    "proteomics_df =  df_merged.pivot_table(index=['eid'], columns='protein_abbr', values='Expression levels').reset_index()"
   ]
  },
  {
   "cell_type": "code",
   "execution_count": null,
   "metadata": {},
   "outputs": [],
   "source": [
    "covariates = pd.read_csv(\"/rds/general/user/meb22/projects/ukbiobank/live/ukbiobank/data_2025/proteomics/Processed_all_covariates.csv\").iloc[:,1:]\n",
    "\n",
    "covariate_cols = [\"Age\",\"Sex\",\"Ethnicity\",\"BMI\",\"Season\",\"fasting_time\",\"sample_age\",\"smoking\",\"alcohol\",\"Season\"]"
   ]
  },
  {
   "cell_type": "code",
   "execution_count": null,
   "metadata": {},
   "outputs": [],
   "source": [
    "covariates[covariate_cols].isna().sum()"
   ]
  },
  {
   "cell_type": "code",
   "execution_count": null,
   "metadata": {},
   "outputs": [],
   "source": [
    "covariates = covariates.dropna(subset=covariate_cols)"
   ]
  },
  {
   "cell_type": "code",
   "execution_count": null,
   "metadata": {},
   "outputs": [],
   "source": [
    "proteomics_df = proteomics_df[proteomics_df[\"eid\"].isin(covariates[\"eid\"])]"
   ]
  },
  {
   "cell_type": "code",
   "execution_count": null,
   "metadata": {},
   "outputs": [],
   "source": [
    "proteomics_ids = proteomics_df[\"eid\"].unique().tolist()"
   ]
  },
  {
   "cell_type": "code",
   "execution_count": null,
   "metadata": {},
   "outputs": [],
   "source": [
    "len(proteomics_ids)"
   ]
  },
  {
   "cell_type": "code",
   "execution_count": null,
   "metadata": {},
   "outputs": [],
   "source": [
    "# Load each disease DataFrame\n",
    "pd_df =  pd.read_csv(f\"{path_rds_diagnoses}/Parkinson.csv\").iloc[:, 1:]\n",
    "ad_df = pd.read_csv(f\"{path_rds_diagnoses}/AlzheimersDisease.csv\").iloc[:, 1:]\n",
    "vd_df = pd.read_csv(f\"{path_rds_diagnoses}/VascularDementia.csv\").iloc[:, 1:]\n",
    "msa_df = pd.read_csv(f\"{path_rds_diagnoses}/MSA.csv\").iloc[:, 1:]\n",
    "pnp_df = pd.read_csv(f\"{path_rds_diagnoses}/PNP.csv\").iloc[:, 1:]\n",
    "ftd_df = pd.read_csv(f\"{path_rds_diagnoses}/frontotemporaldementia.csv\")\n",
    "ht_df = pd.read_csv(f\"{path_rds_diagnoses}/huntingtondisease.csv\")\n",
    "allcauseparkinsonism_df = pd.read_csv(f\"{path_rds_diagnoses}/AllCauseParkinsonism.csv\")\n",
    "ms_df = pd.read_csv(f\"{path_rds_diagnoses}/multiple_sclerosis.csv\")\n",
    "hc_df = pd.read_csv(f\"{path_rds_diagnoses}/Not_neurological_noantiparkinsonismdrug.csv\").iloc[:, 1:]\n",
    "\n",
    "# Assign disease name and unify the date column\n",
    "def prepare_df(df, disease_label, date_col=\"date_diagnosis\"):\n",
    "    df = df.copy()\n",
    "    df[\"Disease\"] = disease_label\n",
    "    df[\"date_diagnosis\"] = pd.to_datetime(df[\"date_diagnosis\"], errors=\"coerce\")\n",
    "    return df[[\"eid\", \"date_diagnosis\", \"Disease\"]]\n",
    "\n",
    "# Prepare each disease df\n",
    "diagnosis_dfs = [\n",
    "    prepare_df(ad_df, \"AD\"),\n",
    "    prepare_df(vd_df, \"VD\"),\n",
    "    prepare_df(ftd_df, \"FTD\"),\n",
    "    prepare_df(ht_df, \"HD\"),\n",
    "    prepare_df(ms_df, \"MS\"),\n",
    "    prepare_df(pd_df, \"PD\"),\n",
    "    prepare_df(msa_df, \"MSA\"),\n",
    "    prepare_df(pnp_df, \"PNP\"),\n",
    "]\n",
    "\n",
    "# Concatenate all diseases\n",
    "all_diseases_df = pd.concat(diagnosis_dfs, ignore_index=True)\n",
    "all_diseases_df = all_diseases_df.dropna()\n",
    "# Sort with NaNs last so we prefer valid dates\n",
    "all_diseases_df = all_diseases_df.sort_values(\"date_diagnosis\")\n",
    "all_diseases_df = all_diseases_df.sort_values(\"date_diagnosis\")\n",
    "\n",
    "# Add healthy controls, assigning None to date and Disease\n",
    "\n",
    "hc_df[\"Disease\"] = \"HC\""
   ]
  },
  {
   "cell_type": "code",
   "execution_count": null,
   "metadata": {},
   "outputs": [],
   "source": [
    "pd_original = pd_df.copy(deep=True)"
   ]
  },
  {
   "cell_type": "markdown",
   "metadata": {},
   "source": [
    "# Visualisation before handling duplicates"
   ]
  },
  {
   "cell_type": "code",
   "execution_count": null,
   "metadata": {},
   "outputs": [],
   "source": [
    "duplicates = all_diseases_df[all_diseases_df[\"eid\"].duplicated(keep=False)]\n",
    "diagnosis_counts = duplicates.groupby(\"eid\").size().reset_index(name=\"num_diagnoses\")\n",
    "disease_counts_total = all_diseases_df[\"Disease\"].value_counts()\n",
    "diagnosis_counts_all = all_diseases_df.groupby(\"eid\").size().reset_index(name=\"num_diagnoses\")"
   ]
  },
  {
   "cell_type": "code",
   "execution_count": null,
   "metadata": {},
   "outputs": [],
   "source": [
    "all_diseases_df"
   ]
  },
  {
   "cell_type": "code",
   "execution_count": null,
   "metadata": {},
   "outputs": [],
   "source": [
    "# Plot\n",
    "plt.figure(figsize=(12, 6))\n",
    "ax= disease_counts_total.plot(kind=\"barh\")\n",
    "plt.gca().invert_yaxis()  # most common disease on top\n",
    "plt.xlabel(\"Number of Diagnoses\")\n",
    "plt.ylabel(\"Disease\")\n",
    "plt.title(\"Number of participants with each diagnosis (before removing duplicates)\")\n",
    "# Add text labels at the end of bars\n",
    "for i, (count, name) in enumerate(zip(disease_counts_total, disease_counts_total.index)):\n",
    "    ax.text(count + max(disease_counts_total) * 0.01, i, f\"{count:,}\", va='center')\n",
    "\n",
    "plt.tight_layout()\n",
    "plt.show()"
   ]
  },
  {
   "cell_type": "code",
   "execution_count": null,
   "metadata": {},
   "outputs": [],
   "source": [
    "import seaborn as sns\n",
    "import matplotlib.pyplot as plt\n",
    "\n",
    "sns.countplot(data=diagnosis_counts_all, x=\"num_diagnoses\")\n",
    "plt.title(\"Number of diagnoses per duplicated eid\")\n",
    "plt.xlabel(\"Number of Diagnoses\")\n",
    "plt.ylabel(\"Number of eids\")\n",
    "\n",
    "# Add numbers on top of bars\n",
    "ax = plt.gca()\n",
    "for p in ax.patches:\n",
    "    height = p.get_height()\n",
    "    ax.text(p.get_x() + p.get_width() / 2, height + 1, f'{int(height)}', \n",
    "            ha='center', va='bottom')\n",
    "\n",
    "plt.show()\n"
   ]
  },
  {
   "cell_type": "code",
   "execution_count": null,
   "metadata": {},
   "outputs": [],
   "source": [
    "disease_repeats = duplicates.groupby([\"eid\", \"Disease\"]).size().reset_index(name=\"count\")\n",
    "disease_counts_all = all_diseases_df.groupby([\"eid\", \"Disease\"]).size().reset_index(name=\"count\")\n",
    "pivot = disease_counts_all.pivot(index=\"eid\", columns=\"Disease\", values=\"count\").fillna(0)\n"
   ]
  },
  {
   "cell_type": "code",
   "execution_count": null,
   "metadata": {},
   "outputs": [],
   "source": [
    "# keep only eids with 3+ diagnoses\n",
    "filtered_three = pivot[pivot.sum(axis=1) >= 3]\n",
    "plt.figure(figsize=(12, 6))\n",
    "sns.heatmap(filtered_three, cmap=\"Blues\", linewidths=0.5, cbar=False)\n",
    "plt.title(\"Eids with more than 2 diagnoses\")\n",
    "plt.xlabel(\"Disease\")\n",
    "plt.ylabel(\"eid\")\n",
    "plt.tight_layout()\n",
    "plt.show()\n"
   ]
  },
  {
   "cell_type": "code",
   "execution_count": null,
   "metadata": {},
   "outputs": [],
   "source": [
    "# keep only eids with 3+ diagnoses\n",
    "filtered_four = pivot[pivot.sum(axis=1) >= 4]\n",
    "\n",
    "plt.figure(figsize=(12, 6))\n",
    "sns.heatmap(filtered_four, cmap=\"Blues\", linewidths=0.5, cbar=False)\n",
    "plt.title(\"Eids with more than 4 diagnoses\")\n",
    "plt.xlabel(\"Disease\")\n",
    "plt.ylabel(\"eid\")\n",
    "plt.tight_layout()\n",
    "plt.show()\n"
   ]
  },
  {
   "cell_type": "code",
   "execution_count": null,
   "metadata": {},
   "outputs": [],
   "source": [
    "binary_bool = pivot.astype(bool)\n"
   ]
  },
  {
   "cell_type": "code",
   "execution_count": null,
   "metadata": {},
   "outputs": [],
   "source": [
    "from upsetplot import from_indicators\n",
    "\n",
    "data_for_upset = from_indicators(binary_bool.columns, binary_bool)"
   ]
  },
  {
   "cell_type": "code",
   "execution_count": null,
   "metadata": {},
   "outputs": [],
   "source": [
    "import matplotlib.pyplot as plt\n",
    "from upsetplot import UpSet\n",
    "\n",
    "plt.figure(figsize=(10, 6))\n",
    "upset = UpSet(data_for_upset, subset_size='count', show_counts='%d', facecolor='navy')\n",
    "upset.plot()\n",
    "\n",
    "# Add label below the disease names\n",
    "plt.xlabel(\"\")\n",
    "\n",
    "plt.title(\"Diagnosis combinations per participant\")\n",
    "plt.show()\n"
   ]
  },
  {
   "cell_type": "markdown",
   "metadata": {},
   "source": [
    "# Removing PD with other diagnoses "
   ]
  },
  {
   "cell_type": "code",
   "execution_count": null,
   "metadata": {},
   "outputs": [],
   "source": [
    "pd_people = pd_df[\"eid\"].unique().tolist()\n",
    "\n",
    "# Find diagnoses of people that have received PD diagnosis\n",
    "pd_only = all_diseases_df[all_diseases_df[\"eid\"].isin(pd_people)]\n",
    "pd_only = pd_only.drop_duplicates(subset=[\"Disease\",\"eid\"])\n",
    "# Count number of diagnoses for each pd participant\n",
    "eid_counts = pd_only[\"eid\"].value_counts()\n",
    "\n",
    "# Collect eids that occur more than once\n",
    "removing_eids = eid_counts[eid_counts > 1].index\n",
    "\n",
    "# Filter the dataframe to remove those so that we have \"clean PD\" and other disease groups without PD\n",
    "filtered_df = all_diseases_df[~all_diseases_df[\"eid\"].isin(removing_eids)]"
   ]
  },
  {
   "cell_type": "code",
   "execution_count": null,
   "metadata": {},
   "outputs": [],
   "source": [
    "len(removing_eids)"
   ]
  },
  {
   "cell_type": "code",
   "execution_count": null,
   "metadata": {},
   "outputs": [],
   "source": [
    "pd_only"
   ]
  },
  {
   "cell_type": "code",
   "execution_count": null,
   "metadata": {},
   "outputs": [],
   "source": [
    "duplicates_filtered = filtered_df[filtered_df[\"eid\"].duplicated(keep=False)]\n",
    "diagnosis_counts_filtered = duplicates_filtered.groupby(\"eid\").size().reset_index(name=\"num_diagnoses\")\n",
    "disease_counts_total_filtered = filtered_df[\"Disease\"].value_counts()\n",
    "diagnosis_counts_filtered = filtered_df.groupby(\"eid\").size().reset_index(name=\"num_diagnoses\")"
   ]
  },
  {
   "cell_type": "code",
   "execution_count": null,
   "metadata": {},
   "outputs": [],
   "source": [
    "# Plot\n",
    "plt.figure(figsize=(12, 6))\n",
    "ax= disease_counts_total_filtered.plot(kind=\"barh\")\n",
    "plt.gca().invert_yaxis()  # most common disease on top\n",
    "plt.xlabel(\"Number of Diagnoses\")\n",
    "plt.ylabel(\"Disease\")\n",
    "plt.title(\"Number of participants with each diagnosis (after removing duplicates)\")\n",
    "# Add text labels at the end of bars\n",
    "for i, (count, name) in enumerate(zip(disease_counts_total, disease_counts_total.index)):\n",
    "    ax.text(count + max(disease_counts_total) * 0.01, i, f\"{count:,}\", va='center')\n",
    "\n",
    "plt.tight_layout()\n",
    "plt.show()"
   ]
  },
  {
   "cell_type": "code",
   "execution_count": null,
   "metadata": {},
   "outputs": [],
   "source": [
    "import seaborn as sns\n",
    "import matplotlib.pyplot as plt\n",
    "\n",
    "sns.countplot(data=diagnosis_counts_filtered, x=\"num_diagnoses\")\n",
    "plt.title(\"Number of diagnoses per duplicated eid after removing PD participants with duplicate diagnosis\")\n",
    "plt.xlabel(\"Number of Diagnoses\")\n",
    "plt.ylabel(\"Number of eids\")\n",
    "\n",
    "# Add numbers on top of bars\n",
    "ax = plt.gca()\n",
    "for p in ax.patches:\n",
    "    height = p.get_height()\n",
    "    ax.text(p.get_x() + p.get_width() / 2, height + 1, f'{int(height)}', \n",
    "            ha='center', va='bottom')\n",
    "\n",
    "plt.show()\n"
   ]
  },
  {
   "cell_type": "markdown",
   "metadata": {},
   "source": [
    "# Visualisation after handling PD patients with more than one neurodegenerative diagnosis"
   ]
  },
  {
   "cell_type": "code",
   "execution_count": null,
   "metadata": {},
   "outputs": [],
   "source": [
    "# First, group and merge diseases\n",
    "combined_diagnoses = (\n",
    "    filtered_df\n",
    "    .sort_values(\"date_diagnosis\")  # make sure earliest dates come first\n",
    "    .groupby(\"eid\")\n",
    "    .agg({\n",
    "        \"Disease\": lambda x: \" / \".join(sorted(x.unique())),\n",
    "        \"date_diagnosis\": \"first\"  # earliest date after sorting\n",
    "\n",
    "    })\n",
    "    .reset_index()\n",
    ")\n",
    "\n",
    "# Mark rows containing multiple diagnoses\n",
    "combined_diagnoses[\"multi_disease\"] = combined_diagnoses[\"Disease\"].str.contains(\"/\")\n",
    "\n",
    "# Sort by multi_disease descending so that '/' rows come first\n",
    "combined_diagnoses = combined_diagnoses.sort_values(by=\"multi_disease\", ascending=False)\n",
    "\n",
    "# Drop duplicates keeping the first (i.e., multi-disease row if it exists)\n",
    "final_combined = combined_diagnoses.drop_duplicates(subset=[\"eid\"], keep=\"first\").drop(columns=\"multi_disease\")\n",
    "\n",
    "print(final_combined)\n"
   ]
  },
  {
   "cell_type": "code",
   "execution_count": null,
   "metadata": {},
   "outputs": [],
   "source": [
    "final_combined"
   ]
  },
  {
   "cell_type": "code",
   "execution_count": null,
   "metadata": {},
   "outputs": [],
   "source": [
    "# Boolean mask of duplicated EIDs\n",
    "duplicates_mask = final_combined[\"eid\"].duplicated(keep=False)  # keep=False marks all duplicates as True\n",
    "\n",
    "# Filter the dataframe to only show duplicated rows\n",
    "duplicated_eids = final_combined[duplicates_mask]\n",
    "\n",
    "# If you only want the list of duplicated EIDs (unique)\n",
    "duplicated_eid_list = final_combined[\"eid\"].unique()\n",
    "\n"
   ]
  },
  {
   "cell_type": "code",
   "execution_count": null,
   "metadata": {},
   "outputs": [],
   "source": [
    "combined_diagnoses[combined_diagnoses[\"eid\"].isin(duplicated_eid_list)][\"Disease\"]"
   ]
  },
  {
   "cell_type": "code",
   "execution_count": null,
   "metadata": {},
   "outputs": [],
   "source": [
    "diagnosis_counts = final_combined.groupby(\"eid\").size().reset_index(name=\"num_diagnoses\")\n",
    "disease_counts_final = final_combined[\"Disease\"].value_counts()\n"
   ]
  },
  {
   "cell_type": "code",
   "execution_count": null,
   "metadata": {},
   "outputs": [],
   "source": [
    "disease_counts_final"
   ]
  },
  {
   "cell_type": "code",
   "execution_count": null,
   "metadata": {},
   "outputs": [],
   "source": [
    "# Plot\n",
    "plt.figure(figsize=(12, 6))\n",
    "ax= disease_counts_final.plot(kind=\"barh\")\n",
    "plt.gca().invert_yaxis()  # most common disease on top\n",
    "plt.xlabel(\"Number of Diagnoses\")\n",
    "plt.ylabel(\"Disease\")\n",
    "plt.title(\"Number of participants with each diagnosis (after removing duplicates)\")\n",
    "# Add text labels at the end of bars\n",
    "for i, (count, name) in enumerate(zip(disease_counts_final, disease_counts_final.index)):\n",
    "    ax.text(count + max(disease_counts_final) * 0.01, i, f\"{count:,}\", va='center')\n",
    "\n",
    "plt.tight_layout()\n",
    "plt.show()"
   ]
  },
  {
   "cell_type": "code",
   "execution_count": null,
   "metadata": {},
   "outputs": [],
   "source": [
    "combined_final_proteomics = combined_diagnoses[combined_diagnoses[\"eid\"].isin(proteomics_ids)]"
   ]
  },
  {
   "cell_type": "code",
   "execution_count": null,
   "metadata": {},
   "outputs": [],
   "source": [
    "combined_final_proteomics"
   ]
  },
  {
   "cell_type": "code",
   "execution_count": null,
   "metadata": {},
   "outputs": [],
   "source": [
    "diagnosis_counts_proteomics = combined_final_proteomics.groupby(\"eid\").size().reset_index(name=\"num_diagnoses\")\n",
    "disease_counts_final_proteomics = combined_final_proteomics[\"Disease\"].value_counts()\n",
    "# Plot\n",
    "plt.figure(figsize=(12, 6))\n",
    "ax= disease_counts_final_proteomics.plot(kind=\"barh\")\n",
    "plt.gca().invert_yaxis()  # most common disease on top\n",
    "plt.xlabel(\"Number of Diagnoses\")\n",
    "plt.ylabel(\"Disease\")\n",
    "plt.title(\"Number of participants with proteomics with each diagnosis (after removing duplicates)\")\n",
    "# Add text labels at the end of bars\n",
    "for i, (count, name) in enumerate(zip(disease_counts_final_proteomics, disease_counts_final_proteomics.index)):\n",
    "    ax.text(count + max(disease_counts_final_proteomics) * 0.01, i, f\"{count:,}\", va='center')\n",
    "\n",
    "plt.tight_layout()\n",
    "plt.show()"
   ]
  },
  {
   "cell_type": "code",
   "execution_count": null,
   "metadata": {},
   "outputs": [],
   "source": [
    "combined_final_proteomics"
   ]
  },
  {
   "cell_type": "code",
   "execution_count": null,
   "metadata": {},
   "outputs": [],
   "source": [
    "pd_df= filtered_df[filtered_df[\"Disease\"] == \"PD\"]"
   ]
  },
  {
   "cell_type": "code",
   "execution_count": null,
   "metadata": {},
   "outputs": [],
   "source": [
    "pd_df = pd_df[pd_df[\"eid\"].isin(proteomics_ids)]\n",
    "pd_df = pd_df[pd_df[\"date_diagnosis\"].notna()]\n"
   ]
  },
  {
   "cell_type": "code",
   "execution_count": null,
   "metadata": {},
   "outputs": [],
   "source": [
    "other_neurodegenerative_df = final_combined[~final_combined[\"eid\"].isin(pd_df[\"eid\"].unique().tolist())]"
   ]
  },
  {
   "cell_type": "code",
   "execution_count": null,
   "metadata": {},
   "outputs": [],
   "source": [
    "other_neurodegenerative_df"
   ]
  },
  {
   "cell_type": "code",
   "execution_count": null,
   "metadata": {},
   "outputs": [],
   "source": [
    "other_neurodegenerative_df = other_neurodegenerative_df[other_neurodegenerative_df[\"eid\"].isin(proteomics_ids)]\n",
    "hc_df = hc_df[hc_df[\"eid\"].isin(proteomics_ids)]\n",
    "pd_df = pd_df[pd_df[\"eid\"].isin(proteomics_ids)]\n"
   ]
  },
  {
   "cell_type": "code",
   "execution_count": null,
   "metadata": {},
   "outputs": [],
   "source": [
    "other_neurodegenerative_df"
   ]
  },
  {
   "cell_type": "code",
   "execution_count": null,
   "metadata": {},
   "outputs": [],
   "source": [
    "pd_df.to_csv(\"PD_filtered.csv\")"
   ]
  },
  {
   "cell_type": "code",
   "execution_count": null,
   "metadata": {},
   "outputs": [],
   "source": [
    "pd_df = pd_df.dropna(subset=\"date_diagnosis\")"
   ]
  },
  {
   "cell_type": "code",
   "execution_count": null,
   "metadata": {},
   "outputs": [],
   "source": [
    "pd_df"
   ]
  },
  {
   "cell_type": "code",
   "execution_count": null,
   "metadata": {},
   "outputs": [],
   "source": [
    "visit_df = pd.read_csv(\"/rds/general/user/meb22/projects/ukbiobank/live/ukbiobank/data_2025/Visit_dates.csv\").iloc[:,1:3]\n"
   ]
  },
  {
   "cell_type": "code",
   "execution_count": null,
   "metadata": {},
   "outputs": [],
   "source": [
    "pd_all = pd.merge(pd_df , visit_df , on=\"eid\")"
   ]
  },
  {
   "cell_type": "code",
   "execution_count": null,
   "metadata": {},
   "outputs": [],
   "source": [
    "pd_all"
   ]
  },
  {
   "cell_type": "code",
   "execution_count": null,
   "metadata": {},
   "outputs": [],
   "source": [
    "pd_all[\"visit_date\"] = pd.to_datetime(pd_all[\"p53_i0\"], errors='coerce')\n",
    "pd_all[\"diff_years\"] = (pd_all[\"date_diagnosis\"] - pd_all[\"visit_date\"]).dt.days / 365.25\n",
    "\n",
    "baseline= pd_all[pd_all[\"diff_years\"] <= 2]\n",
    "prodromals = pd_all[pd_all[\"diff_years\"] > 2]"
   ]
  },
  {
   "cell_type": "code",
   "execution_count": null,
   "metadata": {},
   "outputs": [],
   "source": [
    "prodromals"
   ]
  },
  {
   "cell_type": "code",
   "execution_count": null,
   "metadata": {},
   "outputs": [],
   "source": [
    "baseline"
   ]
  },
  {
   "cell_type": "code",
   "execution_count": null,
   "metadata": {},
   "outputs": [],
   "source": [
    "visit_df.rename(columns={\"p53_i0\":\"visit_date\"},inplace=True)"
   ]
  },
  {
   "cell_type": "code",
   "execution_count": null,
   "metadata": {},
   "outputs": [],
   "source": [
    "def filter_and_sample(df, visit_df):\n",
    "    df = df.merge(visit_df, on=\"eid\", how=\"left\")\n",
    "\n",
    "    date_cols = [col for col in df.columns if \"date_diagnosis\" in col]\n",
    "\n",
    "    if date_cols:\n",
    "        diagnosis_col = date_cols[0]\n",
    "        df[diagnosis_col] = pd.to_datetime(df[diagnosis_col], errors='coerce')\n",
    "        df[\"visit_date\"] = pd.to_datetime(df[\"visit_date\"], errors='coerce')\n",
    "        df[\"diff_years\"] = (df[diagnosis_col] - df[\"visit_date\"]).dt.days / 365.25\n",
    "        #I am keeping all that are diagnosed at baseline <0 years\n",
    "        baseline= df[df[\"diff_years\"] <= 2]\n",
    "        prodromals = df[df[\"diff_years\"] > 2]\n",
    "        #I am keeping 70% of those diagnosed after baseline >0 years\n",
    "        df_prodromals_train = prodromals.sample(frac=0.7, random_state=0)\n",
    "        df_test = prodromals.drop(df_prodromals_train.index)\n",
    "\n",
    "        df_train = pd.concat([baseline, df_prodromals_train], ignore_index=True)\n",
    "    else:\n",
    "        df_train = df.sample(frac=0.7, random_state=0)\n",
    "        df_test = df.drop(df_train.index)\n",
    "\n",
    "    return df_train, df_test\n"
   ]
  },
  {
   "cell_type": "code",
   "execution_count": null,
   "metadata": {},
   "outputs": [],
   "source": [
    "hc_df = hc_df.drop_duplicates()"
   ]
  },
  {
   "cell_type": "code",
   "execution_count": null,
   "metadata": {},
   "outputs": [],
   "source": [
    "def filter_and_sample(\n",
    "    df,\n",
    "    visit_df,\n",
    "    baseline_strategy=\"train\",   # \"train\", \"split\", or \"none\"\n",
    "    prodromal_frac=0.7, \n",
    "    random_state=0,\n",
    "    **kwargs\n",
    "):\n",
    "    df = df.merge(visit_df, on=\"eid\", how=\"left\")\n",
    "    date_cols = [col for col in df.columns if \"date_diagnosis\" in col]\n",
    "\n",
    "    if date_cols:\n",
    "        diagnosis_col = date_cols[0]\n",
    "        df[diagnosis_col] = pd.to_datetime(df[diagnosis_col], errors=\"coerce\")\n",
    "        df[\"visit_date\"] = pd.to_datetime(df[\"visit_date\"], errors=\"coerce\")\n",
    "        df[\"diff_years\"] = (df[diagnosis_col] - df[\"visit_date\"]).dt.days / 365.25\n",
    "\n",
    "        baseline = df[df[\"diff_years\"] <= 2]\n",
    "        prodromals = df[df[\"diff_years\"] > 2]\n",
    "\n",
    "        df_prodromals_train = prodromals.sample(frac=prodromal_frac, random_state=random_state)\n",
    "        df_prodromals_test = prodromals.drop(df_prodromals_train.index)\n",
    "\n",
    "        if baseline_strategy == \"train\":\n",
    "            df_train = pd.concat([baseline, df_prodromals_train], ignore_index=True)\n",
    "            df_test = df_prodromals_test\n",
    "\n",
    "        elif baseline_strategy == \"split\":\n",
    "            baseline_frac = kwargs.get(\"baseline_frac\", 0.7)  # only required here\n",
    "            df_baseline_train = baseline.sample(frac=baseline_frac, random_state=random_state)\n",
    "            df_baseline_test = baseline.drop(df_baseline_train.index)\n",
    "            df_train = pd.concat([df_baseline_train, df_prodromals_train], ignore_index=True)\n",
    "            df_test = pd.concat([df_baseline_test, df_prodromals_test], ignore_index=True)\n",
    "\n",
    "        elif baseline_strategy == None:\n",
    "            df_train = df_prodromals_train\n",
    "            df_test = df_prodromals_test\n",
    "\n",
    "        else:\n",
    "            raise ValueError(\"baseline_strategy must be 'train', 'split', or 'none'\")\n",
    "    else:\n",
    "        df_train = df.sample(frac=0.7, random_state=random_state)\n",
    "        df_test = df.drop(df_train.index)\n",
    "        print(\"⚠️ No diagnosis date column found. Using simple random split (70/30).\")\n",
    "\n",
    "    return df_train, df_test\n"
   ]
  },
  {
   "cell_type": "code",
   "execution_count": null,
   "metadata": {},
   "outputs": [],
   "source": [
    "hc_training, hc_test = filter_and_sample(hc_df, visit_df,None)\n",
    "neurodegenerative_training,  neurodegenerative_test= filter_and_sample(other_neurodegenerative_df, visit_df,\"split\",0.7,0,baseline_frac= 0.7)\n",
    "pd_training, pd_test = filter_and_sample(pd_df, visit_df,\"train\", 0.7,0)"
   ]
  },
  {
   "cell_type": "code",
   "execution_count": null,
   "metadata": {},
   "outputs": [],
   "source": [
    "neurodegenerative_training[neurodegenerative_training[\"Disease\"].str.contains(\"MSA\")]"
   ]
  },
  {
   "cell_type": "code",
   "execution_count": null,
   "metadata": {},
   "outputs": [],
   "source": [
    "neurodegenerative_training[neurodegenerative_training[\"Disease\"].str.contains(\"PNP\")]"
   ]
  },
  {
   "cell_type": "code",
   "execution_count": null,
   "metadata": {},
   "outputs": [],
   "source": [
    "neurodegenerative_test[neurodegenerative_test[\"Disease\"].str.contains(\"MSA\")]"
   ]
  },
  {
   "cell_type": "code",
   "execution_count": null,
   "metadata": {},
   "outputs": [],
   "source": [
    "neurodegenerative_test[neurodegenerative_test[\"Disease\"].str.contains(\"PNP\")]"
   ]
  },
  {
   "cell_type": "code",
   "execution_count": null,
   "metadata": {},
   "outputs": [],
   "source": [
    "neurodegenerative_training[neurodegenerative_training[\"Disease\"].str.contains(\"PNP\")]"
   ]
  },
  {
   "cell_type": "code",
   "execution_count": null,
   "metadata": {},
   "outputs": [],
   "source": [
    "neurodegenerative_training.to_csv(\"Neurodegenerative_training_date_diagnosis.csv\")\n",
    "neurodegenerative_test.to_csv(\"Neurodegenerative_testing_date_diagnosis.csv\")"
   ]
  },
  {
   "cell_type": "code",
   "execution_count": null,
   "metadata": {},
   "outputs": [],
   "source": [
    "hc_training[\"eid\"].nunique()"
   ]
  },
  {
   "cell_type": "code",
   "execution_count": null,
   "metadata": {},
   "outputs": [],
   "source": [
    "hc_test[\"eid\"].nunique()"
   ]
  },
  {
   "cell_type": "code",
   "execution_count": null,
   "metadata": {},
   "outputs": [],
   "source": [
    "neurodegenerative_training[\"eid\"].nunique()"
   ]
  },
  {
   "cell_type": "code",
   "execution_count": null,
   "metadata": {},
   "outputs": [],
   "source": [
    "neurodegenerative_test[\"eid\"].nunique()"
   ]
  },
  {
   "cell_type": "code",
   "execution_count": null,
   "metadata": {},
   "outputs": [],
   "source": [
    "pd_training[\"eid\"].nunique()"
   ]
  },
  {
   "cell_type": "code",
   "execution_count": null,
   "metadata": {},
   "outputs": [],
   "source": [
    "pd_test[\"eid\"].nunique()"
   ]
  },
  {
   "cell_type": "code",
   "execution_count": null,
   "metadata": {},
   "outputs": [],
   "source": [
    "# I am combining those eids and will repeat the sampling to train and test for the rest of the dataset so that I do not accidentally get eids from the other datasets\n",
    "combined_eids = (\n",
    "    set(hc_df[\"eid\"].unique())\n",
    "    | set(other_neurodegenerative_df[\"eid\"].unique())\n",
    "    | set(pd_df[\"eid\"].unique())\n",
    ")\n",
    "\n",
    "non_hc_nonneurodegenerative_forfiltering = proteomics_df[~proteomics_df[\"eid\"].isin(combined_eids)]"
   ]
  },
  {
   "cell_type": "code",
   "execution_count": null,
   "metadata": {},
   "outputs": [],
   "source": [
    "non_hc_nonneurodegenerative_training, non_hc_nonneurodegenerative_test = filter_and_sample(non_hc_nonneurodegenerative_forfiltering, visit_df)"
   ]
  },
  {
   "cell_type": "code",
   "execution_count": null,
   "metadata": {},
   "outputs": [],
   "source": [
    "non_hc_nonneurodegenerative_forfiltering"
   ]
  },
  {
   "cell_type": "code",
   "execution_count": null,
   "metadata": {},
   "outputs": [],
   "source": [
    "non_hc_nonneurodegenerative_training[\"eid\"].nunique()"
   ]
  },
  {
   "cell_type": "code",
   "execution_count": null,
   "metadata": {},
   "outputs": [],
   "source": [
    "non_hc_nonneurodegenerative_test[\"eid\"].nunique()"
   ]
  },
  {
   "cell_type": "code",
   "execution_count": null,
   "metadata": {},
   "outputs": [],
   "source": [
    "# We are creating the label column in the whole df\n",
    "proteomics_df[\"Diagnosis\"] = proteomics_df[\"eid\"].isin(pd_df[\"eid\"]).astype(int)\n"
   ]
  },
  {
   "cell_type": "code",
   "execution_count": null,
   "metadata": {},
   "outputs": [],
   "source": [
    "training_neurodegenerative = set(neurodegenerative_training[\"eid\"]) | set(pd_training[\"eid\"])\n",
    "training_non_hc_nonneurodegenerative = set(non_hc_nonneurodegenerative_training[\"eid\"]) | set(pd_training[\"eid\"])\n",
    "training_hc = set(hc_training[\"eid\"]) | set(pd_training[\"eid\"])\n"
   ]
  },
  {
   "cell_type": "code",
   "execution_count": null,
   "metadata": {},
   "outputs": [],
   "source": [
    "all_training = set(hc_training[\"eid\"]) | set(non_hc_nonneurodegenerative_training [\"eid\"]) | set(neurodegenerative_training) |set(pd_training)\n",
    "all_test= set(hc_test[\"eid\"]) | set(non_hc_nonneurodegenerative_test[\"eid\"]) | set(neurodegenerative_test) |  set(pd_test)"
   ]
  },
  {
   "cell_type": "code",
   "execution_count": null,
   "metadata": {},
   "outputs": [],
   "source": [
    "len(all_training)"
   ]
  },
  {
   "cell_type": "code",
   "execution_count": null,
   "metadata": {},
   "outputs": [],
   "source": [
    "len(all_test)"
   ]
  },
  {
   "cell_type": "code",
   "execution_count": null,
   "metadata": {},
   "outputs": [],
   "source": [
    "all_eids = pd.concat([\n",
    "    hc_df[\"eid\"],\n",
    "    other_neurodegenerative_df[\"eid\"],\n",
    "    pd_df[\"eid\"],\n",
    "    non_hc_nonneurodegenerative_forfiltering[\"eid\"]\n",
    "])\n",
    "\n",
    "len(all_eids.unique())\n"
   ]
  },
  {
   "cell_type": "code",
   "execution_count": null,
   "metadata": {},
   "outputs": [],
   "source": [
    "all_eids = pd.concat([\n",
    "    non_hc_nonneurodegenerative_training[\"eid\"],\n",
    "    non_hc_nonneurodegenerative_test[\"eid\"],\n",
    "    pd_training[\"eid\"],\n",
    "    pd_test[\"eid\"],\n",
    "    neurodegenerative_training[\"eid\"],\n",
    "    neurodegenerative_test[\"eid\"],\n",
    "    hc_training[\"eid\"],\n",
    "    hc_test[\"eid\"],\n",
    "])"
   ]
  },
  {
   "cell_type": "code",
   "execution_count": null,
   "metadata": {},
   "outputs": [],
   "source": [
    "len(all_eids.unique())"
   ]
  },
  {
   "cell_type": "code",
   "execution_count": null,
   "metadata": {},
   "outputs": [],
   "source": [
    "proteomics_df"
   ]
  },
  {
   "cell_type": "code",
   "execution_count": null,
   "metadata": {},
   "outputs": [],
   "source": [
    "# Ensure you're always working with EIDs (Series or list-like)\n",
    "training_eids = (\n",
    "    set(hc_training[\"eid\"]) |\n",
    "    set(non_hc_nonneurodegenerative_training[\"eid\"]) |\n",
    "    set(neurodegenerative_training[\"eid\"]) |\n",
    "    set(pd_training[\"eid\"])\n",
    ")\n",
    "\n",
    "test_eids = (\n",
    "    set(hc_test[\"eid\"]) |\n",
    "    set(non_hc_nonneurodegenerative_test[\"eid\"]) |\n",
    "    set(neurodegenerative_test[\"eid\"]) |\n",
    "    set(pd_test[\"eid\"])\n",
    ")\n",
    "\n",
    "# All unique EIDs across training and test\n",
    "all_eids = training_eids | test_eids\n",
    "\n",
    "print(f\"Total unique EIDs: {len(all_eids)}\")\n"
   ]
  },
  {
   "cell_type": "code",
   "execution_count": null,
   "metadata": {},
   "outputs": [],
   "source": [
    "len(test_eids)"
   ]
  },
  {
   "cell_type": "code",
   "execution_count": null,
   "metadata": {},
   "outputs": [],
   "source": [
    "len(training_eids)"
   ]
  },
  {
   "cell_type": "code",
   "execution_count": null,
   "metadata": {},
   "outputs": [],
   "source": [
    "all_eids = list(all_eids)  # Convert set to list\n"
   ]
  },
  {
   "cell_type": "code",
   "execution_count": null,
   "metadata": {},
   "outputs": [],
   "source": [
    "proteomics_df_training_neurodegenerative = proteomics_df[proteomics_df[\"eid\"].isin(training_neurodegenerative)].set_index([\"eid\"])\n",
    "proteomics_df_hc = proteomics_df[proteomics_df[\"eid\"].isin(training_hc)].set_index([\"eid\"])\n",
    "proteomics_non_hc_nonneurodegenerative  = proteomics_df[proteomics_df[\"eid\"].isin(training_non_hc_nonneurodegenerative)].set_index([\"eid\"])"
   ]
  },
  {
   "cell_type": "code",
   "execution_count": null,
   "metadata": {},
   "outputs": [],
   "source": [
    "X_neurodegenerative = proteomics_df_training_neurodegenerative.drop(columns=[\"Diagnosis\"])\n",
    "y_neurodegenerative = proteomics_df_training_neurodegenerative[\"Diagnosis\"]\n",
    "\n",
    "X_hc = proteomics_df_hc.drop(columns=[\"Diagnosis\"])\n",
    "y_hc = proteomics_df_hc[\"Diagnosis\"]\n",
    "\n",
    "X_non_hc_nonneurodegenerative = proteomics_non_hc_nonneurodegenerative.drop(columns=[\"Diagnosis\"])\n",
    "y_non_hc_nonneurodegenerative = proteomics_non_hc_nonneurodegenerative[\"Diagnosis\"]"
   ]
  },
  {
   "cell_type": "code",
   "execution_count": null,
   "metadata": {},
   "outputs": [],
   "source": [
    "proteomics_df_hc.to_csv(\"Training_healthycontrol.csv\")"
   ]
  },
  {
   "cell_type": "code",
   "execution_count": null,
   "metadata": {},
   "outputs": [],
   "source": [
    "proteomics_df_training_neurodegenerative.to_csv(\"Training_neurodegenerative.csv\")"
   ]
  },
  {
   "cell_type": "code",
   "execution_count": null,
   "metadata": {},
   "outputs": [],
   "source": [
    "proteomics_df_training_neurodegenerative"
   ]
  },
  {
   "cell_type": "code",
   "execution_count": null,
   "metadata": {},
   "outputs": [],
   "source": [
    "protein_cols = proteomics_df.columns[1:-1]"
   ]
  },
  {
   "cell_type": "code",
   "execution_count": null,
   "metadata": {},
   "outputs": [],
   "source": [
    "whole_training = proteomics_df[proteomics_df[\"eid\"].isin(training_eids)]"
   ]
  },
  {
   "cell_type": "code",
   "execution_count": null,
   "metadata": {},
   "outputs": [],
   "source": [
    "whole_testing = proteomics_df[proteomics_df[\"eid\"].isin(test_eids)]"
   ]
  },
  {
   "cell_type": "code",
   "execution_count": null,
   "metadata": {},
   "outputs": [],
   "source": [
    "whole_training.to_csv(\"Training_all.csv\")"
   ]
  },
  {
   "cell_type": "code",
   "execution_count": null,
   "metadata": {},
   "outputs": [],
   "source": [
    "whole_testing.to_csv(\"Testing_all.csv\")"
   ]
  },
  {
   "cell_type": "code",
   "execution_count": null,
   "metadata": {},
   "outputs": [],
   "source": [
    "combined_diagnoses[combined_diagnoses[\"eid\"].isin(whole_training[\"eid\"])][\"Disease\"].value_counts()"
   ]
  },
  {
   "cell_type": "code",
   "execution_count": null,
   "metadata": {},
   "outputs": [],
   "source": [
    "combined_diagnoses"
   ]
  },
  {
   "cell_type": "code",
   "execution_count": null,
   "metadata": {},
   "outputs": [],
   "source": [
    "combined_diagnoses[combined_diagnoses[\"eid\"].isin(whole_testing[\"eid\"])][\"Disease\"].value_counts()"
   ]
  },
  {
   "cell_type": "code",
   "execution_count": null,
   "metadata": {},
   "outputs": [],
   "source": [
    "intersection_eids = (test_eids.intersection(training_eids))\n"
   ]
  },
  {
   "cell_type": "code",
   "execution_count": null,
   "metadata": {},
   "outputs": [],
   "source": [
    "intersection_eids"
   ]
  },
  {
   "cell_type": "code",
   "execution_count": null,
   "metadata": {},
   "outputs": [],
   "source": [
    "rest_toadd = proteomics_df[proteomics_df[\"eid\"].isin(removing_eids)]"
   ]
  },
  {
   "cell_type": "code",
   "execution_count": null,
   "metadata": {},
   "outputs": [],
   "source": [
    "rest_toadd"
   ]
  },
  {
   "cell_type": "code",
   "execution_count": null,
   "metadata": {},
   "outputs": [],
   "source": [
    "pd_rest = pd_original[pd_original[\"eid\"].isin(rest_toadd[\"eid\"].unique().tolist())]"
   ]
  },
  {
   "cell_type": "code",
   "execution_count": null,
   "metadata": {},
   "outputs": [],
   "source": [
    "pd_rest.to_csv(\"PD_comorbidOND.csv\")"
   ]
  },
  {
   "cell_type": "code",
   "execution_count": null,
   "metadata": {},
   "outputs": [],
   "source": [
    "rest_toadd[\"Diagnosis\"] = 1"
   ]
  },
  {
   "cell_type": "code",
   "execution_count": null,
   "metadata": {},
   "outputs": [],
   "source": [
    "rest_toadd.to_csv(\"PD_comorbidONDProteomics.csv\")"
   ]
  },
  {
   "cell_type": "code",
   "execution_count": null,
   "metadata": {},
   "outputs": [],
   "source": [
    "ond_prodromals = neurodegenerative_training[neurodegenerative_training[\"diff_years\"] > 2]"
   ]
  },
  {
   "cell_type": "code",
   "execution_count": null,
   "metadata": {},
   "outputs": [],
   "source": [
    "pd_baseline= pd_training[pd_training[\"diff_years\"] <= 2]"
   ]
  },
  {
   "cell_type": "code",
   "execution_count": null,
   "metadata": {},
   "outputs": [],
   "source": [
    "training_onlyprodromals = whole_training[~whole_training[\"eid\"].isin(pd_baseline[\"eid\"].unique())]"
   ]
  },
  {
   "cell_type": "code",
   "execution_count": null,
   "metadata": {},
   "outputs": [],
   "source": []
  },
  {
   "cell_type": "code",
   "execution_count": null,
   "metadata": {},
   "outputs": [],
   "source": [
    "training_onlyprodromals.to_csv(\"Training_all_prodromals.csv\")"
   ]
  },
  {
   "cell_type": "code",
   "execution_count": null,
   "metadata": {},
   "outputs": [],
   "source": []
  },
  {
   "cell_type": "code",
   "execution_count": null,
   "metadata": {},
   "outputs": [],
   "source": [
    "training_onlybaseline = whole_training[whole_training[\"eid\"].isin(pd_baseline[\"eid\"].unique())]"
   ]
  },
  {
   "cell_type": "code",
   "execution_count": null,
   "metadata": {},
   "outputs": [],
   "source": []
  },
  {
   "cell_type": "code",
   "execution_count": null,
   "metadata": {},
   "outputs": [],
   "source": [
    "training_onlybaseline.to_csv(\"Training_baselinePD.csv\")"
   ]
  },
  {
   "cell_type": "code",
   "execution_count": null,
   "metadata": {},
   "outputs": [],
   "source": [
    "training_onlyprodromals"
   ]
  },
  {
   "cell_type": "code",
   "execution_count": null,
   "metadata": {},
   "outputs": [],
   "source": [
    "training_onlybaseline"
   ]
  },
  {
   "cell_type": "code",
   "execution_count": null,
   "metadata": {},
   "outputs": [],
   "source": []
  }
 ],
 "metadata": {
  "kernelspec": {
   "display_name": "Python (test_env)",
   "language": "python",
   "name": "test_env"
  },
  "language_info": {
   "codemirror_mode": {
    "name": "ipython",
    "version": 3
   },
   "file_extension": ".py",
   "mimetype": "text/x-python",
   "name": "python",
   "nbconvert_exporter": "python",
   "pygments_lexer": "ipython3",
   "version": "3.10.5"
  }
 },
 "nbformat": 4,
 "nbformat_minor": 4
}
