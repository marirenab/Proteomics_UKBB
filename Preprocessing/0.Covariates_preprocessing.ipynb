{
 "cells": [
  {
   "cell_type": "code",
   "execution_count": null,
   "metadata": {},
   "outputs": [],
   "source": [
    "import pandas as pd\n",
    "import numpy as np\n",
    "import seaborn as sns\n",
    "import matplotlib.pyplot as plt"
   ]
  },
  {
   "cell_type": "code",
   "execution_count": null,
   "metadata": {},
   "outputs": [],
   "source": [
    "from sklearn.impute import SimpleImputer\n",
    "\n",
    "covariates = pd.read_csv(\"/rds/general/user/meb22/projects/ukbiobank/live/ukbiobank/data_2025/proteomics/Covariates.csv\").iloc[:,1:]\n",
    "\n",
    "covariate_cols = covariates.columns[1:]\n",
    "\n",
    "\n"
   ]
  },
  {
   "cell_type": "code",
   "execution_count": null,
   "metadata": {},
   "outputs": [],
   "source": [
    "covariates[\"Ethnicity\"].value_counts()"
   ]
  },
  {
   "cell_type": "code",
   "execution_count": null,
   "metadata": {},
   "outputs": [],
   "source": [
    "plates_proteomics =  pd.read_csv(\"/rds/general/user/meb22/projects/ukbiobank/live/ukbiobank/data_2025/proteomics/Plate_proteomics.csv\").iloc[:,1:]"
   ]
  },
  {
   "cell_type": "code",
   "execution_count": null,
   "metadata": {},
   "outputs": [],
   "source": [
    "plates_proteomics"
   ]
  },
  {
   "cell_type": "code",
   "execution_count": null,
   "metadata": {},
   "outputs": [],
   "source": [
    "plates_proteomics.rename(columns={\"p30901_i0\":\"plate\"},inplace=True)"
   ]
  },
  {
   "cell_type": "code",
   "execution_count": null,
   "metadata": {},
   "outputs": [],
   "source": [
    "covariates_plate = pd.merge(plates_proteomics[[\"eid\",\"plate\"]], covariates, on=[\"eid\"])"
   ]
  },
  {
   "cell_type": "code",
   "execution_count": null,
   "metadata": {},
   "outputs": [],
   "source": [
    "assessment_center = pd.read_csv(\"p54_Assessment_centre.csv\")"
   ]
  },
  {
   "cell_type": "code",
   "execution_count": null,
   "metadata": {},
   "outputs": [],
   "source": [
    "assessment_center.rename(columns={\"p54_i0\":\"assessment_center\"},inplace=True)"
   ]
  },
  {
   "cell_type": "code",
   "execution_count": null,
   "metadata": {},
   "outputs": [],
   "source": [
    "assessment_center"
   ]
  },
  {
   "cell_type": "code",
   "execution_count": null,
   "metadata": {},
   "outputs": [],
   "source": [
    "assessment_center[assessment_center[\"eid\"].isin(covariates_plate[\"eid\"].unique().tolist())]"
   ]
  },
  {
   "cell_type": "code",
   "execution_count": null,
   "metadata": {},
   "outputs": [],
   "source": [
    "covariates_plate_assessment = pd.merge(covariates_plate, assessment_center[[\"eid\",\"assessment_center\"]], on=[\"eid\"])"
   ]
  },
  {
   "cell_type": "code",
   "execution_count": null,
   "metadata": {},
   "outputs": [],
   "source": [
    "covariates_plate_assessment"
   ]
  },
  {
   "cell_type": "code",
   "execution_count": null,
   "metadata": {},
   "outputs": [],
   "source": [
    "covariates_plate_assessment"
   ]
  },
  {
   "cell_type": "code",
   "execution_count": null,
   "metadata": {},
   "outputs": [],
   "source": [
    "parkinson_disease = pd.read_csv(\"/rds/general/user/meb22/projects/ukbiobank/live/ukbiobank/data_2025/UKBB_diagnoses_Jun2025/processed/diagnoses_extracted/Parkinson.csv\")[\"eid\"]"
   ]
  },
  {
   "cell_type": "code",
   "execution_count": null,
   "metadata": {},
   "outputs": [],
   "source": [
    "covariates_plate_assessment[\"Parkinson_diagnosis\"] = covariates_plate_assessment[\"eid\"].isin(parkinson_disease).astype(int)"
   ]
  },
  {
   "cell_type": "code",
   "execution_count": null,
   "metadata": {},
   "outputs": [],
   "source": [
    "covariates_plate_assessment[\"Parkinson_diagnosis\"].value_counts()"
   ]
  },
  {
   "cell_type": "code",
   "execution_count": null,
   "metadata": {},
   "outputs": [],
   "source": [
    "path = \"/rds/general/user/meb22/projects/ukbiobank/live/ukbiobank/data_2025/proteomics\""
   ]
  },
  {
   "cell_type": "code",
   "execution_count": null,
   "metadata": {},
   "outputs": [],
   "source": [
    "import pandas as pd\n",
    "\n",
    "olink_assay_version = pd.read_csv(f'{path}/olink_assay_version.dat', sep='\\t')  \n"
   ]
  },
  {
   "cell_type": "code",
   "execution_count": null,
   "metadata": {},
   "outputs": [],
   "source": [
    "olink_panel_lot = pd.read_csv(f'{path}/olink_panel_lot_number.dat', sep='\\t')  "
   ]
  },
  {
   "cell_type": "code",
   "execution_count": null,
   "metadata": {},
   "outputs": [],
   "source": [
    "olink_panel_lot"
   ]
  },
  {
   "cell_type": "code",
   "execution_count": null,
   "metadata": {},
   "outputs": [],
   "source": [
    "olink_batch_number = pd.read_csv(f'{path}/olink_batch_number.dat', sep='\\t')  "
   ]
  },
  {
   "cell_type": "code",
   "execution_count": null,
   "metadata": {},
   "outputs": [],
   "source": [
    "olink_batch_number.rename(columns={\"PlateID\":\"plate\"},inplace=True)"
   ]
  },
  {
   "cell_type": "code",
   "execution_count": null,
   "metadata": {},
   "outputs": [],
   "source": [
    "covariates_plate_assessment_batch = pd.merge(olink_batch_number,covariates_plate_assessment, on=\"plate\")"
   ]
  },
  {
   "cell_type": "code",
   "execution_count": null,
   "metadata": {},
   "outputs": [],
   "source": [
    "covariates_plate_assessment_batch[\"Ethnicity\"] = covariates_plate_assessment_batch[\"Ethnicity\"].apply(\n",
    "    lambda x: int(x) if pd.notna(x) else x\n",
    ")\n"
   ]
  },
  {
   "cell_type": "code",
   "execution_count": null,
   "metadata": {},
   "outputs": [],
   "source": [
    "\n",
    "covariates_plate_assessment_batch[\"sample_age\"] = covariates_plate_assessment_batch[\"sample_age\"].str.extract(r\"(\\d+)\").astype(float)\n",
    "\n",
    "ethnicity_map = {\n",
    "    1: \"White\", 1001: \"White\", 1002: \"White\", 1003: \"White\",\n",
    "    2: \"Mixed\", 2001: \"Mixed\", 2002: \"Mixed\", 2003: \"Mixed\", 2004: \"Mixed\",\n",
    "    3: \"Asian\", 3001: \"Asian\", 3002: \"Asian\", 3003: \"Asian\", 3004: \"Asian\",\n",
    "    4: \"Black\", 4001: \"Black\", 4002: \"Black\", 4003: \"Black\",\n",
    "    5: \"Asian\",  \n",
    "    6: \"Other/Unknown\",\n",
    "    -1: \"Other/Unknown\",\n",
    "    -3: \"Other/Unknown\"\n",
    "}\n",
    "\n",
    "covariates_plate_assessment_batch['alcohol'] = covariates_plate_assessment_batch['alcohol'].astype('object')\n",
    "covariates_plate_assessment_batch['smoking']= covariates_plate_assessment_batch['smoking'].astype('object')\n",
    "covariates_plate_assessment_batch[\"Ethnicity\"] = covariates_plate_assessment_batch[\"Ethnicity\"].map(ethnicity_map)\n",
    "covariates_plate_assessment_batch[\"alcohol\"] = covariates_plate_assessment_batch[\"alcohol\"].fillna(-3)\n",
    "covariates_plate_assessment_batch[\"smoking\"] = covariates_plate_assessment_batch[\"smoking\"].fillna(-3)\n",
    "covariates_plate_assessment_batch[\"Ethnicity\"] = covariates_plate_assessment_batch[\"Ethnicity\"].fillna(\"Other/Unknown\")"
   ]
  },
  {
   "cell_type": "code",
   "execution_count": null,
   "metadata": {},
   "outputs": [],
   "source": [
    "covariates_plate_assessment_batch = covariates_plate_assessment_batch.set_index([\"eid\"])"
   ]
  },
  {
   "cell_type": "code",
   "execution_count": null,
   "metadata": {},
   "outputs": [],
   "source": [
    "df_all"
   ]
  },
  {
   "cell_type": "code",
   "execution_count": null,
   "metadata": {},
   "outputs": [],
   "source": [
    "protein_metadata = pd.read_csv(\"/rds/general/user/meb22/projects/ukbiobank/live/ukbiobank/data_2025/proteomics/protein_metadata.csv\")"
   ]
  },
  {
   "cell_type": "code",
   "execution_count": null,
   "metadata": {},
   "outputs": [],
   "source": [
    "df_all = pd.merge(covariates_plate_assessment_batch, protein_metadata[[\"eid\",\"p30900_i0\",\"p30901_i0\",\"p30902_i0\"]], on=\"eid\")"
   ]
  },
  {
   "cell_type": "code",
   "execution_count": null,
   "metadata": {},
   "outputs": [],
   "source": [
    "df_all.rename(columns={\"p30900_i0\":\"number_proteins\",\"p30902_i0\":\"well\"},inplace=True)"
   ]
  },
  {
   "cell_type": "code",
   "execution_count": null,
   "metadata": {},
   "outputs": [],
   "source": [
    "(df_all[\"plate\"] == df_all[\"p30901_i0\"]).all()\n"
   ]
  },
  {
   "cell_type": "code",
   "execution_count": null,
   "metadata": {},
   "outputs": [],
   "source": [
    "df_all.drop(columns=[\"p30901_i0\"],inplace=True)"
   ]
  },
  {
   "cell_type": "code",
   "execution_count": null,
   "metadata": {},
   "outputs": [],
   "source": [
    "df_all[\"assessment_center\"] = df_all[\"assessment_center\"].astype(\"str\")"
   ]
  },
  {
   "cell_type": "code",
   "execution_count": null,
   "metadata": {},
   "outputs": [],
   "source": [
    "df_all[\"plate\"] = df_all[\"plate\"].astype(\"str\")\n",
    "df_all[\"Batch\"] = df_all[\"Batch\"].astype(\"str\")"
   ]
  },
  {
   "cell_type": "code",
   "execution_count": null,
   "metadata": {},
   "outputs": [],
   "source": [
    "df_all.to_csv(\"/rds/general/user/meb22/projects/ukbiobank/live/ukbiobank/data_2025/proteomics/Processed_all_covariates.csv\")"
   ]
  },
  {
   "cell_type": "code",
   "execution_count": null,
   "metadata": {},
   "outputs": [],
   "source": [
    "df_all[\"Ethnicity\"].value_counts()"
   ]
  }
 ],
 "metadata": {
  "kernelspec": {
   "display_name": "Python (test_env)",
   "language": "python",
   "name": "test_env"
  },
  "language_info": {
   "codemirror_mode": {
    "name": "ipython",
    "version": 3
   },
   "file_extension": ".py",
   "mimetype": "text/x-python",
   "name": "python",
   "nbconvert_exporter": "python",
   "pygments_lexer": "ipython3",
   "version": "3.10.5"
  }
 },
 "nbformat": 4,
 "nbformat_minor": 4
}
