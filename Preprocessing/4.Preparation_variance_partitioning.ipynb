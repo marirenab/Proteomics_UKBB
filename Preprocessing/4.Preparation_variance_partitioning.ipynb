{
 "cells": [
  {
   "cell_type": "code",
   "execution_count": null,
   "id": "ba6d6056-0995-4775-a21a-4b180f3f5df6",
   "metadata": {},
   "outputs": [],
   "source": [
    "import pandas as pd\n",
    "import seaborn as sns"
   ]
  },
  {
   "cell_type": "code",
   "execution_count": null,
   "id": "e076766c-2aa7-4275-8a5b-d06939906066",
   "metadata": {},
   "outputs": [],
   "source": [
    "consortium_df = pd.read_csv(\"Consortium_covid_population_imputed_lesscols.csv\")"
   ]
  },
  {
   "cell_type": "code",
   "execution_count": null,
   "id": "bcb6971b-6568-4264-8376-f7c27fe1474b",
   "metadata": {},
   "outputs": [],
   "source": [
    "general_df = pd.read_csv(\"General_population_imputed_lesscols.csv\")"
   ]
  },
  {
   "cell_type": "code",
   "execution_count": null,
   "id": "acfe0c73-b732-4a2c-a12d-5f2531a99155",
   "metadata": {},
   "outputs": [],
   "source": [
    "df= pd.concat([consortium_df, general_df])"
   ]
  },
  {
   "cell_type": "code",
   "execution_count": null,
   "id": "16d28582-8a85-4120-9a33-b12d1ea25e72",
   "metadata": {},
   "outputs": [],
   "source": [
    "df_transposed = df.set_index([\"eid\"]).T"
   ]
  },
  {
   "cell_type": "code",
   "execution_count": null,
   "id": "459feb9f-fc53-4b04-957f-20f8ffda0e5c",
   "metadata": {},
   "outputs": [],
   "source": [
    "#df_transposed.to_csv(\"Protein_abundance_matrix_variance_partitioning_new.csv\")"
   ]
  },
  {
   "cell_type": "code",
   "execution_count": null,
   "id": "9cf8f364-9a17-434f-99a4-1094d19a3ca5",
   "metadata": {},
   "outputs": [],
   "source": [
    "covariates_df = pd.read_csv(\"/rds/general/user/meb22/projects/ukbiobank/live/ukbiobank/data_2025/proteomics/Processed_all_covariates.csv\").iloc[:,1:]\n",
    "covariate_cols = covariates_df.columns[1:]\n",
    "\n"
   ]
  },
  {
   "cell_type": "code",
   "execution_count": null,
   "id": "cbe9a789-03cd-42c5-aab9-6faaee02e57a",
   "metadata": {},
   "outputs": [],
   "source": [
    "covariates_df[\"well\"].nunique()"
   ]
  },
  {
   "cell_type": "code",
   "execution_count": null,
   "id": "0a71bb07-e615-4040-b9ff-9bea6ac9e2d9",
   "metadata": {},
   "outputs": [],
   "source": [
    "covariates_df[\"Batch\"].nunique()"
   ]
  },
  {
   "cell_type": "code",
   "execution_count": null,
   "id": "f05e9f28-c5fb-4ddb-be68-9443a43e2b27",
   "metadata": {},
   "outputs": [],
   "source": [
    "covariates_df[\"plate\"].nunique()"
   ]
  },
  {
   "cell_type": "code",
   "execution_count": null,
   "id": "f880e61a-7afa-4070-8b90-125ddcea1049",
   "metadata": {},
   "outputs": [],
   "source": [
    "covariates_df"
   ]
  },
  {
   "cell_type": "code",
   "execution_count": null,
   "id": "7677855d-d835-4fc7-9bf4-64edf3d89321",
   "metadata": {},
   "outputs": [],
   "source": [
    "categorical_features = [\"Season\", \"assessment_center\", \"Ethnicity\", \"Sex\",\"plate\", \"Batch\", \"well\"]\n",
    "covariate_cols = categorical_features + [\"fasting_time\" ,\"sample_age\",\"smoking\", \"alcohol\" ,\"Age\",\"BMI\"]"
   ]
  },
  {
   "cell_type": "code",
   "execution_count": null,
   "id": "6f03b7f6-000b-4da7-bc26-22223ef37d1b",
   "metadata": {},
   "outputs": [],
   "source": [
    "covariates_df[categorical_features] =covariates_df[categorical_features].astype(\"str\")"
   ]
  },
  {
   "cell_type": "code",
   "execution_count": null,
   "id": "e87e0773-cce2-40b1-a32d-f29e41363f61",
   "metadata": {},
   "outputs": [],
   "source": [
    "covariates_df.set_index(\"eid\",inplace=True)"
   ]
  },
  {
   "cell_type": "code",
   "execution_count": null,
   "id": "26b0c5ad-4ab8-46f7-8a87-0bdbb49e97cd",
   "metadata": {},
   "outputs": [],
   "source": [
    "categorical_cols = covariates_df.select_dtypes(include=[\"category\", \"object\"]).columns\n",
    "cov_encoded = pd.get_dummies(covariates_df, columns=categorical_cols, drop_first=True)\n",
    "corr_matrix_all = cov_encoded.corr()\n"
   ]
  },
  {
   "cell_type": "code",
   "execution_count": null,
   "id": "8ebb7ff4-ea72-4a81-be70-6ee81bd01cab",
   "metadata": {},
   "outputs": [],
   "source": [
    "import pandas as pd\n",
    "import numpy as np\n",
    "from sklearn.preprocessing import StandardScaler\n",
    "from sklearn.cross_decomposition import CCA\n",
    "\n",
    "def canCorPairs(covariates_df, categorical_encode=\"onehot\"):\n",
    "    \"\"\"\n",
    "    Compute pairwise canonical correlations between all covariates (continuous or categorical)\n",
    "    \n",
    "    Parameters\n",
    "    ----------\n",
    "    covariates_df : pd.DataFrame\n",
    "        Covariates with samples as rows and variables as columns\n",
    "    categorical_encode : str\n",
    "        How to encode categorical variables: \"onehot\" or \"label\"\n",
    "    \n",
    "    Returns\n",
    "    -------\n",
    "    corr_matrix : pd.DataFrame\n",
    "        Pairwise canonical correlation matrix (values between 0 and 1)\n",
    "    \"\"\"\n",
    "    # copy to avoid modifying original\n",
    "    df = covariates_df.copy()\n",
    "\n",
    "    # detect categorical variables\n",
    "    categorical_cols = df.select_dtypes(include=[\"category\", \"object\"]).columns\n",
    "    numeric_cols = df.select_dtypes(include=[\"int64\", \"float64\"]).columns\n",
    "\n",
    "    # encode categorical variables\n",
    "    if categorical_encode == \"onehot\":\n",
    "        df = pd.get_dummies(df, columns=categorical_cols, drop_first=False)\n",
    "    elif categorical_encode == \"label\":\n",
    "        for col in categorical_cols:\n",
    "            df[col] = df[col].astype(\"category\").cat.codes\n",
    "\n",
    "    all_cols = df.columns.tolist()\n",
    "    corr_matrix = pd.DataFrame(np.zeros((len(all_cols), len(all_cols))), \n",
    "                               index=all_cols, columns=all_cols)\n",
    "\n",
    "    # scale all columns\n",
    "    scaler = StandardScaler()\n",
    "    df_scaled = scaler.fit_transform(df)\n",
    "\n",
    "    # compute pairwise canonical correlations\n",
    "    for i, col_i in enumerate(all_cols):\n",
    "        Xi = df_scaled[:, [i]]  # single variable (can be vector if expanded)\n",
    "        for j, col_j in enumerate(all_cols[i:], start=i):\n",
    "            Xj = df_scaled[:, [j]]\n",
    "            \n",
    "            # if i == j, correlation = 1\n",
    "            if i == j:\n",
    "                rho = 1.0\n",
    "            else:\n",
    "                # CCA between two single columns\n",
    "                cca = CCA(n_components=1)\n",
    "                cca.fit(Xi, Xj)\n",
    "                U, V = cca.transform(Xi, Xj)\n",
    "                # canonical correlation\n",
    "                rho = np.corrcoef(U[:, 0], V[:, 0])[0, 1]\n",
    "                # normalize to [0,1] in case of negative correlations\n",
    "                rho = abs(rho)\n",
    "\n",
    "            corr_matrix.at[col_i, col_j] = rho\n",
    "            corr_matrix.at[col_j, col_i] = rho  # symmetric\n",
    "\n",
    "    return corr_matrix\n"
   ]
  },
  {
   "cell_type": "code",
   "execution_count": null,
   "id": "946a64bf-d2d0-45e4-85e1-8f52fb04d8ef",
   "metadata": {},
   "outputs": [],
   "source": [
    "# Assume your covariates dataframe is called covariates_df\n",
    "corr_matrix = canCorPairs(covariates_df)\n",
    "\n",
    "# Save to CSV\n",
    "corr_matrix.to_csv(\"covariates_pairwise_cca.csv\")\n",
    "\n",
    "# Optional: plot heatmap\n",
    "import seaborn as sns\n",
    "import matplotlib.pyplot as plt\n",
    "\n",
    "plt.figure(figsize=(10, 8))\n",
    "sns.heatmap(corr_matrix, annot=True, fmt=\".2f\", cmap=\"coolwarm\")\n",
    "plt.title(\"Pairwise canonical correlations between covariates\")\n",
    "plt.show()\n"
   ]
  },
  {
   "cell_type": "code",
   "execution_count": null,
   "id": "5359d760-99f8-4cc2-90e9-b60bee504cc6",
   "metadata": {},
   "outputs": [],
   "source": [
    "nn"
   ]
  },
  {
   "cell_type": "code",
   "execution_count": null,
   "id": "6937956e-9b53-4985-a312-35c7e81a6836",
   "metadata": {},
   "outputs": [],
   "source": [
    "df_all = pd.merge(df, covariates_df, on=\"eid\")"
   ]
  },
  {
   "cell_type": "code",
   "execution_count": null,
   "id": "cc868e83-1f5e-4059-8fcd-944f3080a5a7",
   "metadata": {},
   "outputs": [],
   "source": [
    "df_all_imp = df_all.dropna()"
   ]
  },
  {
   "cell_type": "code",
   "execution_count": null,
   "id": "da7bf796-9f22-4064-99d9-98358eee115b",
   "metadata": {},
   "outputs": [],
   "source": [
    "protein_cols = df.columns[1:].tolist()"
   ]
  },
  {
   "cell_type": "code",
   "execution_count": null,
   "id": "9d12768b-c6e4-4ead-946f-e7c3438b0920",
   "metadata": {},
   "outputs": [],
   "source": [
    "df_all_imp = df_all_imp.set_index(\"eid\")"
   ]
  },
  {
   "cell_type": "code",
   "execution_count": null,
   "id": "3ec165d0-d888-4320-9e2a-4012ba78f601",
   "metadata": {},
   "outputs": [],
   "source": [
    "nnn"
   ]
  },
  {
   "cell_type": "code",
   "execution_count": null,
   "id": "dc9bd538-49ce-4490-9bd1-e82ea4008bf3",
   "metadata": {},
   "outputs": [],
   "source": []
  },
  {
   "cell_type": "markdown",
   "id": "16bf981c-c971-4f35-ad97-ae4c6aff24d3",
   "metadata": {},
   "source": [
    "import statsmodels.formula.api as smf\n",
    "import pandas as pd\n",
    "\n",
    "residuals_by_cov = {}  \n",
    "\n",
    "for cov in covariate_cols:\n",
    "    residual_data = {}\n",
    "\n",
    "    for protein in protein_cols:\n",
    "        # Handle categorical vs continuous\n",
    "        term = f\"C({cov})\" if df_all_imp[cov].dtype == \"object\" else cov\n",
    "\n",
    "        lhs = f'Q(\"{protein}\")'\n",
    "        formula = f'{lhs} ~ {term}'\n",
    "\n",
    "        # Fit model\n",
    "        model = smf.ols(formula, data=df_all_imp).fit()\n",
    "\n",
    "        # Collect residuals\n",
    "        residual_data[protein] = model.resid\n",
    "\n",
    "    # Save as DataFrame for this covariate\n",
    "    residuals_by_cov[cov] = pd.DataFrame(residual_data, index=df_all_imp.index)\n",
    "\n",
    "    # Optionally save each to file\n",
    "    residuals_by_cov[cov].to_csv(f\"Residualised_{cov}.csv\")\n"
   ]
  },
  {
   "cell_type": "code",
   "execution_count": null,
   "id": "50afd899-8516-4393-9418-ca9e22ff33cf",
   "metadata": {},
   "outputs": [],
   "source": [
    "df_assessment = pd.read_csv(\"Residualised_assessment_center.csv\").set_index(\"eid\")"
   ]
  },
  {
   "cell_type": "code",
   "execution_count": null,
   "id": "d30c73d4-4c1c-432f-b2c1-d5647d319b3f",
   "metadata": {},
   "outputs": [],
   "source": [
    "df_alcohol = pd.read_csv(\"Residualised_alcohol.csv\").set_index(\"eid\")"
   ]
  },
  {
   "cell_type": "code",
   "execution_count": null,
   "id": "4ce24717-6b34-4ba8-b72f-4f74b986b97b",
   "metadata": {},
   "outputs": [],
   "source": [
    "df_sample_age = pd.read_csv(\"Residualised_sample_age.csv\").set_index(\"eid\")"
   ]
  },
  {
   "cell_type": "code",
   "execution_count": null,
   "id": "7a121b09-a4be-4b29-8a05-b0593ed0c474",
   "metadata": {},
   "outputs": [],
   "source": [
    "df_Ethnicity = pd.read_csv(\"Residualised_Ethnicity.csv\").set_index(\"eid\")"
   ]
  },
  {
   "cell_type": "code",
   "execution_count": null,
   "id": "29000e74-d5a5-47fa-96bc-724db33f6db8",
   "metadata": {},
   "outputs": [],
   "source": [
    "df_Season= pd.read_csv(\"Residualised_Season.csv\").set_index(\"eid\")"
   ]
  },
  {
   "cell_type": "code",
   "execution_count": null,
   "id": "f7b32a25-cb57-41c6-a046-d2551c19468d",
   "metadata": {},
   "outputs": [],
   "source": [
    "df_age = pd.read_csv(\"Residualised_Age.csv\").set_index(\"eid\")"
   ]
  },
  {
   "cell_type": "code",
   "execution_count": null,
   "id": "45d74fce-ba53-4817-b342-4afbfc877fef",
   "metadata": {},
   "outputs": [],
   "source": [
    "df_BMI = pd.read_csv(\"Residualised_BMI.csv\").set_index(\"eid\")"
   ]
  },
  {
   "cell_type": "code",
   "execution_count": null,
   "id": "e7dd2903-5cb1-4c73-a7e4-c15460870196",
   "metadata": {},
   "outputs": [],
   "source": [
    "df_smoking = pd.read_csv(\"Residualised_smoking.csv\").set_index(\"eid\")"
   ]
  },
  {
   "cell_type": "code",
   "execution_count": null,
   "id": "0a67448f-47f8-428c-9a5e-9e55bb4163bd",
   "metadata": {},
   "outputs": [],
   "source": [
    "df = df.set_index(\"eid\")"
   ]
  },
  {
   "cell_type": "code",
   "execution_count": null,
   "id": "2d0a7d2a-7a57-43a6-93de-748aae261286",
   "metadata": {},
   "outputs": [],
   "source": [
    "df_BMI = df_BMI.set_index(\"eid\")"
   ]
  },
  {
   "cell_type": "code",
   "execution_count": null,
   "id": "a19656ec-a49c-4ced-b06b-cead810dc824",
   "metadata": {},
   "outputs": [],
   "source": [
    "df_BMI"
   ]
  },
  {
   "cell_type": "code",
   "execution_count": null,
   "id": "11b23623-cc51-451a-9193-b0c3619b4ccc",
   "metadata": {},
   "outputs": [],
   "source": [
    "cov_dfs = {\n",
    "    \"assessment_center\": df_assessment,\n",
    "    \"alcohol\": df_alcohol,\n",
    "    \"sample_age\": df_sample_age,\n",
    "    \"Ethnicity\": df_Ethnicity,\n",
    "    \"Season\": df_Season,\n",
    "    \"Age\": df_age,\n",
    "    \"BMI\": df_BMI,\n",
    "    \"smoking\": df_smoking,\n",
    "}"
   ]
  },
  {
   "cell_type": "code",
   "execution_count": null,
   "id": "249b994f-4fc2-4188-9746-cf2257862477",
   "metadata": {},
   "outputs": [],
   "source": [
    "results = []\n",
    "\n",
    "for cov_name, cov_df in cov_dfs.items():\n",
    "\n",
    "    corrs = df.corrwith(cov_df, axis=0)\n",
    "    tmp = corrs.reset_index()\n",
    "    tmp.columns = [\"protein\", \"pearson_r\"]\n",
    "    tmp[\"covariate\"] = cov_name\n",
    "    results.append(tmp)\n",
    "    \n"
   ]
  },
  {
   "cell_type": "code",
   "execution_count": null,
   "id": "027ff029-9f85-4ae7-8eb1-9ef9ca907d27",
   "metadata": {},
   "outputs": [],
   "source": [
    "corr_df = pd.concat(results, ignore_index=True)\n",
    "\n",
    "# Sort by correlation\n",
    "corr_df_sorted = corr_df.sort_values(by=\"pearson_r\", ascending=True)  # smallest first\n",
    "# or descending:\n",
    "# corr_df_sorted = corr_df.sort_values(by=\"pearson_r\", ascending=False)\n",
    "\n",
    "print(corr_df_sorted.head())\n"
   ]
  },
  {
   "cell_type": "code",
   "execution_count": null,
   "id": "693a6141-cbfa-4e43-ae60-fd694b4b0c7b",
   "metadata": {},
   "outputs": [],
   "source": [
    "corr_df_sorted[corr_df_sorted[\"covariate\"] == \"assessment_center\"] "
   ]
  },
  {
   "cell_type": "code",
   "execution_count": null,
   "id": "79c58c4f-66ac-4a52-ad4a-8609d2d24c1d",
   "metadata": {},
   "outputs": [],
   "source": []
  }
 ],
 "metadata": {
  "kernelspec": {
   "display_name": "Python (test_env)",
   "language": "python",
   "name": "test_env"
  },
  "language_info": {
   "codemirror_mode": {
    "name": "ipython",
    "version": 3
   },
   "file_extension": ".py",
   "mimetype": "text/x-python",
   "name": "python",
   "nbconvert_exporter": "python",
   "pygments_lexer": "ipython3",
   "version": "3.10.5"
  }
 },
 "nbformat": 4,
 "nbformat_minor": 5
}
