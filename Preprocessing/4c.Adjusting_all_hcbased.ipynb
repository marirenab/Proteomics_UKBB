{
 "cells": [
  {
   "cell_type": "code",
   "execution_count": null,
   "metadata": {},
   "outputs": [],
   "source": [
    "import pandas as pd\n",
    "import numpy as np\n",
    "import seaborn as sns \n",
    "import matplotlib.pyplot as plt\n",
    "import statsmodels.formula.api as smf"
   ]
  },
  {
   "cell_type": "code",
   "execution_count": null,
   "metadata": {},
   "outputs": [],
   "source": [
    "covariates = pd.read_csv(\"/rds/general/user/meb22/projects/ukbiobank/live/ukbiobank/data_2025/proteomics/Processed_all_covariates.csv\").iloc[:,1:]\n"
   ]
  },
  {
   "cell_type": "code",
   "execution_count": null,
   "metadata": {},
   "outputs": [],
   "source": [
    "covariate_cols = [\"Age\",\"Sex\",\"Ethnicity\",\"BMI\",\"Season\",\"fasting_time\",\"sample_age\",\"smoking\",\"alcohol\"]"
   ]
  },
  {
   "cell_type": "code",
   "execution_count": null,
   "metadata": {},
   "outputs": [],
   "source": [
    "df_all_pivot_training = pd.read_csv(\"Training_data_imputed_lesscols.csv\")"
   ]
  },
  {
   "cell_type": "code",
   "execution_count": null,
   "metadata": {},
   "outputs": [],
   "source": [
    "df_all_pivot_traininghc= pd.read_csv(\"Training_healthycontrol.csv\")"
   ]
  },
  {
   "cell_type": "code",
   "execution_count": null,
   "metadata": {},
   "outputs": [],
   "source": [
    "df_all_cov = pd.merge(df_all_pivot_training, covariates, on=\"eid\")"
   ]
  },
  {
   "cell_type": "code",
   "execution_count": null,
   "metadata": {},
   "outputs": [],
   "source": [
    "healthy_controls_training = df_all_pivot_traininghc[df_all_pivot_traininghc[\"Diagnosis\"] ==0][\"eid\"].unique().tolist()"
   ]
  },
  {
   "cell_type": "code",
   "execution_count": null,
   "metadata": {},
   "outputs": [],
   "source": [
    "df_all_pivot_training= df_all_pivot_training[df_all_pivot_training[\"eid\"].isin(healthy_controls_training)]"
   ]
  },
  {
   "cell_type": "code",
   "execution_count": null,
   "metadata": {},
   "outputs": [],
   "source": [
    "df_all_cov_dropna = df_all_cov.dropna(subset=covariate_cols)"
   ]
  },
  {
   "cell_type": "code",
   "execution_count": null,
   "metadata": {},
   "outputs": [],
   "source": [
    "df_all_cov_dropna.set_index([\"eid\"],inplace=True)"
   ]
  },
  {
   "cell_type": "code",
   "execution_count": null,
   "metadata": {},
   "outputs": [],
   "source": [
    "df_all_cov_dropna_all = df_all_cov_dropna.copy(deep=True)"
   ]
  },
  {
   "cell_type": "code",
   "execution_count": null,
   "metadata": {},
   "outputs": [],
   "source": [
    "df_all_cov_dropna"
   ]
  },
  {
   "cell_type": "code",
   "execution_count": null,
   "metadata": {},
   "outputs": [],
   "source": []
  },
  {
   "cell_type": "code",
   "execution_count": null,
   "metadata": {},
   "outputs": [],
   "source": [
    "df_all_cov_dropna = df_all_cov_dropna[df_all_cov_dropna.index.isin(healthy_controls_training)]"
   ]
  },
  {
   "cell_type": "code",
   "execution_count": null,
   "metadata": {},
   "outputs": [],
   "source": [
    "df_all_cov_dropna_rest = df_all_cov_dropna_all[~df_all_cov_dropna_all.index.isin(healthy_controls_training)]\n"
   ]
  },
  {
   "cell_type": "code",
   "execution_count": null,
   "metadata": {},
   "outputs": [],
   "source": [
    "df_all_cov_dropna_rest"
   ]
  },
  {
   "cell_type": "code",
   "execution_count": null,
   "metadata": {},
   "outputs": [],
   "source": [
    "protein_cols = df_all_cov_dropna.columns[:-16]"
   ]
  },
  {
   "cell_type": "code",
   "execution_count": null,
   "metadata": {},
   "outputs": [],
   "source": [
    "protein_cols"
   ]
  },
  {
   "cell_type": "code",
   "execution_count": null,
   "metadata": {},
   "outputs": [],
   "source": [
    "df_all_cov_dropna"
   ]
  },
  {
   "cell_type": "code",
   "execution_count": null,
   "metadata": {},
   "outputs": [],
   "source": [
    "import statsmodels.formula.api as smf\n",
    "import joblib\n",
    "\n",
    "model_params = {}\n",
    "residual_data = {}  # temporary dict to collect residuals\n",
    "\n",
    "for protein in protein_cols:\n",
    "    # Construct formula terms\n",
    "    terms = [f\"C({col})\" if df_all_cov_dropna[col].dtype == \"object\" else col for col in covariate_cols]\n",
    "\n",
    "    lhs = f'Q(\"{protein}\")'\n",
    "    rhs = ' + '.join(terms)\n",
    "    formula = f'{lhs} ~ {rhs}'\n",
    "\n",
    "    # Fit model\n",
    "    model = smf.ols(formula, data=df_all_cov_dropna).fit()\n",
    "\n",
    "    # Collect residuals\n",
    "    residual_data[protein] = model.resid\n",
    "\n",
    "    # Store model info\n",
    "    model_params[protein] = {\n",
    "        'coeffs': model.params,\n",
    "        'covariates_used': covariate_cols,\n",
    "        'terms': terms,\n",
    "        'model_formula': formula,\n",
    "        'categorical_levels': {\n",
    "            col: df_all_cov_dropna[col].astype(\"category\").cat.categories.tolist()\n",
    "            for col in covariate_cols if df_all_cov_dropna[col].dtype == 'object'\n",
    "        }\n",
    "    }\n"
   ]
  },
  {
   "cell_type": "code",
   "execution_count": null,
   "metadata": {},
   "outputs": [],
   "source": [
    "residuals_df_all = pd.DataFrame(residual_data, index=df_all_cov_dropna.index)\n",
    "\n",
    "# Save model and residuals\n",
    "joblib.dump(model_params, \"ancova_modelshealthycontrol.pkl\")\n"
   ]
  },
  {
   "cell_type": "code",
   "execution_count": null,
   "metadata": {},
   "outputs": [],
   "source": [
    "residuals_df_all"
   ]
  },
  {
   "cell_type": "code",
   "execution_count": null,
   "metadata": {},
   "outputs": [],
   "source": [
    "flat_params = []\n",
    "\n",
    "for protein, details in model_params.items():\n",
    "    for covariate, coef in details['coeffs'].items():\n",
    "        flat_params.append({\n",
    "            \"protein\": protein,\n",
    "            \"covariate\": covariate,\n",
    "            \"coefficient\": coef,\n",
    "            \"model_formula\": details[\"model_formula\"]\n",
    "        })\n",
    "\n",
    "pd.DataFrame(flat_params).to_csv(\"ancova_modelshealthycontrol.csv\", index=False)\n"
   ]
  },
  {
   "cell_type": "code",
   "execution_count": null,
   "metadata": {},
   "outputs": [],
   "source": [
    "ancova_coef =pd.read_csv(\"ancova_modelshealthycontrol.csv\")"
   ]
  },
  {
   "cell_type": "code",
   "execution_count": null,
   "metadata": {},
   "outputs": [],
   "source": [
    "coef_pivot = ancova_coef.pivot(index='covariate', columns='protein', values='coefficient')"
   ]
  },
  {
   "cell_type": "code",
   "execution_count": null,
   "metadata": {},
   "outputs": [],
   "source": [
    "import patsy\n",
    "\n",
    "predicted_data = {}  # Collect predictions for each protein here\n",
    "\n",
    "# Copy the data to avoid mutating your original DataFrame\n",
    "df_temp = df_all_cov_dropna_rest.copy()\n",
    "\n",
    "for protein, info in model_params.items():\n",
    "    formula = info[\"model_formula\"]\n",
    "    coeffs = info[\"coeffs\"]\n",
    "\n",
    "    # Set categorical levels to match training\n",
    "    if 'categorical_levels' in info:\n",
    "        for col, levels in info['categorical_levels'].items():\n",
    "            if col in df_temp.columns:\n",
    "                df_temp[col] = pd.Categorical(df_temp[col], categories=levels)\n",
    "\n",
    "    # Create design matrix\n",
    "    try:\n",
    "        design_matrix = patsy.dmatrix(\n",
    "            formula.split(\"~\")[1],\n",
    "            df_temp,\n",
    "            return_type='dataframe'\n",
    "        )\n",
    "    except Exception as e:\n",
    "        print(f\"Error generating design matrix for {protein}: {e}\")\n",
    "        continue\n",
    "\n",
    "    # Add missing columns as 0\n",
    "    for col in coeffs.index:\n",
    "        if col not in design_matrix.columns:\n",
    "            design_matrix[col] = 0\n",
    "\n",
    "    # Reorder columns to match model\n",
    "    design_matrix = design_matrix[coeffs.index]\n",
    "\n",
    "    # Predict\n",
    "    predicted_data[protein] = design_matrix @ coeffs\n",
    "\n",
    "# Create DataFrame all at once\n",
    "predicted_df = pd.DataFrame(predicted_data, index=df_all_cov_dropna_rest.index)\n"
   ]
  },
  {
   "cell_type": "code",
   "execution_count": null,
   "metadata": {},
   "outputs": [],
   "source": [
    "residuals_df = df_all_cov_dropna_rest[protein_cols] - predicted_df"
   ]
  },
  {
   "cell_type": "code",
   "execution_count": null,
   "metadata": {},
   "outputs": [],
   "source": [
    "residuals_df_all_all = pd.concat([residuals_df_all, residuals_df])"
   ]
  },
  {
   "cell_type": "code",
   "execution_count": null,
   "metadata": {},
   "outputs": [],
   "source": [
    "residuals_df_all_all.to_csv(\"Residualised_healthycontrol_training_all.csv\")"
   ]
  },
  {
   "cell_type": "code",
   "execution_count": null,
   "metadata": {},
   "outputs": [],
   "source": [
    "residuals_df_all_all"
   ]
  },
  {
   "cell_type": "code",
   "execution_count": null,
   "metadata": {},
   "outputs": [],
   "source": [
    "test_data = pd.read_csv(\"Testing_data_imputed_lesscols.csv\")"
   ]
  },
  {
   "cell_type": "code",
   "execution_count": null,
   "metadata": {},
   "outputs": [],
   "source": [
    "df_test = pd.merge(test_data.reset_index(), covariates, on=\"eid\")"
   ]
  },
  {
   "cell_type": "code",
   "execution_count": null,
   "metadata": {},
   "outputs": [],
   "source": [
    "df_test.set_index([\"eid\"],inplace=True)"
   ]
  },
  {
   "cell_type": "code",
   "execution_count": null,
   "metadata": {},
   "outputs": [],
   "source": [
    "import patsy\n",
    "\n",
    "predicted_data = {}  # Collect predictions for each protein here\n",
    "\n",
    "# Copy the data to avoid mutating your original DataFrame\n",
    "df_temp = df_test.copy()\n",
    "\n",
    "for protein, info in model_params.items():\n",
    "    formula = info[\"model_formula\"]\n",
    "    coeffs = info[\"coeffs\"]\n",
    "\n",
    "    # Set categorical levels to match training\n",
    "    if 'categorical_levels' in info:\n",
    "        for col, levels in info['categorical_levels'].items():\n",
    "            if col in df_temp.columns:\n",
    "                df_temp[col] = pd.Categorical(df_temp[col], categories=levels)\n",
    "\n",
    "    # Create design matrix\n",
    "    try:\n",
    "        design_matrix = patsy.dmatrix(\n",
    "            formula.split(\"~\")[1],\n",
    "            df_temp,\n",
    "            return_type='dataframe'\n",
    "        )\n",
    "    except Exception as e:\n",
    "        print(f\"Error generating design matrix for {protein}: {e}\")\n",
    "        continue\n",
    "\n",
    "    # Add missing columns as 0\n",
    "    for col in coeffs.index:\n",
    "        if col not in design_matrix.columns:\n",
    "            design_matrix[col] = 0\n",
    "\n",
    "    # Reorder columns to match model\n",
    "    design_matrix = design_matrix[coeffs.index]\n",
    "\n",
    "    # Predict\n",
    "    predicted_data[protein] = design_matrix @ coeffs\n",
    "\n",
    "# Create DataFrame all at once\n",
    "predicted_df = pd.DataFrame(predicted_data, index=df_test.index)\n"
   ]
  },
  {
   "cell_type": "code",
   "execution_count": null,
   "metadata": {},
   "outputs": [],
   "source": [
    "residuals_df = df_test[protein_cols] - predicted_df"
   ]
  },
  {
   "cell_type": "code",
   "execution_count": null,
   "metadata": {},
   "outputs": [],
   "source": [
    "residuals_df.to_csv(\"Testing_data_residualshealthycontrol.csv\")"
   ]
  }
 ],
 "metadata": {
  "kernelspec": {
   "display_name": "Python (test_env)",
   "language": "python",
   "name": "test_env"
  },
  "language_info": {
   "codemirror_mode": {
    "name": "ipython",
    "version": 3
   },
   "file_extension": ".py",
   "mimetype": "text/x-python",
   "name": "python",
   "nbconvert_exporter": "python",
   "pygments_lexer": "ipython3",
   "version": "3.10.5"
  }
 },
 "nbformat": 4,
 "nbformat_minor": 4
}
