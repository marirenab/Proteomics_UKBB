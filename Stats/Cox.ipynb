{
 "cells": [
  {
   "cell_type": "code",
   "execution_count": 1,
   "metadata": {},
   "outputs": [],
   "source": [
    "import pandas as pd\n",
    "import numpy as np\n",
    "import matplotlib.pyplot as plt\n",
    "from sksurv.metrics import concordance_index_censored\n",
    "\n",
    "from sksurv.nonparametric import kaplan_meier_estimator"
   ]
  },
  {
   "cell_type": "code",
   "execution_count": 2,
   "metadata": {},
   "outputs": [],
   "source": [
    "df = pd.read_csv(\"../Training_healthycontrol.csv\")"
   ]
  },
  {
   "cell_type": "code",
   "execution_count": 3,
   "metadata": {},
   "outputs": [
    {
     "data": {
      "text/html": [
       "<div>\n",
       "<style scoped>\n",
       "    .dataframe tbody tr th:only-of-type {\n",
       "        vertical-align: middle;\n",
       "    }\n",
       "\n",
       "    .dataframe tbody tr th {\n",
       "        vertical-align: top;\n",
       "    }\n",
       "\n",
       "    .dataframe thead th {\n",
       "        text-align: right;\n",
       "    }\n",
       "</style>\n",
       "<table border=\"1\" class=\"dataframe\">\n",
       "  <thead>\n",
       "    <tr style=\"text-align: right;\">\n",
       "      <th></th>\n",
       "      <th>eid</th>\n",
       "      <th>A1BG</th>\n",
       "      <th>AAMDC</th>\n",
       "      <th>AARSD1</th>\n",
       "      <th>ABCA2</th>\n",
       "      <th>ABHD14B</th>\n",
       "      <th>ABL1</th>\n",
       "      <th>ABO</th>\n",
       "      <th>ABRAXAS2</th>\n",
       "      <th>ACAA1</th>\n",
       "      <th>...</th>\n",
       "      <th>ZHX2</th>\n",
       "      <th>ZNF174</th>\n",
       "      <th>ZNF75D</th>\n",
       "      <th>ZNF830</th>\n",
       "      <th>ZNRD2</th>\n",
       "      <th>ZNRF4</th>\n",
       "      <th>ZP3</th>\n",
       "      <th>ZP4</th>\n",
       "      <th>ZPR1</th>\n",
       "      <th>Diagnosis</th>\n",
       "    </tr>\n",
       "  </thead>\n",
       "  <tbody>\n",
       "    <tr>\n",
       "      <th>0</th>\n",
       "      <td>1000266</td>\n",
       "      <td>NaN</td>\n",
       "      <td>NaN</td>\n",
       "      <td>0.40715</td>\n",
       "      <td>NaN</td>\n",
       "      <td>-0.11755</td>\n",
       "      <td>0.25745</td>\n",
       "      <td>NaN</td>\n",
       "      <td>NaN</td>\n",
       "      <td>-0.14200</td>\n",
       "      <td>...</td>\n",
       "      <td>NaN</td>\n",
       "      <td>NaN</td>\n",
       "      <td>NaN</td>\n",
       "      <td>NaN</td>\n",
       "      <td>NaN</td>\n",
       "      <td>NaN</td>\n",
       "      <td>NaN</td>\n",
       "      <td>NaN</td>\n",
       "      <td>NaN</td>\n",
       "      <td>0</td>\n",
       "    </tr>\n",
       "    <tr>\n",
       "      <th>1</th>\n",
       "      <td>1000497</td>\n",
       "      <td>NaN</td>\n",
       "      <td>NaN</td>\n",
       "      <td>0.42255</td>\n",
       "      <td>NaN</td>\n",
       "      <td>0.01375</td>\n",
       "      <td>-0.02095</td>\n",
       "      <td>NaN</td>\n",
       "      <td>NaN</td>\n",
       "      <td>0.77410</td>\n",
       "      <td>...</td>\n",
       "      <td>NaN</td>\n",
       "      <td>NaN</td>\n",
       "      <td>NaN</td>\n",
       "      <td>NaN</td>\n",
       "      <td>NaN</td>\n",
       "      <td>NaN</td>\n",
       "      <td>NaN</td>\n",
       "      <td>NaN</td>\n",
       "      <td>NaN</td>\n",
       "      <td>0</td>\n",
       "    </tr>\n",
       "    <tr>\n",
       "      <th>2</th>\n",
       "      <td>1000677</td>\n",
       "      <td>0.1568</td>\n",
       "      <td>0.01295</td>\n",
       "      <td>-0.31630</td>\n",
       "      <td>1.05585</td>\n",
       "      <td>-0.38540</td>\n",
       "      <td>0.00970</td>\n",
       "      <td>3.2135</td>\n",
       "      <td>0.6769</td>\n",
       "      <td>-0.23070</td>\n",
       "      <td>...</td>\n",
       "      <td>-0.0291</td>\n",
       "      <td>-0.0502</td>\n",
       "      <td>-0.2307</td>\n",
       "      <td>0.92400</td>\n",
       "      <td>0.16225</td>\n",
       "      <td>-0.3312</td>\n",
       "      <td>0.1418</td>\n",
       "      <td>-0.3423</td>\n",
       "      <td>2.5653</td>\n",
       "      <td>0</td>\n",
       "    </tr>\n",
       "    <tr>\n",
       "      <th>3</th>\n",
       "      <td>1000850</td>\n",
       "      <td>NaN</td>\n",
       "      <td>NaN</td>\n",
       "      <td>-0.55015</td>\n",
       "      <td>NaN</td>\n",
       "      <td>-0.25335</td>\n",
       "      <td>-0.31335</td>\n",
       "      <td>NaN</td>\n",
       "      <td>NaN</td>\n",
       "      <td>-0.84740</td>\n",
       "      <td>...</td>\n",
       "      <td>NaN</td>\n",
       "      <td>NaN</td>\n",
       "      <td>NaN</td>\n",
       "      <td>NaN</td>\n",
       "      <td>NaN</td>\n",
       "      <td>NaN</td>\n",
       "      <td>NaN</td>\n",
       "      <td>NaN</td>\n",
       "      <td>NaN</td>\n",
       "      <td>0</td>\n",
       "    </tr>\n",
       "    <tr>\n",
       "      <th>4</th>\n",
       "      <td>1001107</td>\n",
       "      <td>-0.2110</td>\n",
       "      <td>-0.77445</td>\n",
       "      <td>0.20225</td>\n",
       "      <td>0.20750</td>\n",
       "      <td>-1.09045</td>\n",
       "      <td>-0.32760</td>\n",
       "      <td>-0.2397</td>\n",
       "      <td>-0.2388</td>\n",
       "      <td>0.64995</td>\n",
       "      <td>...</td>\n",
       "      <td>-0.0234</td>\n",
       "      <td>-0.0212</td>\n",
       "      <td>-0.1525</td>\n",
       "      <td>1.01270</td>\n",
       "      <td>-1.19675</td>\n",
       "      <td>-0.1437</td>\n",
       "      <td>-5.3070</td>\n",
       "      <td>0.0043</td>\n",
       "      <td>-0.0303</td>\n",
       "      <td>0</td>\n",
       "    </tr>\n",
       "    <tr>\n",
       "      <th>...</th>\n",
       "      <td>...</td>\n",
       "      <td>...</td>\n",
       "      <td>...</td>\n",
       "      <td>...</td>\n",
       "      <td>...</td>\n",
       "      <td>...</td>\n",
       "      <td>...</td>\n",
       "      <td>...</td>\n",
       "      <td>...</td>\n",
       "      <td>...</td>\n",
       "      <td>...</td>\n",
       "      <td>...</td>\n",
       "      <td>...</td>\n",
       "      <td>...</td>\n",
       "      <td>...</td>\n",
       "      <td>...</td>\n",
       "      <td>...</td>\n",
       "      <td>...</td>\n",
       "      <td>...</td>\n",
       "      <td>...</td>\n",
       "      <td>...</td>\n",
       "    </tr>\n",
       "    <tr>\n",
       "      <th>21761</th>\n",
       "      <td>6024052</td>\n",
       "      <td>-0.1365</td>\n",
       "      <td>-0.32825</td>\n",
       "      <td>-0.62590</td>\n",
       "      <td>-0.00800</td>\n",
       "      <td>-0.49220</td>\n",
       "      <td>-0.20050</td>\n",
       "      <td>1.1230</td>\n",
       "      <td>-1.1933</td>\n",
       "      <td>1.26780</td>\n",
       "      <td>...</td>\n",
       "      <td>-0.0275</td>\n",
       "      <td>0.3982</td>\n",
       "      <td>-0.4677</td>\n",
       "      <td>-0.51045</td>\n",
       "      <td>-0.80770</td>\n",
       "      <td>-0.5196</td>\n",
       "      <td>-5.9031</td>\n",
       "      <td>-0.1250</td>\n",
       "      <td>0.0003</td>\n",
       "      <td>0</td>\n",
       "    </tr>\n",
       "    <tr>\n",
       "      <th>21762</th>\n",
       "      <td>6024075</td>\n",
       "      <td>0.1595</td>\n",
       "      <td>1.11965</td>\n",
       "      <td>0.14235</td>\n",
       "      <td>-0.54850</td>\n",
       "      <td>0.73410</td>\n",
       "      <td>1.67810</td>\n",
       "      <td>-2.3058</td>\n",
       "      <td>1.2812</td>\n",
       "      <td>1.06350</td>\n",
       "      <td>...</td>\n",
       "      <td>0.3143</td>\n",
       "      <td>-0.1279</td>\n",
       "      <td>-0.6946</td>\n",
       "      <td>-0.05560</td>\n",
       "      <td>1.43715</td>\n",
       "      <td>-0.2600</td>\n",
       "      <td>-0.1321</td>\n",
       "      <td>-0.1913</td>\n",
       "      <td>0.0007</td>\n",
       "      <td>0</td>\n",
       "    </tr>\n",
       "    <tr>\n",
       "      <th>21763</th>\n",
       "      <td>6024150</td>\n",
       "      <td>-0.1154</td>\n",
       "      <td>-0.29855</td>\n",
       "      <td>-0.35900</td>\n",
       "      <td>0.05370</td>\n",
       "      <td>NaN</td>\n",
       "      <td>-0.35270</td>\n",
       "      <td>-1.1163</td>\n",
       "      <td>-0.1071</td>\n",
       "      <td>-0.65720</td>\n",
       "      <td>...</td>\n",
       "      <td>-0.2593</td>\n",
       "      <td>0.1530</td>\n",
       "      <td>-0.2947</td>\n",
       "      <td>-0.06875</td>\n",
       "      <td>0.26890</td>\n",
       "      <td>0.5310</td>\n",
       "      <td>0.2054</td>\n",
       "      <td>0.0620</td>\n",
       "      <td>0.5324</td>\n",
       "      <td>0</td>\n",
       "    </tr>\n",
       "    <tr>\n",
       "      <th>21764</th>\n",
       "      <td>6024388</td>\n",
       "      <td>-0.0518</td>\n",
       "      <td>0.47975</td>\n",
       "      <td>-0.19385</td>\n",
       "      <td>-0.20240</td>\n",
       "      <td>0.70555</td>\n",
       "      <td>0.78740</td>\n",
       "      <td>2.0945</td>\n",
       "      <td>0.5587</td>\n",
       "      <td>0.70440</td>\n",
       "      <td>...</td>\n",
       "      <td>-0.1309</td>\n",
       "      <td>-0.1359</td>\n",
       "      <td>-0.1317</td>\n",
       "      <td>-0.55340</td>\n",
       "      <td>-0.54295</td>\n",
       "      <td>0.5839</td>\n",
       "      <td>0.8439</td>\n",
       "      <td>-0.1413</td>\n",
       "      <td>0.4008</td>\n",
       "      <td>0</td>\n",
       "    </tr>\n",
       "    <tr>\n",
       "      <th>21765</th>\n",
       "      <td>6024672</td>\n",
       "      <td>0.0060</td>\n",
       "      <td>-0.44115</td>\n",
       "      <td>-0.51825</td>\n",
       "      <td>-0.45350</td>\n",
       "      <td>-0.62790</td>\n",
       "      <td>-0.96890</td>\n",
       "      <td>-1.6616</td>\n",
       "      <td>-0.4367</td>\n",
       "      <td>-1.00170</td>\n",
       "      <td>...</td>\n",
       "      <td>-0.2212</td>\n",
       "      <td>0.7505</td>\n",
       "      <td>-0.1989</td>\n",
       "      <td>-0.00500</td>\n",
       "      <td>-0.43745</td>\n",
       "      <td>-0.4000</td>\n",
       "      <td>-0.4393</td>\n",
       "      <td>0.5267</td>\n",
       "      <td>2.4055</td>\n",
       "      <td>0</td>\n",
       "    </tr>\n",
       "  </tbody>\n",
       "</table>\n",
       "<p>21766 rows × 2925 columns</p>\n",
       "</div>"
      ],
      "text/plain": [
       "           eid    A1BG    AAMDC   AARSD1    ABCA2  ABHD14B     ABL1     ABO  \\\n",
       "0      1000266     NaN      NaN  0.40715      NaN -0.11755  0.25745     NaN   \n",
       "1      1000497     NaN      NaN  0.42255      NaN  0.01375 -0.02095     NaN   \n",
       "2      1000677  0.1568  0.01295 -0.31630  1.05585 -0.38540  0.00970  3.2135   \n",
       "3      1000850     NaN      NaN -0.55015      NaN -0.25335 -0.31335     NaN   \n",
       "4      1001107 -0.2110 -0.77445  0.20225  0.20750 -1.09045 -0.32760 -0.2397   \n",
       "...        ...     ...      ...      ...      ...      ...      ...     ...   \n",
       "21761  6024052 -0.1365 -0.32825 -0.62590 -0.00800 -0.49220 -0.20050  1.1230   \n",
       "21762  6024075  0.1595  1.11965  0.14235 -0.54850  0.73410  1.67810 -2.3058   \n",
       "21763  6024150 -0.1154 -0.29855 -0.35900  0.05370      NaN -0.35270 -1.1163   \n",
       "21764  6024388 -0.0518  0.47975 -0.19385 -0.20240  0.70555  0.78740  2.0945   \n",
       "21765  6024672  0.0060 -0.44115 -0.51825 -0.45350 -0.62790 -0.96890 -1.6616   \n",
       "\n",
       "       ABRAXAS2    ACAA1  ...    ZHX2  ZNF174  ZNF75D   ZNF830    ZNRD2  \\\n",
       "0           NaN -0.14200  ...     NaN     NaN     NaN      NaN      NaN   \n",
       "1           NaN  0.77410  ...     NaN     NaN     NaN      NaN      NaN   \n",
       "2        0.6769 -0.23070  ... -0.0291 -0.0502 -0.2307  0.92400  0.16225   \n",
       "3           NaN -0.84740  ...     NaN     NaN     NaN      NaN      NaN   \n",
       "4       -0.2388  0.64995  ... -0.0234 -0.0212 -0.1525  1.01270 -1.19675   \n",
       "...         ...      ...  ...     ...     ...     ...      ...      ...   \n",
       "21761   -1.1933  1.26780  ... -0.0275  0.3982 -0.4677 -0.51045 -0.80770   \n",
       "21762    1.2812  1.06350  ...  0.3143 -0.1279 -0.6946 -0.05560  1.43715   \n",
       "21763   -0.1071 -0.65720  ... -0.2593  0.1530 -0.2947 -0.06875  0.26890   \n",
       "21764    0.5587  0.70440  ... -0.1309 -0.1359 -0.1317 -0.55340 -0.54295   \n",
       "21765   -0.4367 -1.00170  ... -0.2212  0.7505 -0.1989 -0.00500 -0.43745   \n",
       "\n",
       "        ZNRF4     ZP3     ZP4    ZPR1  Diagnosis  \n",
       "0         NaN     NaN     NaN     NaN          0  \n",
       "1         NaN     NaN     NaN     NaN          0  \n",
       "2     -0.3312  0.1418 -0.3423  2.5653          0  \n",
       "3         NaN     NaN     NaN     NaN          0  \n",
       "4     -0.1437 -5.3070  0.0043 -0.0303          0  \n",
       "...       ...     ...     ...     ...        ...  \n",
       "21761 -0.5196 -5.9031 -0.1250  0.0003          0  \n",
       "21762 -0.2600 -0.1321 -0.1913  0.0007          0  \n",
       "21763  0.5310  0.2054  0.0620  0.5324          0  \n",
       "21764  0.5839  0.8439 -0.1413  0.4008          0  \n",
       "21765 -0.4000 -0.4393  0.5267  2.4055          0  \n",
       "\n",
       "[21766 rows x 2925 columns]"
      ]
     },
     "execution_count": 3,
     "metadata": {},
     "output_type": "execute_result"
    }
   ],
   "source": [
    "df"
   ]
  },
  {
   "cell_type": "code",
   "execution_count": 4,
   "metadata": {},
   "outputs": [],
   "source": [
    "protein_cols = df.columns[1:-1]"
   ]
  },
  {
   "cell_type": "code",
   "execution_count": 5,
   "metadata": {},
   "outputs": [
    {
     "data": {
      "text/plain": [
       "Index(['A1BG', 'AAMDC', 'AARSD1', 'ABCA2', 'ABHD14B', 'ABL1', 'ABO',\n",
       "       'ABRAXAS2', 'ACAA1', 'ACADM',\n",
       "       ...\n",
       "       'ZFYVE19', 'ZHX2', 'ZNF174', 'ZNF75D', 'ZNF830', 'ZNRD2', 'ZNRF4',\n",
       "       'ZP3', 'ZP4', 'ZPR1'],\n",
       "      dtype='object', length=2923)"
      ]
     },
     "execution_count": 5,
     "metadata": {},
     "output_type": "execute_result"
    }
   ],
   "source": [
    "protein_cols"
   ]
  },
  {
   "cell_type": "code",
   "execution_count": 6,
   "metadata": {},
   "outputs": [
    {
     "data": {
      "text/plain": [
       "0    21128\n",
       "1      638\n",
       "Name: Diagnosis, dtype: int64"
      ]
     },
     "execution_count": 6,
     "metadata": {},
     "output_type": "execute_result"
    }
   ],
   "source": [
    "df[\"Diagnosis\"].value_counts()"
   ]
  },
  {
   "cell_type": "code",
   "execution_count": 7,
   "metadata": {},
   "outputs": [],
   "source": [
    "#Read columns that should be imputed (the rest are missing in more than 30% of PD participants)\n",
    "protein_cols = np.loadtxt(\"../columns_30pd.txt\", dtype=str).tolist()\n",
    "all_protein_cols = np.loadtxt(\"../all_proteins.txt\", dtype=str).tolist()\n",
    "columns_drop = set(all_protein_cols) - set(protein_cols)\n",
    "df = df.drop(columns=columns_drop)"
   ]
  },
  {
   "cell_type": "code",
   "execution_count": 8,
   "metadata": {},
   "outputs": [],
   "source": [
    "path_rds_diagnoses = \"/rds/general/user/meb22/projects/ukbiobank/live/ukbiobank/data_2025/UKBB_diagnoses_Jun2025/processed/diagnoses_extracted\"\n",
    "pd_df =  pd.read_csv(f\"{path_rds_diagnoses}/Parkinson.csv\").iloc[:, 1:]\n"
   ]
  },
  {
   "cell_type": "code",
   "execution_count": 9,
   "metadata": {},
   "outputs": [],
   "source": [
    "# Create a dictionary: {eid: date_diagnosis}\n",
    "eid_to_date = pd_df.set_index(\"eid\")[\"date_diagnosis\"].to_dict()"
   ]
  },
  {
   "cell_type": "code",
   "execution_count": 10,
   "metadata": {},
   "outputs": [],
   "source": [
    "df[\"date_diagnosis\"] = df[\"eid\"].map(eid_to_date)"
   ]
  },
  {
   "cell_type": "code",
   "execution_count": 11,
   "metadata": {},
   "outputs": [
    {
     "data": {
      "text/plain": [
       "0"
      ]
     },
     "execution_count": 11,
     "metadata": {},
     "output_type": "execute_result"
    }
   ],
   "source": [
    "df[df[\"Diagnosis\"] == 1][\"date_diagnosis\"].isna().sum()"
   ]
  },
  {
   "cell_type": "code",
   "execution_count": 12,
   "metadata": {},
   "outputs": [],
   "source": [
    "df[\"date_diagnosis\"] = pd.to_datetime(df[\"date_diagnosis\"], errors='coerce')\n",
    "df[\"date_diagnosis\"].fillna(pd.Timestamp(\"2024-09-30\"), inplace=True)\n"
   ]
  },
  {
   "cell_type": "code",
   "execution_count": 13,
   "metadata": {},
   "outputs": [],
   "source": [
    "demo = pd.read_csv(\"/rds/general/user/meb22/projects/ukbiobank/live/ukbiobank/data_2025/demographics_processed.csv\")\n",
    "visit_dates = pd.read_csv(\"/rds/general/user/meb22/projects/ukbiobank/live/ukbiobank/data_2025/Visit_dates.csv\")"
   ]
  },
  {
   "cell_type": "code",
   "execution_count": 14,
   "metadata": {},
   "outputs": [],
   "source": [
    "covariates = pd.read_csv(\"/rds/general/user/meb22/projects/ukbiobank/live/ukbiobank/data_2025/proteomics/Processed_all_covariates.csv\").iloc[:,1:]"
   ]
  },
  {
   "cell_type": "code",
   "execution_count": 15,
   "metadata": {},
   "outputs": [],
   "source": [
    "covariates_test_cols=[\"Age\", \"Sex\", \"Ethnicity\", \"smoking\", \"alcohol\", \"Season\" , \"fasting_time\", \"sample_age\"]"
   ]
  },
  {
   "cell_type": "code",
   "execution_count": 16,
   "metadata": {},
   "outputs": [],
   "source": [
    "df_dates = pd.merge(df, visit_dates[[\"eid\",\"p53_i0\"]], on=\"eid\")"
   ]
  },
  {
   "cell_type": "code",
   "execution_count": 17,
   "metadata": {},
   "outputs": [],
   "source": [
    "import pandas as pd\n",
    "\n",
    "# Ensure both columns are datetime\n",
    "df_dates[\"p53_i0\"] = pd.to_datetime(df_dates[\"p53_i0\"])\n",
    "df_dates[\"date_diagnosis\"] = pd.to_datetime(df_dates[\"date_diagnosis\"])\n",
    "\n",
    "# Compute difference in days and convert to years\n",
    "df_dates[\"time_to_diagnosis\"] = (df_dates[\"date_diagnosis\"] - df_dates[\"p53_i0\"]).dt.total_seconds() / (365.25*24*3600)\n",
    "\n",
    "# Optional: round to 2 decimal places\n",
    "df_dates[\"time_to_diagnosis\"] = df_dates[\"time_to_diagnosis\"].round(2)\n"
   ]
  },
  {
   "cell_type": "code",
   "execution_count": 25,
   "metadata": {},
   "outputs": [],
   "source": [
    "subset_df = df_dates[~((df_dates[\"Diagnosis\"] == 1) & (df_dates[\"time_to_diagnosis\"] <= 2))]\n"
   ]
  },
  {
   "cell_type": "code",
   "execution_count": 26,
   "metadata": {},
   "outputs": [
    {
     "data": {
      "text/plain": [
       "0    21128\n",
       "1      413\n",
       "Name: Diagnosis, dtype: int64"
      ]
     },
     "execution_count": 26,
     "metadata": {},
     "output_type": "execute_result"
    }
   ],
   "source": [
    "subset_df[\"Diagnosis\"].value_counts()"
   ]
  },
  {
   "cell_type": "code",
   "execution_count": 27,
   "metadata": {},
   "outputs": [],
   "source": [
    "subset_df = subset_df.drop(columns=[\"date_diagnosis\",\"p53_i0\"])"
   ]
  },
  {
   "cell_type": "code",
   "execution_count": 28,
   "metadata": {},
   "outputs": [],
   "source": [
    "subset_df = pd.merge(\n",
    "    subset_df,\n",
    "    covariates[[\"eid\"] + covariates_test_cols],\n",
    "    on=\"eid\",\n",
    "\n",
    ")\n"
   ]
  },
  {
   "cell_type": "code",
   "execution_count": 29,
   "metadata": {},
   "outputs": [
    {
     "data": {
      "text/plain": [
       "0        4200.0\n",
       "1        4842.0\n",
       "2        4203.0\n",
       "3        4913.0\n",
       "4        4139.0\n",
       "          ...  \n",
       "21536    5030.0\n",
       "21537    5356.0\n",
       "21538    5298.0\n",
       "21539    4414.0\n",
       "21540    5218.0\n",
       "Name: sample_age, Length: 21541, dtype: float64"
      ]
     },
     "execution_count": 29,
     "metadata": {},
     "output_type": "execute_result"
    }
   ],
   "source": [
    "subset_df[\"sample_age\"]"
   ]
  },
  {
   "cell_type": "code",
   "execution_count": 30,
   "metadata": {},
   "outputs": [],
   "source": [
    "# Example for covariates_test_cols\n",
    "for col in covariates_test_cols:\n",
    "    if subset_df[col].dtype == \"object\":\n",
    "        subset_df[col] = subset_df[col].astype(\"category\").cat.codes\n"
   ]
  },
  {
   "cell_type": "code",
   "execution_count": 31,
   "metadata": {
    "scrolled": true
   },
   "outputs": [
    {
     "name": "stdout",
     "output_type": "stream",
     "text": [
      "     Protein_tested      coef  exp(coef)  se(coef)  coef lower 95%  \\\n",
      "763           ITGAV -1.859489   0.155752  0.256795       -2.362798   \n",
      "110            BAG3 -0.571873   0.564467  0.084469       -0.737428   \n",
      "298         CLEC10A -0.727158   0.483281  0.122761       -0.967766   \n",
      "957            NEFL  0.475896   1.609455  0.088066        0.303289   \n",
      "1219         SETMAR -0.635601   0.529617  0.122604       -0.875902   \n",
      "\n",
      "      coef upper 95%             p  \n",
      "763        -1.356181  4.449103e-13  \n",
      "110        -0.406318  1.285636e-11  \n",
      "298        -0.486550  3.154688e-09  \n",
      "957         0.648502  6.523062e-08  \n",
      "1219       -0.395301  2.169904e-07  \n"
     ]
    }
   ],
   "source": [
    "import pandas as pd\n",
    "from lifelines import CoxPHFitter\n",
    "\n",
    "all_protein_summaries = []\n",
    "\n",
    "for protein in protein_cols:\n",
    "    cols = [protein] + covariates_test_cols + [\"time_to_diagnosis\", \"Diagnosis\"]\n",
    "    df_model = subset_df[cols].dropna()\n",
    "    \n",
    "    cph = CoxPHFitter()\n",
    "    cph.fit(df_model, duration_col=\"time_to_diagnosis\", event_col=\"Diagnosis\")\n",
    "    \n",
    "    # Extract only the protein row safely\n",
    "    protein_row = cph.summary.loc[[protein]].copy()\n",
    "    protein_row[\"Protein_tested\"] = protein\n",
    "    all_protein_summaries.append(protein_row)\n",
    "\n",
    "# Concatenate all proteins into one DataFrame\n",
    "protein_results_df = pd.concat(all_protein_summaries)\n",
    "\n",
    "# Drop index (covariate names) to avoid duplicates\n",
    "protein_results_df = protein_results_df.reset_index(drop=True)\n",
    "\n",
    "# Keep only the useful columns\n",
    "protein_results_df = protein_results_df[[\"Protein_tested\", \"coef\", \"exp(coef)\", \n",
    "                                         \"se(coef)\", \"coef lower 95%\", \"coef upper 95%\", \"p\"]]\n",
    "\n",
    "# Now sorting works safely\n",
    "protein_results_df = protein_results_df.sort_values(\"p\")\n",
    "\n",
    "print(protein_results_df.head())"
   ]
  },
  {
   "cell_type": "code",
   "execution_count": 32,
   "metadata": {},
   "outputs": [],
   "source": [
    "from statsmodels.stats.multitest import multipletests\n",
    "\n",
    "# Make sure you have a p-value column\n",
    "pvals = protein_results_df[\"p\"].values  \n",
    "\n",
    "# Apply FDR correction\n",
    "reject, pvals_corrected, _, _ = multipletests(pvals, alpha=0.05, method=\"fdr_bh\")\n",
    "\n",
    "# Add results back to dataframe\n",
    "protein_results_df[\"p_fdr\"] = pvals_corrected\n",
    "protein_results_df[\"significant_fdr05\"] = reject\n"
   ]
  },
  {
   "cell_type": "code",
   "execution_count": 33,
   "metadata": {},
   "outputs": [
    {
     "data": {
      "text/plain": [
       "69"
      ]
     },
     "execution_count": 33,
     "metadata": {},
     "output_type": "execute_result"
    }
   ],
   "source": [
    "protein_results_df[protein_results_df[\"significant_fdr05\"] == True][\"Protein_tested\"].nunique()"
   ]
  },
  {
   "cell_type": "code",
   "execution_count": 34,
   "metadata": {},
   "outputs": [],
   "source": [
    "protein_results_df.to_csv(\"PDcox.csv\")"
   ]
  },
  {
   "cell_type": "code",
   "execution_count": 45,
   "metadata": {},
   "outputs": [
    {
     "data": {
      "text/plain": [
       "<lifelines.CoxPHFitter: fitted with 20564 total observations, 20166 right-censored observations>"
      ]
     },
     "execution_count": 45,
     "metadata": {},
     "output_type": "execute_result"
    }
   ],
   "source": [
    "cph"
   ]
  },
  {
   "cell_type": "code",
   "execution_count": 35,
   "metadata": {},
   "outputs": [],
   "source": [
    "df = pd.read_csv(\"PDcox.csv\")"
   ]
  },
  {
   "cell_type": "code",
   "execution_count": 36,
   "metadata": {},
   "outputs": [],
   "source": [
    "protein_cox_pd = df[df[\"p_fdr\"] <0.05][\"Protein_tested\"].unique().tolist()"
   ]
  },
  {
   "cell_type": "code",
   "execution_count": 37,
   "metadata": {},
   "outputs": [],
   "source": [
    "# Write to a file\n",
    "with open(\"proteins_cox_PD_list.txt\", \"w\") as f:\n",
    "    for protein in protein_cox_pd:\n",
    "        f.write(protein + \"\\n\")"
   ]
  },
  {
   "cell_type": "code",
   "execution_count": 42,
   "metadata": {},
   "outputs": [],
   "source": [
    "protein_results_df= df"
   ]
  },
  {
   "cell_type": "code",
   "execution_count": 43,
   "metadata": {},
   "outputs": [
    {
     "data": {
      "image/png": "[encoded data removed]",
      "text/plain": [
       "<Figure size 1000x600 with 1 Axes>"
      ]
     },
     "metadata": {},
     "output_type": "display_data"
    }
   ],
   "source": [
    "import numpy as np\n",
    "import matplotlib.pyplot as plt\n",
    "from adjustText import adjust_text\n",
    "\n",
    "# Compute -log10(FDR) if not already done\n",
    "protein_results_df['neg_log10_fdr'] = -np.log10(protein_results_df['p_fdr'])\n",
    "protein_results_df['logHR'] = protein_results_df['coef']  # use logHR from coef\n",
    "\n",
    "# Assign significance colors\n",
    "def color_sign(row):\n",
    "    if row['significant_fdr05']:\n",
    "        return 'red' if row['logHR'] > 0 else 'steelblue'\n",
    "    else:\n",
    "        return 'grey'\n",
    "\n",
    "protein_results_df['color'] = protein_results_df.apply(color_sign, axis=1)\n",
    "\n",
    "# Plot\n",
    "plt.figure(figsize=(10, 6))\n",
    "\n",
    "for color in ['red', 'steelblue', 'grey']:\n",
    "    subset = protein_results_df[protein_results_df['color'] == color]\n",
    "    plt.scatter(\n",
    "        subset['logHR'],\n",
    "        subset['neg_log10_fdr'],\n",
    "        label=color.capitalize() if color != 'grey' else 'Not Significant',\n",
    "        color=color,\n",
    "        alpha=0.7,\n",
    "        edgecolors='k',\n",
    "        s=50\n",
    "    )\n",
    "\n",
    "# Reference lines\n",
    "plt.axhline(-np.log10(0.05), linestyle=\"--\", color=\"black\")\n",
    "plt.axvline(0, linestyle=\"--\", color=\"black\")\n",
    "\n",
    "# Annotate significant proteins\n",
    "texts = []\n",
    "sig_prots = protein_results_df[protein_results_df['significant_fdr05'] == True]\n",
    "\n",
    "for _, row in sig_prots.iterrows():\n",
    "    texts.append(\n",
    "        plt.text(row['logHR'], row['neg_log10_fdr'], row['Protein_tested'], fontsize=7)\n",
    "    )\n",
    "\n",
    "adjust_text(texts, arrowprops=dict(arrowstyle=\"-\", color=\"black\", lw=0.5))\n",
    "\n",
    "# Labels and style\n",
    "plt.xlabel(\"log(Hazard Ratio)\")\n",
    "plt.ylabel(\"-log10(FDR-adjusted p-value)\")\n",
    "plt.legend()\n",
    "plt.title(\"PD vs HC Cox Regression\")\n",
    "plt.tight_layout()\n",
    "plt.show()\n"
   ]
  },
  {
   "cell_type": "code",
   "execution_count": 4,
   "metadata": {},
   "outputs": [],
   "source": [
    "df = pd.read_csv(\"PDcox.csv\")"
   ]
  },
  {
   "cell_type": "code",
   "execution_count": 13,
   "metadata": {},
   "outputs": [
    {
     "data": {
      "text/html": [
       "<div>\n",
       "<style scoped>\n",
       "    .dataframe tbody tr th:only-of-type {\n",
       "        vertical-align: middle;\n",
       "    }\n",
       "\n",
       "    .dataframe tbody tr th {\n",
       "        vertical-align: top;\n",
       "    }\n",
       "\n",
       "    .dataframe thead th {\n",
       "        text-align: right;\n",
       "    }\n",
       "</style>\n",
       "<table border=\"1\" class=\"dataframe\">\n",
       "  <thead>\n",
       "    <tr style=\"text-align: right;\">\n",
       "      <th></th>\n",
       "      <th>Unnamed: 0</th>\n",
       "      <th>Protein_tested</th>\n",
       "      <th>coef</th>\n",
       "      <th>exp(coef)</th>\n",
       "      <th>se(coef)</th>\n",
       "      <th>coef lower 95%</th>\n",
       "      <th>coef upper 95%</th>\n",
       "      <th>p</th>\n",
       "      <th>p_fdr</th>\n",
       "      <th>significant_fdr05</th>\n",
       "    </tr>\n",
       "  </thead>\n",
       "  <tbody>\n",
       "    <tr>\n",
       "      <th>0</th>\n",
       "      <td>763</td>\n",
       "      <td>ITGAV</td>\n",
       "      <td>-1.859489</td>\n",
       "      <td>0.155752</td>\n",
       "      <td>0.256795</td>\n",
       "      <td>-2.362798</td>\n",
       "      <td>-1.356181</td>\n",
       "      <td>4.449103e-13</td>\n",
       "      <td>6.500139e-10</td>\n",
       "      <td>True</td>\n",
       "    </tr>\n",
       "    <tr>\n",
       "      <th>1</th>\n",
       "      <td>110</td>\n",
       "      <td>BAG3</td>\n",
       "      <td>-0.571873</td>\n",
       "      <td>0.564467</td>\n",
       "      <td>0.084469</td>\n",
       "      <td>-0.737428</td>\n",
       "      <td>-0.406318</td>\n",
       "      <td>1.285636e-11</td>\n",
       "      <td>9.391571e-09</td>\n",
       "      <td>True</td>\n",
       "    </tr>\n",
       "    <tr>\n",
       "      <th>2</th>\n",
       "      <td>298</td>\n",
       "      <td>CLEC10A</td>\n",
       "      <td>-0.727158</td>\n",
       "      <td>0.483281</td>\n",
       "      <td>0.122761</td>\n",
       "      <td>-0.967766</td>\n",
       "      <td>-0.486550</td>\n",
       "      <td>3.154688e-09</td>\n",
       "      <td>1.536333e-06</td>\n",
       "      <td>True</td>\n",
       "    </tr>\n",
       "    <tr>\n",
       "      <th>3</th>\n",
       "      <td>957</td>\n",
       "      <td>NEFL</td>\n",
       "      <td>0.475896</td>\n",
       "      <td>1.609455</td>\n",
       "      <td>0.088066</td>\n",
       "      <td>0.303289</td>\n",
       "      <td>0.648502</td>\n",
       "      <td>6.523062e-08</td>\n",
       "      <td>2.382548e-05</td>\n",
       "      <td>True</td>\n",
       "    </tr>\n",
       "    <tr>\n",
       "      <th>4</th>\n",
       "      <td>1219</td>\n",
       "      <td>SETMAR</td>\n",
       "      <td>-0.635601</td>\n",
       "      <td>0.529617</td>\n",
       "      <td>0.122604</td>\n",
       "      <td>-0.875902</td>\n",
       "      <td>-0.395301</td>\n",
       "      <td>2.169904e-07</td>\n",
       "      <td>6.340458e-05</td>\n",
       "      <td>True</td>\n",
       "    </tr>\n",
       "    <tr>\n",
       "      <th>...</th>\n",
       "      <td>...</td>\n",
       "      <td>...</td>\n",
       "      <td>...</td>\n",
       "      <td>...</td>\n",
       "      <td>...</td>\n",
       "      <td>...</td>\n",
       "      <td>...</td>\n",
       "      <td>...</td>\n",
       "      <td>...</td>\n",
       "      <td>...</td>\n",
       "    </tr>\n",
       "    <tr>\n",
       "      <th>1456</th>\n",
       "      <td>1225</td>\n",
       "      <td>SFTPA2</td>\n",
       "      <td>0.000268</td>\n",
       "      <td>1.000268</td>\n",
       "      <td>0.086862</td>\n",
       "      <td>-0.169978</td>\n",
       "      <td>0.170514</td>\n",
       "      <td>9.975418e-01</td>\n",
       "      <td>9.999113e-01</td>\n",
       "      <td>False</td>\n",
       "    </tr>\n",
       "    <tr>\n",
       "      <th>1457</th>\n",
       "      <td>615</td>\n",
       "      <td>GPC5</td>\n",
       "      <td>-0.000163</td>\n",
       "      <td>0.999837</td>\n",
       "      <td>0.081676</td>\n",
       "      <td>-0.160245</td>\n",
       "      <td>0.159919</td>\n",
       "      <td>9.984070e-01</td>\n",
       "      <td>9.999113e-01</td>\n",
       "      <td>False</td>\n",
       "    </tr>\n",
       "    <tr>\n",
       "      <th>1458</th>\n",
       "      <td>1312</td>\n",
       "      <td>SUSD2</td>\n",
       "      <td>0.000217</td>\n",
       "      <td>1.000217</td>\n",
       "      <td>0.157636</td>\n",
       "      <td>-0.308744</td>\n",
       "      <td>0.309178</td>\n",
       "      <td>9.989018e-01</td>\n",
       "      <td>9.999113e-01</td>\n",
       "      <td>False</td>\n",
       "    </tr>\n",
       "    <tr>\n",
       "      <th>1459</th>\n",
       "      <td>312</td>\n",
       "      <td>CLPP</td>\n",
       "      <td>-0.000029</td>\n",
       "      <td>0.999971</td>\n",
       "      <td>0.047745</td>\n",
       "      <td>-0.093608</td>\n",
       "      <td>0.093551</td>\n",
       "      <td>9.995231e-01</td>\n",
       "      <td>9.999113e-01</td>\n",
       "      <td>False</td>\n",
       "    </tr>\n",
       "    <tr>\n",
       "      <th>1460</th>\n",
       "      <td>1423</td>\n",
       "      <td>VCAM1</td>\n",
       "      <td>-0.000018</td>\n",
       "      <td>0.999982</td>\n",
       "      <td>0.164213</td>\n",
       "      <td>-0.321870</td>\n",
       "      <td>0.321834</td>\n",
       "      <td>9.999113e-01</td>\n",
       "      <td>9.999113e-01</td>\n",
       "      <td>False</td>\n",
       "    </tr>\n",
       "  </tbody>\n",
       "</table>\n",
       "<p>1461 rows × 10 columns</p>\n",
       "</div>"
      ],
      "text/plain": [
       "      Unnamed: 0 Protein_tested      coef  exp(coef)  se(coef)  \\\n",
       "0            763          ITGAV -1.859489   0.155752  0.256795   \n",
       "1            110           BAG3 -0.571873   0.564467  0.084469   \n",
       "2            298        CLEC10A -0.727158   0.483281  0.122761   \n",
       "3            957           NEFL  0.475896   1.609455  0.088066   \n",
       "4           1219         SETMAR -0.635601   0.529617  0.122604   \n",
       "...          ...            ...       ...        ...       ...   \n",
       "1456        1225         SFTPA2  0.000268   1.000268  0.086862   \n",
       "1457         615           GPC5 -0.000163   0.999837  0.081676   \n",
       "1458        1312          SUSD2  0.000217   1.000217  0.157636   \n",
       "1459         312           CLPP -0.000029   0.999971  0.047745   \n",
       "1460        1423          VCAM1 -0.000018   0.999982  0.164213   \n",
       "\n",
       "      coef lower 95%  coef upper 95%             p         p_fdr  \\\n",
       "0          -2.362798       -1.356181  4.449103e-13  6.500139e-10   \n",
       "1          -0.737428       -0.406318  1.285636e-11  9.391571e-09   \n",
       "2          -0.967766       -0.486550  3.154688e-09  1.536333e-06   \n",
       "3           0.303289        0.648502  6.523062e-08  2.382548e-05   \n",
       "4          -0.875902       -0.395301  2.169904e-07  6.340458e-05   \n",
       "...              ...             ...           ...           ...   \n",
       "1456       -0.169978        0.170514  9.975418e-01  9.999113e-01   \n",
       "1457       -0.160245        0.159919  9.984070e-01  9.999113e-01   \n",
       "1458       -0.308744        0.309178  9.989018e-01  9.999113e-01   \n",
       "1459       -0.093608        0.093551  9.995231e-01  9.999113e-01   \n",
       "1460       -0.321870        0.321834  9.999113e-01  9.999113e-01   \n",
       "\n",
       "      significant_fdr05  \n",
       "0                  True  \n",
       "1                  True  \n",
       "2                  True  \n",
       "3                  True  \n",
       "4                  True  \n",
       "...                 ...  \n",
       "1456              False  \n",
       "1457              False  \n",
       "1458              False  \n",
       "1459              False  \n",
       "1460              False  \n",
       "\n",
       "[1461 rows x 10 columns]"
      ]
     },
     "execution_count": 13,
     "metadata": {},
     "output_type": "execute_result"
    }
   ],
   "source": [
    "df"
   ]
  },
  {
   "cell_type": "code",
   "execution_count": 12,
   "metadata": {},
   "outputs": [
    {
     "ename": "TypeError",
     "evalue": "'<' not supported between instances of 'list' and 'float'",
     "output_type": "error",
     "traceback": [
      "\u001b[0;31m---------------------------------------------------------------------------\u001b[0m",
      "\u001b[0;31mTypeError\u001b[0m                                 Traceback (most recent call last)",
      "Cell \u001b[0;32mIn[12], line 1\u001b[0m\n\u001b[0;32m----> 1\u001b[0m df[(df[\u001b[38;5;124m\"\u001b[39m\u001b[38;5;124mcoef\u001b[39m\u001b[38;5;124m\"\u001b[39m] \u001b[38;5;241m>\u001b[39m \u001b[38;5;241m0.5\u001b[39m) \u001b[38;5;241m&\u001b[39m (\u001b[43m[\u001b[49m\u001b[38;5;124;43m\"\u001b[39;49m\u001b[38;5;124;43mp_fdr\u001b[39;49m\u001b[38;5;124;43m\"\u001b[39;49m\u001b[43m]\u001b[49m\u001b[43m \u001b[49m\u001b[38;5;241;43m<\u001b[39;49m\u001b[43m \u001b[49m\u001b[38;5;241;43m0.05\u001b[39;49m)]\n",
      "\u001b[0;31mTypeError\u001b[0m: '<' not supported between instances of 'list' and 'float'"
     ]
    }
   ],
   "source": [
    "df[(df[\"coef\"] > 0.5) & ([\"p_fdr\"] < 0.05)]"
   ]
  },
  {
   "cell_type": "code",
   "execution_count": null,
   "metadata": {},
   "outputs": [],
   "source": []
  }
 ],
 "metadata": {
  "kernelspec": {
   "display_name": "Python (test_env)",
   "language": "python",
   "name": "test_env"
  },
  "language_info": {
   "codemirror_mode": {
    "name": "ipython",
    "version": 3
   },
   "file_extension": ".py",
   "mimetype": "text/x-python",
   "name": "python",
   "nbconvert_exporter": "python",
   "pygments_lexer": "ipython3",
   "version": "3.10.0"
  }
 },
 "nbformat": 4,
 "nbformat_minor": 4
}
