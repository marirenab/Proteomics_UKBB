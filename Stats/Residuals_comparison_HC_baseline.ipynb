{
 "cells": [
  {
   "cell_type": "code",
   "execution_count": null,
   "metadata": {},
   "outputs": [],
   "source": [
    "import pandas as pd\n",
    "import numpy as np\n",
    "import function_utils as utils"
   ]
  },
  {
   "cell_type": "code",
   "execution_count": null,
   "metadata": {},
   "outputs": [],
   "source": [
    "residuals = pd.read_csv(\"../Residualised_healthycontrol_training_all.csv\")"
   ]
  },
  {
   "cell_type": "code",
   "execution_count": null,
   "metadata": {},
   "outputs": [],
   "source": [
    "healthy_controls = pd.read_csv(\"../Training_residualsealthycontrol_healthycontrol.csv\")"
   ]
  },
  {
   "cell_type": "code",
   "execution_count": null,
   "metadata": {},
   "outputs": [],
   "source": [
    "neurodegenerative_controls = pd.read_csv(\"../Training_residualshealthycontrol_neurodegenerative.csv\")"
   ]
  },
  {
   "cell_type": "code",
   "execution_count": null,
   "metadata": {},
   "outputs": [],
   "source": [
    "from scipy.stats import mannwhitneyu\n",
    "import pandas as pd\n",
    "\n",
    "# Get list of protein columns (excluding eid and Diagnosis)\n",
    "protein_cols = neurodegenerative_controls.columns.difference(['eid', 'Diagnosis'])\n",
    "\n",
    "# Prepare results list\n",
    "results = []\n",
    "\n",
    "# Loop through each protein\n",
    "for protein in protein_cols:\n",
    "    group_0 = neurodegenerative_controls[neurodegenerative_controls['Diagnosis'] == 0][protein].dropna()\n",
    "    group_1 = neurodegenerative_controls[neurodegenerative_controls['Diagnosis'] == 1][protein].dropna()\n",
    "    \n",
    "    # Perform Mann-Whitney U test only if both groups have enough values\n",
    "    if len(group_0) > 5 and len(group_1) > 5:\n",
    "        stat, p_value = mannwhitneyu(group_0, group_1, alternative='two-sided')\n",
    "        results.append({'Protein': protein, 'U_statistic': stat, 'p_value': p_value})\n",
    "    else:\n",
    "        results.append({'Protein': protein, 'U_statistic': None, 'p_value': None})\n",
    "\n",
    "# Convert to DataFrame\n",
    "mw_df = pd.DataFrame(results)\n",
    "\n",
    "# Add FDR correction if needed\n",
    "from statsmodels.stats.multitest import multipletests\n",
    "mw_df['p_adj'] = multipletests(mw_df['p_value'], method='bonferroni')[1]\n",
    "\n",
    "# Sort by adjusted p-value\n",
    "mw_df = mw_df.sort_values(by='p_adj')\n"
   ]
  },
  {
   "cell_type": "code",
   "execution_count": null,
   "metadata": {},
   "outputs": [],
   "source": [
    "significant_neurodegenerative = mw_df[mw_df[\"p_adj\"] <0.05]"
   ]
  },
  {
   "cell_type": "code",
   "execution_count": null,
   "metadata": {},
   "outputs": [],
   "source": [
    "from scipy.stats import mannwhitneyu\n",
    "import pandas as pd\n",
    "\n",
    "# Get list of protein columns (excluding eid and Diagnosis)\n",
    "protein_cols = healthy_controls.columns.difference(['eid', 'Diagnosis'])\n",
    "\n",
    "# Prepare results list\n",
    "results_hc = []\n",
    "\n",
    "# Loop through each protein\n",
    "for protein in protein_cols:\n",
    "    group_0 = healthy_controls[healthy_controls['Diagnosis'] == 0][protein].dropna()\n",
    "    group_1 = healthy_controls[healthy_controls['Diagnosis'] == 1][protein].dropna()\n",
    "    \n",
    "    # Perform Mann-Whitney U test only if both groups have enough values\n",
    "    if len(group_0) > 5 and len(group_1) > 5:\n",
    "        stat, p_value = mannwhitneyu(group_0, group_1, alternative='two-sided')\n",
    "        results_hc.append({'Protein': protein, 'U_statistic': stat, 'p_value': p_value})\n",
    "    else:\n",
    "        results_hc.append({'Protein': protein, 'U_statistic': None, 'p_value': None})\n",
    "\n",
    "# Convert to DataFrame\n",
    "mw_df_healthy = pd.DataFrame(results_hc)\n",
    "\n",
    "# Add FDR correction if needed\n",
    "from statsmodels.stats.multitest import multipletests\n",
    "mw_df_healthy['p_adj'] = multipletests(mw_df_healthy['p_value'], method='bonferroni')[1]\n",
    "\n",
    "# Sort by adjusted p-value\n",
    "mw_df_healthy = mw_df_healthy.sort_values(by='p_adj')\n"
   ]
  },
  {
   "cell_type": "code",
   "execution_count": null,
   "metadata": {},
   "outputs": [],
   "source": [
    "significant_hc = mw_df_healthy[mw_df_healthy[\"p_adj\"] <0.05]"
   ]
  },
  {
   "cell_type": "code",
   "execution_count": null,
   "metadata": {},
   "outputs": [],
   "source": [
    "significant_neurodegenerative[\"Protein\"].nunique()\n",
    "\n",
    "significant_hc[\"Protein\"].nunique()"
   ]
  },
  {
   "cell_type": "code",
   "execution_count": null,
   "metadata": {},
   "outputs": [],
   "source": [
    "median_diffs = []\n",
    "\n",
    "for protein in mw_df['Protein']:\n",
    "    median_1 = neurodegenerative_controls[neurodegenerative_controls['Diagnosis'] == 1][protein].median()\n",
    "    median_0 = neurodegenerative_controls[neurodegenerative_controls['Diagnosis'] == 0][protein].median()\n",
    "    median_diffs.append(median_1 - median_0)\n",
    "\n",
    "mw_df['median_diff'] = median_diffs\n"
   ]
  },
  {
   "cell_type": "code",
   "execution_count": null,
   "metadata": {},
   "outputs": [],
   "source": [
    "median_diffs_healthy = []\n",
    "\n",
    "for protein in mw_df_healthy['Protein']:\n",
    "    median_1 = healthy_controls[healthy_controls['Diagnosis'] == 1][protein].median()\n",
    "    median_0 = healthy_controls[healthy_controls['Diagnosis'] == 0][protein].median()\n",
    "    median_diffs_healthy.append(median_1 - median_0)\n",
    "\n",
    "mw_df_healthy['median_diff'] = median_diffs_healthy\n"
   ]
  },
  {
   "cell_type": "code",
   "execution_count": null,
   "metadata": {},
   "outputs": [],
   "source": [
    "proteins_healthy = mw_df_healthy[mw_df_healthy[\"p_adj\"] < 0.05][\"Protein\"].unique().tolist()"
   ]
  },
  {
   "cell_type": "code",
   "execution_count": null,
   "metadata": {},
   "outputs": [],
   "source": [
    "# Write to a file\n",
    "with open(\"proteins_residuals_PD_HC_residualisedhealthycontrol_list.txt\", \"w\") as f:\n",
    "    for protein in proteins_healthy:\n",
    "        f.write(protein + \"\\n\")"
   ]
  },
  {
   "cell_type": "code",
   "execution_count": null,
   "metadata": {},
   "outputs": [],
   "source": [
    "import numpy as np\n",
    "import matplotlib.pyplot as plt\n",
    "from adjustText import adjust_text\n",
    "\n",
    "def assign_significance(row):\n",
    "    if row['p_adj'] < 0.05:\n",
    "        return 'Up' if row['median_diff'] > 0 else 'Down'\n",
    "    else:\n",
    "        return 'Not Significant'\n",
    "\n",
    "# Assign categories\n",
    "mw_df_healthy['significance'] = mw_df_healthy.apply(assign_significance, axis=1)\n",
    "mw_df_healthy['neg_log10_p'] = -np.log10(mw_df_healthy['p_adj'])\n",
    "\n",
    "# Plot\n",
    "plt.figure(figsize=(10, 6))\n",
    "colors = {\"Up\": \"red\", \"Down\": \"steelblue\", \"Not Significant\": \"grey\"}\n",
    "\n",
    "for label, color in colors.items():\n",
    "    subset = mw_df_healthy[mw_df_healthy['significance'] == label]\n",
    "    plt.scatter(\n",
    "        subset['median_diff'],\n",
    "        subset['neg_log10_p'],\n",
    "        label=label,\n",
    "        color=color,\n",
    "        alpha=0.7,\n",
    "        edgecolors=\"k\",\n",
    "        s=50\n",
    "    )\n",
    "\n",
    "# Axes reference lines\n",
    "plt.axhline(-np.log10(0.05), linestyle=\"--\", color=\"black\")\n",
    "plt.axvline(0, linestyle=\"--\", color=\"black\")\n",
    "\n",
    "# Annotate significant proteins\n",
    "texts = []\n",
    "top_sig = mw_df_healthy[mw_df_healthy['significance'] != \"Not Significant\"]\n",
    "\n",
    "for _, row in top_sig.iterrows():\n",
    "    texts.append(\n",
    "        plt.text(row['median_diff'], row['neg_log10_p'], row['Protein'], fontsize=7)\n",
    "    )\n",
    "\n",
    "adjust_text(texts, arrowprops=dict(arrowstyle=\"-\", color=\"black\", lw=0.5))\n",
    "\n",
    "# Labels and title\n",
    "plt.xlabel(\"Median Difference (Dx=1 - Dx=0)\")\n",
    "plt.ylabel(\"-log10(FDR-adjusted p-value)\")\n",
    "plt.legend()\n",
    "plt.title(\"PD vs Healthy control (no neurological or antiparkinsonism drug)\")\n",
    "plt.tight_layout()\n",
    "plt.show()\n"
   ]
  },
  {
   "cell_type": "code",
   "execution_count": null,
   "metadata": {},
   "outputs": [],
   "source": [
    "import numpy as np\n",
    "import matplotlib.pyplot as plt\n",
    "from adjustText import adjust_text\n",
    "\n",
    "def assign_significance(row):\n",
    "    if row['p_adj'] < 0.05:\n",
    "        return 'Up' if row['median_diff'] > 0 else 'Down'\n",
    "    else:\n",
    "        return 'Not Significant'\n",
    "\n",
    "# Assign significance categories\n",
    "mw_df['significance'] = mw_df.apply(assign_significance, axis=1)\n",
    "mw_df['neg_log10_p'] = -np.log10(mw_df['p_adj'])\n",
    "\n",
    "# Plot\n",
    "plt.figure(figsize=(10, 6))\n",
    "colors = {\"Up\": \"red\", \"Down\": \"steelblue\", \"Not Significant\": \"grey\"}\n",
    "\n",
    "for label, color in colors.items():\n",
    "    subset = mw_df[mw_df['significance'] == label]\n",
    "    plt.scatter(\n",
    "        subset['median_diff'],\n",
    "        subset['neg_log10_p'],\n",
    "        label=label,\n",
    "        color=color,\n",
    "        alpha=0.7,\n",
    "        edgecolors=\"k\",\n",
    "        s=50\n",
    "    )\n",
    "\n",
    "# Axes reference lines\n",
    "plt.axhline(-np.log10(0.05), linestyle=\"--\", color=\"black\")\n",
    "plt.axvline(0, linestyle=\"--\", color=\"black\")\n",
    "\n",
    "# Annotate significant proteins (FDR < 0.05)\n",
    "texts = []\n",
    "top_sig = mw_df[mw_df['significance'] != \"Not Significant\"]\n",
    "\n",
    "for _, row in top_sig.iterrows():\n",
    "    texts.append(\n",
    "        plt.text(row['median_diff'], row['neg_log10_p'], row['Protein'], fontsize=7)\n",
    "    )\n",
    "\n",
    "adjust_text(texts, arrowprops=dict(arrowstyle=\"-\", color=\"black\", lw=0.5))\n",
    "\n",
    "# Labels and style\n",
    "plt.xlabel(\"Median Difference (Dx=1 - Dx=0)\")\n",
    "plt.ylabel(\"-log10(FDR-adjusted p-value)\")\n",
    "plt.legend()\n",
    "plt.title(\"PD vs Other neurodegenerative disorders (all)\")\n",
    "plt.tight_layout()\n",
    "plt.show()\n"
   ]
  },
  {
   "cell_type": "code",
   "execution_count": null,
   "metadata": {},
   "outputs": [],
   "source": [
    "proteins_neuro = mw_df[mw_df[\"p_adj\"] < 0.05][\"Protein\"].unique().tolist()"
   ]
  },
  {
   "cell_type": "code",
   "execution_count": null,
   "metadata": {},
   "outputs": [],
   "source": [
    "proteins_hc_ond= set(proteins_neuro) | set(proteins_healthy)"
   ]
  },
  {
   "cell_type": "code",
   "execution_count": null,
   "metadata": {},
   "outputs": [],
   "source": [
    "# Write to a file\n",
    "with open(\"proteins_residuals_PD_HC_PD_OND_residualisedhealthycontrol_list.txt\", \"w\") as f:\n",
    "    for protein in proteins_hc_ond:\n",
    "        f.write(protein + \"\\n\")"
   ]
  },
  {
   "cell_type": "code",
   "execution_count": null,
   "metadata": {},
   "outputs": [],
   "source": [
    "controls = healthy_controls[healthy_controls[\"Diagnosis\"] ==0]\n",
    "neurodegenerative = neurodegenerative_controls[neurodegenerative_controls[\"Diagnosis\"] ==0]\n",
    "neurodegenerative[\"Diagnosis\"] =1"
   ]
  },
  {
   "cell_type": "code",
   "execution_count": null,
   "metadata": {},
   "outputs": [],
   "source": [
    "controlsvsneuro = pd.concat([controls, neurodegenerative])"
   ]
  },
  {
   "cell_type": "code",
   "execution_count": null,
   "metadata": {},
   "outputs": [],
   "source": [
    "from scipy.stats import mannwhitneyu\n",
    "import pandas as pd\n",
    "\n",
    "# Get list of protein columns (excluding eid and Diagnosis)\n",
    "protein_cols = controlsvsneuro.columns.difference(['eid', 'Diagnosis'])\n",
    "\n",
    "# Prepare results list\n",
    "results_controlsvsneuro= []\n",
    "\n",
    "# Loop through each protein\n",
    "for protein in protein_cols:\n",
    "    group_0 = controlsvsneuro[controlsvsneuro['Diagnosis'] == 0][protein].dropna()\n",
    "    group_1 = controlsvsneuro[controlsvsneuro['Diagnosis'] == 1][protein].dropna()\n",
    "    \n",
    "    # Perform Mann-Whitney U test only if both groups have enough values\n",
    "    if len(group_0) > 5 and len(group_1) > 5:\n",
    "        stat, p_value = mannwhitneyu(group_0, group_1, alternative='two-sided')\n",
    "        results_controlsvsneuro.append({'Protein': protein, 'U_statistic': stat, 'p_value': p_value})\n",
    "    else:\n",
    "        results_controlsvsneuro.append({'Protein': protein, 'U_statistic': None, 'p_value': None})\n",
    "\n",
    "# Convert to DataFrame\n",
    "mw_df_neurocontrols = pd.DataFrame(results_controlsvsneuro)\n",
    "\n",
    "# Add FDR correction if needed\n",
    "from statsmodels.stats.multitest import multipletests\n",
    "mw_df_neurocontrols['p_adj'] = multipletests(mw_df_neurocontrols['p_value'], method='bonferroni')[1]\n",
    "\n",
    "# Sort by adjusted p-value\n",
    "mw_df_neurocontrols = mw_df_neurocontrols.sort_values(by='p_adj')\n"
   ]
  },
  {
   "cell_type": "code",
   "execution_count": null,
   "metadata": {},
   "outputs": [],
   "source": [
    "significant_neurocontrols = mw_df_neurocontrols[mw_df_neurocontrols[\"p_adj\"] <0.05]"
   ]
  },
  {
   "cell_type": "code",
   "execution_count": null,
   "metadata": {},
   "outputs": [],
   "source": [
    "significant_neurocontrols[significant_neurocontrols[\"Protein\"] == \"ITGAV\"]"
   ]
  },
  {
   "cell_type": "code",
   "execution_count": null,
   "metadata": {},
   "outputs": [],
   "source": [
    "median_diffs_neurocontrols = []\n",
    "\n",
    "for protein in mw_df['Protein']:\n",
    "    median_1 = controlsvsneuro[controlsvsneuro['Diagnosis'] == 1][protein].median()\n",
    "    median_0 = controlsvsneuro[controlsvsneuro['Diagnosis'] == 0][protein].median()\n",
    "    median_diffs_neurocontrols.append(median_1 - median_0)\n",
    "\n",
    "mw_df_neurocontrols['median_diff'] = median_diffs_neurocontrols\n"
   ]
  },
  {
   "cell_type": "code",
   "execution_count": null,
   "metadata": {},
   "outputs": [],
   "source": [
    "controlsvsneuro[\"Diagnosis\"].value_counts()"
   ]
  },
  {
   "cell_type": "code",
   "execution_count": null,
   "metadata": {},
   "outputs": [],
   "source": [
    "import numpy as np\n",
    "import matplotlib.pyplot as plt\n",
    "from adjustText import adjust_text\n",
    "\n",
    "def assign_significance(row):\n",
    "    if row['p_adj'] < 0.05:\n",
    "        return 'Up' if row['median_diff'] > 0 else 'Down'\n",
    "    else:\n",
    "        return 'Not Significant'\n",
    "\n",
    "# Assign categories\n",
    "mw_df_neurocontrols['significance'] = mw_df_neurocontrols.apply(assign_significance, axis=1)\n",
    "mw_df_neurocontrols['neg_log10_p'] = -np.log10(mw_df_neurocontrols['p_adj'])\n",
    "\n",
    "# Plot\n",
    "plt.figure(figsize=(10, 6))\n",
    "colors = {\"Up\": \"red\", \"Down\": \"steelblue\", \"Not Significant\": \"grey\"}\n",
    "\n",
    "for label, color in colors.items():\n",
    "    subset = mw_df_neurocontrols[mw_df_neurocontrols['significance'] == label]\n",
    "    plt.scatter(\n",
    "        subset['median_diff'],\n",
    "        subset['neg_log10_p'],\n",
    "        label=label,\n",
    "        color=color,\n",
    "        alpha=0.7,\n",
    "        edgecolors=\"k\",\n",
    "        s=50\n",
    "    )\n",
    "\n",
    "# Axes reference lines\n",
    "plt.axhline(-np.log10(0.05), linestyle=\"--\", color=\"black\")\n",
    "plt.axvline(0, linestyle=\"--\", color=\"black\")\n",
    "\n",
    "# Annotate top N significant proteins\n",
    "top_n = 40\n",
    "sig_df = mw_df_neurocontrols[mw_df_neurocontrols['significance'] != \"Not Significant\"]\n",
    "sig_df = sig_df.sort_values(by='p_adj').head(top_n)\n",
    "\n",
    "texts = []\n",
    "for _, row in sig_df.iterrows():\n",
    "    texts.append(\n",
    "        plt.text(row['median_diff'], row['neg_log10_p'], row['Protein'], fontsize=8)\n",
    "    )\n",
    "\n",
    "adjust_text(texts, arrowprops=dict(arrowstyle=\"-\", color=\"black\", lw=0.5))\n",
    "\n",
    "# Labels and title\n",
    "plt.xlabel(\"Median Difference (Dx=1 - Dx=0)\")\n",
    "plt.ylabel(\"-log10(FDR-adjusted p-value)\")\n",
    "plt.legend()\n",
    "plt.title(\"Other Neurodegenerative Disorders vs Controls\")\n",
    "plt.tight_layout()\n",
    "plt.show()\n"
   ]
  },
  {
   "cell_type": "code",
   "execution_count": null,
   "metadata": {},
   "outputs": [],
   "source": [
    "path_rds_diagnoses = \"/rds/general/user/meb22/projects/ukbiobank/live/ukbiobank/data_2025/UKBB_diagnoses_Jun2025/processed/diagnoses_extracted\"\n",
    "pd_df =  pd.read_csv(f\"{path_rds_diagnoses}/Parkinson.csv\").iloc[:, 1:]\n"
   ]
  },
  {
   "cell_type": "code",
   "execution_count": null,
   "metadata": {},
   "outputs": [],
   "source": [
    "pd_controls_visits = pd.merge(healthy_controls, pd_df[[\"eid\",\"date_diagnosis\"]], on=\"eid\")"
   ]
  },
  {
   "cell_type": "code",
   "execution_count": null,
   "metadata": {},
   "outputs": [],
   "source": [
    "visit_dates = pd.read_csv(\"/rds/general/user/meb22/projects/ukbiobank/live/ukbiobank/data_2025/Visit_dates.csv\")"
   ]
  },
  {
   "cell_type": "code",
   "execution_count": null,
   "metadata": {},
   "outputs": [],
   "source": [
    "df_dates = pd.merge(pd_controls_visits, visit_dates[[\"eid\",\"p53_i0\"]], on=\"eid\")"
   ]
  },
  {
   "cell_type": "code",
   "execution_count": null,
   "metadata": {},
   "outputs": [],
   "source": [
    "import pandas as pd\n",
    "\n",
    "# Ensure both columns are datetime\n",
    "df_dates[\"p53_i0\"] = pd.to_datetime(df_dates[\"p53_i0\"])\n",
    "df_dates[\"date_diagnosis\"] = pd.to_datetime(df_dates[\"date_diagnosis\"])\n",
    "\n",
    "# Compute difference in days and convert to years\n",
    "df_dates[\"time_to_diagnosis\"] = (df_dates[\"date_diagnosis\"] - df_dates[\"p53_i0\"]).dt.total_seconds() / (365.25*24*3600)\n",
    "\n",
    "# Optional: round to 2 decimal places\n",
    "df_dates[\"time_to_diagnosis\"] = df_dates[\"time_to_diagnosis\"].round(2)"
   ]
  },
  {
   "cell_type": "code",
   "execution_count": null,
   "metadata": {},
   "outputs": [],
   "source": [
    "mw_df_healthy[mw_df_healthy[\"p_value\"] < 0.05][\"Protein\"]"
   ]
  },
  {
   "cell_type": "code",
   "execution_count": null,
   "metadata": {},
   "outputs": [],
   "source": [
    "mw_df_neurocontrols[mw_df_neurocontrols[\"p_value\"] <0.05][\"Protein\"]"
   ]
  },
  {
   "cell_type": "code",
   "execution_count": null,
   "metadata": {},
   "outputs": [],
   "source": [
    "# Make sure both have consistent significance labels\n",
    "def assign_significance(row):\n",
    "    if row['p_adj'] < 0.05:\n",
    "        return 'Up' if row['median_diff'] > 0 else 'Down'\n",
    "    else:\n",
    "        return 'Not Significant'\n",
    "\n",
    "mw_df_healthy['significance'] = mw_df_healthy.apply(assign_significance, axis=1)\n",
    "mw_df_neurocontrols['significance'] = mw_df_neurocontrols.apply(assign_significance, axis=1)\n",
    "\n",
    "# Merge on protein names\n",
    "merged = mw_df_healthy[['Protein', 'significance']].merge(\n",
    "    mw_df_neurocontrols[['Protein', 'significance']],\n",
    "    on='Protein',\n",
    "    how='left',\n",
    "    suffixes=('_healthy', '_neuro')\n",
    ")\n",
    "\n",
    "# Keep only those significant in healthy AND not matching direction in neurocontrols\n",
    "unique_to_healthy = merged[\n",
    "    (merged['significance_healthy'].isin(['Up', 'Down'])) &\n",
    "    (merged['significance_healthy'] != merged['significance_neuro'])\n",
    "]\n",
    "\n",
    "same_healthy_ond = merged[\n",
    "    (merged['significance_healthy'].isin(['Up', 'Down'])) &\n",
    "    (merged['significance_healthy'] == merged['significance_neuro'])\n",
    "]\n",
    "\n",
    "\n",
    "# Subset original df for details\n",
    "mw_df_healthy_unique = mw_df_healthy[mw_df_healthy['Protein'].isin(unique_to_healthy['Protein'])]\n",
    "\n",
    "print(mw_df_healthy_unique.shape)\n"
   ]
  },
  {
   "cell_type": "code",
   "execution_count": null,
   "metadata": {},
   "outputs": [],
   "source": [
    "unique_PD_HC_list = mw_df_healthy_unique[\"Protein\"].unique().tolist()"
   ]
  },
  {
   "cell_type": "code",
   "execution_count": null,
   "metadata": {},
   "outputs": [],
   "source": [
    "proteins_pdhc_unique_pdond = proteins_hc_ond - set(same_healthy_ond[\"Protein\"].unique().tolist())"
   ]
  },
  {
   "cell_type": "code",
   "execution_count": null,
   "metadata": {},
   "outputs": [],
   "source": [
    "# Write to a file\n",
    "with open(\"proteins_residuals_PD_HC_unique_PD_OND_residualisedhealthycontrol_list.txt\", \"w\") as f:\n",
    "    for protein in proteins_pdhc_unique_pdond:\n",
    "        f.write(protein + \"\\n\")"
   ]
  },
  {
   "cell_type": "code",
   "execution_count": null,
   "metadata": {},
   "outputs": [],
   "source": []
  }
 ],
 "metadata": {
  "kernelspec": {
   "display_name": "Python (test_env)",
   "language": "python",
   "name": "test_env"
  },
  "language_info": {
   "codemirror_mode": {
    "name": "ipython",
    "version": 3
   },
   "file_extension": ".py",
   "mimetype": "text/x-python",
   "name": "python",
   "nbconvert_exporter": "python",
   "pygments_lexer": "ipython3",
   "version": "3.10.5"
  }
 },
 "nbformat": 4,
 "nbformat_minor": 4
}
