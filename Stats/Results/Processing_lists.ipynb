{
 "cells": [
  {
   "cell_type": "code",
   "execution_count": 62,
   "id": "d5f21ae5-fed8-4e32-891f-a3b96847cdb5",
   "metadata": {},
   "outputs": [],
   "source": [
    "import pandas as pd\n",
    "import numpy as np"
   ]
  },
  {
   "cell_type": "code",
   "execution_count": 63,
   "id": "d526da09-5463-4ec2-ba0a-d73a7165b34f",
   "metadata": {},
   "outputs": [],
   "source": [
    "ond_all = pd.read_csv(\"ONDvsHCall_results.csv\")\n",
    "ond_prodromals = pd.read_csv(\"ONDvsHCprodromals_results.csv\")\n",
    "ond_baseline = pd.read_csv(\"ONDvsHCbaseline_results.csv\")"
   ]
  },
  {
   "cell_type": "code",
   "execution_count": 64,
   "id": "88857775-5433-4327-bc7f-6dc1b388b1f4",
   "metadata": {},
   "outputs": [],
   "source": [
    "pd_all = pd.read_csv(\"PDvsHCall_results.csv\")\n",
    "pd_prodromals = pd.read_csv(\"PDvsHCprodromals_results.csv\")\n",
    "pd_baseline = pd.read_csv(\"PDvsHCbaseline_results.csv\")"
   ]
  },
  {
   "cell_type": "code",
   "execution_count": 65,
   "id": "ca7842f8-64aa-416c-a159-aeb1a3ad4471",
   "metadata": {},
   "outputs": [],
   "source": [
    "ond_pd_all = pd.read_csv(\"PDvsOND_all_results.csv\")\n",
    "ond_pd_prodromals = pd.read_csv(\"PDvsOND_prodromals_results.csv\")\n",
    "ond_pd_baseline = pd.read_csv(\"PDvsOND_baseline_results.csv\")"
   ]
  },
  {
   "cell_type": "code",
   "execution_count": 66,
   "id": "d5578d71-d8da-4f59-b107-74e4af987251",
   "metadata": {},
   "outputs": [],
   "source": [
    "pd_all_list =pd_all[pd_all[\"p_value_corrected\"] < 0.05 ][\"protein\"].unique().tolist() \n",
    "pd_prodromals_list =pd_prodromals[pd_prodromals[\"p_value_corrected\"] < 0.05 ][\"protein\"].unique().tolist() \n",
    "pd_baseline_list =pd_baseline[pd_baseline[\"p_value_corrected\"] < 0.05 ][\"protein\"].unique().tolist() "
   ]
  },
  {
   "cell_type": "code",
   "execution_count": 67,
   "id": "0e5469c1-75ad-4295-8518-3f124f875b46",
   "metadata": {},
   "outputs": [],
   "source": [
    "ond_all_list = ond_all[ond_all[\"p_value_corrected\"] < 0.05 ][\"protein\"].unique().tolist() \n",
    "ond_prodromals_list =ond_prodromals[ond_prodromals[\"p_value_corrected\"] < 0.05 ][\"protein\"].unique().tolist() \n",
    "ond_baseline_list =ond_baseline[ond_baseline[\"p_value_corrected\"] < 0.05 ][\"protein\"].unique().tolist() "
   ]
  },
  {
   "cell_type": "code",
   "execution_count": 68,
   "id": "30bae06c-545b-4a10-adcb-03e281d6e391",
   "metadata": {},
   "outputs": [],
   "source": [
    "ond_pd_all_list = ond_pd_all[ond_pd_all[\"p_value_corrected\"] < 0.05 ][\"protein\"].unique().tolist() \n",
    "ond_pd_prodromals_list = ond_pd_prodromals[ond_pd_prodromals[\"p_value_corrected\"] < 0.05 ][\"protein\"].unique().tolist() \n",
    "ond_pd_baseline_list = ond_pd_baseline[ond_pd_baseline[\"p_value_corrected\"] < 0.05 ][\"protein\"].unique().tolist() "
   ]
  },
  {
   "cell_type": "code",
   "execution_count": 69,
   "id": "d104cf48-acd0-48bf-9507-45ca441c80e0",
   "metadata": {},
   "outputs": [],
   "source": [
    "# Write to a file\n",
    "with open(\"proteins_matched_all_PD_HC_list.txt\", \"w\") as f:\n",
    "    for protein in pd_all_list:\n",
    "        f.write(protein + \"\\n\")\n"
   ]
  },
  {
   "cell_type": "code",
   "execution_count": 70,
   "id": "f0be7b6f-7391-4de6-b950-cc8ed300d6a4",
   "metadata": {},
   "outputs": [],
   "source": [
    "# Write to a file\n",
    "with open(\"proteins_matched_baseline_PD_HC_list.txt\", \"w\") as f:\n",
    "    for protein in pd_baseline_list:\n",
    "        f.write(protein + \"\\n\")\n"
   ]
  },
  {
   "cell_type": "code",
   "execution_count": 71,
   "id": "91862bd2-77e3-409e-9757-61242bcd545f",
   "metadata": {},
   "outputs": [],
   "source": [
    "with open(\"proteins_matched_prodromals_PD_HC_list.txt\", \"w\") as f:\n",
    "    for protein in pd_prodromals_list:\n",
    "        f.write(protein + \"\\n\")"
   ]
  },
  {
   "cell_type": "code",
   "execution_count": 72,
   "id": "899bdf60-d5ce-4a2d-99cd-718329624160",
   "metadata": {},
   "outputs": [
    {
     "data": {
      "text/html": [
       "<div>\n",
       "<style scoped>\n",
       "    .dataframe tbody tr th:only-of-type {\n",
       "        vertical-align: middle;\n",
       "    }\n",
       "\n",
       "    .dataframe tbody tr th {\n",
       "        vertical-align: top;\n",
       "    }\n",
       "\n",
       "    .dataframe thead th {\n",
       "        text-align: right;\n",
       "    }\n",
       "</style>\n",
       "<table border=\"1\" class=\"dataframe\">\n",
       "  <thead>\n",
       "    <tr style=\"text-align: right;\">\n",
       "      <th></th>\n",
       "      <th>protein</th>\n",
       "      <th>test_stat</th>\n",
       "      <th>p_value</th>\n",
       "      <th>median_diff</th>\n",
       "      <th>mean_diff</th>\n",
       "      <th>n_disease</th>\n",
       "      <th>n_control</th>\n",
       "      <th>p_value_corrected</th>\n",
       "      <th>significance</th>\n",
       "      <th>neg_log10_p</th>\n",
       "    </tr>\n",
       "  </thead>\n",
       "  <tbody>\n",
       "    <tr>\n",
       "      <th>0</th>\n",
       "      <td>AARSD1</td>\n",
       "      <td>187880.0</td>\n",
       "      <td>0.226418</td>\n",
       "      <td>0.045600</td>\n",
       "      <td>0.043340</td>\n",
       "      <td>601</td>\n",
       "      <td>601</td>\n",
       "      <td>0.645599</td>\n",
       "      <td>Not Significant</td>\n",
       "      <td>0.190037</td>\n",
       "    </tr>\n",
       "    <tr>\n",
       "      <th>1</th>\n",
       "      <td>ABHD14B</td>\n",
       "      <td>173338.5</td>\n",
       "      <td>0.983396</td>\n",
       "      <td>-0.004550</td>\n",
       "      <td>0.001300</td>\n",
       "      <td>589</td>\n",
       "      <td>589</td>\n",
       "      <td>0.997212</td>\n",
       "      <td>Not Significant</td>\n",
       "      <td>0.001212</td>\n",
       "    </tr>\n",
       "    <tr>\n",
       "      <th>2</th>\n",
       "      <td>ABL1</td>\n",
       "      <td>179886.0</td>\n",
       "      <td>0.905550</td>\n",
       "      <td>-0.039750</td>\n",
       "      <td>0.008507</td>\n",
       "      <td>601</td>\n",
       "      <td>601</td>\n",
       "      <td>0.996410</td>\n",
       "      <td>Not Significant</td>\n",
       "      <td>0.001562</td>\n",
       "    </tr>\n",
       "    <tr>\n",
       "      <th>3</th>\n",
       "      <td>ACAA1</td>\n",
       "      <td>175989.0</td>\n",
       "      <td>0.141402</td>\n",
       "      <td>0.050400</td>\n",
       "      <td>0.100248</td>\n",
       "      <td>579</td>\n",
       "      <td>579</td>\n",
       "      <td>0.533819</td>\n",
       "      <td>Not Significant</td>\n",
       "      <td>0.272606</td>\n",
       "    </tr>\n",
       "    <tr>\n",
       "      <th>4</th>\n",
       "      <td>ACAN</td>\n",
       "      <td>170389.0</td>\n",
       "      <td>0.980830</td>\n",
       "      <td>0.033275</td>\n",
       "      <td>0.005667</td>\n",
       "      <td>584</td>\n",
       "      <td>584</td>\n",
       "      <td>0.997212</td>\n",
       "      <td>Not Significant</td>\n",
       "      <td>0.001212</td>\n",
       "    </tr>\n",
       "    <tr>\n",
       "      <th>...</th>\n",
       "      <td>...</td>\n",
       "      <td>...</td>\n",
       "      <td>...</td>\n",
       "      <td>...</td>\n",
       "      <td>...</td>\n",
       "      <td>...</td>\n",
       "      <td>...</td>\n",
       "      <td>...</td>\n",
       "      <td>...</td>\n",
       "      <td>...</td>\n",
       "    </tr>\n",
       "    <tr>\n",
       "      <th>1456</th>\n",
       "      <td>XRCC4</td>\n",
       "      <td>173263.0</td>\n",
       "      <td>0.321429</td>\n",
       "      <td>0.021750</td>\n",
       "      <td>0.028225</td>\n",
       "      <td>579</td>\n",
       "      <td>579</td>\n",
       "      <td>0.752578</td>\n",
       "      <td>Not Significant</td>\n",
       "      <td>0.123449</td>\n",
       "    </tr>\n",
       "    <tr>\n",
       "      <th>1457</th>\n",
       "      <td>YES1</td>\n",
       "      <td>180049.0</td>\n",
       "      <td>0.927043</td>\n",
       "      <td>-0.028000</td>\n",
       "      <td>-0.007594</td>\n",
       "      <td>601</td>\n",
       "      <td>601</td>\n",
       "      <td>0.996410</td>\n",
       "      <td>Not Significant</td>\n",
       "      <td>0.001562</td>\n",
       "    </tr>\n",
       "    <tr>\n",
       "      <th>1458</th>\n",
       "      <td>YTHDF3</td>\n",
       "      <td>158719.0</td>\n",
       "      <td>0.078578</td>\n",
       "      <td>-0.066700</td>\n",
       "      <td>-0.088351</td>\n",
       "      <td>581</td>\n",
       "      <td>581</td>\n",
       "      <td>0.403537</td>\n",
       "      <td>Not Significant</td>\n",
       "      <td>0.394116</td>\n",
       "    </tr>\n",
       "    <tr>\n",
       "      <th>1459</th>\n",
       "      <td>ZBTB16</td>\n",
       "      <td>170412.0</td>\n",
       "      <td>0.623787</td>\n",
       "      <td>0.021850</td>\n",
       "      <td>0.052548</td>\n",
       "      <td>579</td>\n",
       "      <td>579</td>\n",
       "      <td>0.917073</td>\n",
       "      <td>Not Significant</td>\n",
       "      <td>0.037596</td>\n",
       "    </tr>\n",
       "    <tr>\n",
       "      <th>1460</th>\n",
       "      <td>ZBTB17</td>\n",
       "      <td>173665.0</td>\n",
       "      <td>0.734293</td>\n",
       "      <td>-0.002725</td>\n",
       "      <td>0.000473</td>\n",
       "      <td>586</td>\n",
       "      <td>586</td>\n",
       "      <td>0.940130</td>\n",
       "      <td>Not Significant</td>\n",
       "      <td>0.026812</td>\n",
       "    </tr>\n",
       "  </tbody>\n",
       "</table>\n",
       "<p>1461 rows × 10 columns</p>\n",
       "</div>"
      ],
      "text/plain": [
       "      protein  test_stat   p_value  median_diff  mean_diff  n_disease  \\\n",
       "0      AARSD1   187880.0  0.226418     0.045600   0.043340        601   \n",
       "1     ABHD14B   173338.5  0.983396    -0.004550   0.001300        589   \n",
       "2        ABL1   179886.0  0.905550    -0.039750   0.008507        601   \n",
       "3       ACAA1   175989.0  0.141402     0.050400   0.100248        579   \n",
       "4        ACAN   170389.0  0.980830     0.033275   0.005667        584   \n",
       "...       ...        ...       ...          ...        ...        ...   \n",
       "1456    XRCC4   173263.0  0.321429     0.021750   0.028225        579   \n",
       "1457     YES1   180049.0  0.927043    -0.028000  -0.007594        601   \n",
       "1458   YTHDF3   158719.0  0.078578    -0.066700  -0.088351        581   \n",
       "1459   ZBTB16   170412.0  0.623787     0.021850   0.052548        579   \n",
       "1460   ZBTB17   173665.0  0.734293    -0.002725   0.000473        586   \n",
       "\n",
       "      n_control  p_value_corrected     significance  neg_log10_p  \n",
       "0           601           0.645599  Not Significant     0.190037  \n",
       "1           589           0.997212  Not Significant     0.001212  \n",
       "2           601           0.996410  Not Significant     0.001562  \n",
       "3           579           0.533819  Not Significant     0.272606  \n",
       "4           584           0.997212  Not Significant     0.001212  \n",
       "...         ...                ...              ...          ...  \n",
       "1456        579           0.752578  Not Significant     0.123449  \n",
       "1457        601           0.996410  Not Significant     0.001562  \n",
       "1458        581           0.403537  Not Significant     0.394116  \n",
       "1459        579           0.917073  Not Significant     0.037596  \n",
       "1460        586           0.940130  Not Significant     0.026812  \n",
       "\n",
       "[1461 rows x 10 columns]"
      ]
     },
     "execution_count": 72,
     "metadata": {},
     "output_type": "execute_result"
    }
   ],
   "source": [
    "pd_all"
   ]
  },
  {
   "cell_type": "code",
   "execution_count": 73,
   "id": "65fd3646-1ff8-4157-b085-cb5c47f454bf",
   "metadata": {},
   "outputs": [
    {
     "name": "stdout",
     "output_type": "stream",
     "text": [
      "(53, 10)\n"
     ]
    }
   ],
   "source": [
    "import pandas as pd\n",
    "\n",
    "def compare_protein_significance(pd_df, ond_df):\n",
    "    \"\"\"\n",
    "    Compare protein significance between PD and neuro controls.\n",
    "\n",
    "    Parameters\n",
    "    ----------\n",
    "    pd_df : pd.DataFrame\n",
    "        DataFrame with columns ['protein', 'significance'] for PD.\n",
    "    ond_df : pd.DataFrame\n",
    "        DataFrame with columns ['protein', 'significance'] for neuro controls.\n",
    "\n",
    "    Returns\n",
    "    -------\n",
    "    pd_healthy_unique : pd.DataFrame\n",
    "        Subset of pd_df for proteins significant in PD but not matching neuro controls.\n",
    "    same_pd_ond : pd.DataFrame\n",
    "        Subset of merged DataFrame for proteins with the same significance in PD and neuro controls.\n",
    "    merged_all : pd.DataFrame\n",
    "        Full merged DataFrame with suffixes for PD and neuro controls.\n",
    "    \"\"\"\n",
    "    # Merge on protein names\n",
    "    merged_all = pd_df[['protein', 'significance']].merge(\n",
    "        ond_df[['protein', 'significance']],\n",
    "        on='protein',\n",
    "        how='left',\n",
    "        suffixes=('_pd', '_neuro')\n",
    "    )\n",
    "\n",
    "    # Unique to PD: significant in PD but not matching neuro controls\n",
    "    unique_to_pd = merged_all[\n",
    "        (merged_all['significance_pd'].isin(['Up', 'Down'])) &\n",
    "        (merged_all['significance_pd'] != merged_all['significance_neuro'])\n",
    "    ]\n",
    "\n",
    "    # Same direction in PD and neuro controls\n",
    "    same_pd_ond = merged_all[\n",
    "        (merged_all['significance_pd'].isin(['Up', 'Down'])) &\n",
    "        (merged_all['significance_pd'] == merged_all['significance_neuro'])\n",
    "    ]\n",
    "\n",
    "    # Subset original PD df for unique proteins\n",
    "    pd_healthy_unique = pd_df[pd_df['protein'].isin(unique_to_pd['protein'])]\n",
    "\n",
    "    return pd_healthy_unique, same_pd_ond, merged_all\n",
    "\n",
    "# Example usage:\n",
    "pd_healthy_unique, same_pd_ond, merged_all = compare_protein_significance(pd_all, ond_all)\n",
    "print(pd_healthy_unique.shape)\n"
   ]
  },
  {
   "cell_type": "code",
   "execution_count": 74,
   "id": "5c451bc7-a9ef-4950-9c95-0a941456c8ab",
   "metadata": {},
   "outputs": [
    {
     "name": "stdout",
     "output_type": "stream",
     "text": [
      "(19, 10)\n"
     ]
    }
   ],
   "source": [
    "pd_healthy_prodromals_unique, same_pd_ond_prodromals, merged_prodromals = compare_protein_significance(pd_prodromals, ond_prodromals)\n",
    "print(pd_healthy_prodromals_unique.shape)"
   ]
  },
  {
   "cell_type": "code",
   "execution_count": 75,
   "id": "e4c8de28-2df9-49c8-9670-a0bc9b74958f",
   "metadata": {},
   "outputs": [
    {
     "name": "stdout",
     "output_type": "stream",
     "text": [
      "(20, 10)\n"
     ]
    }
   ],
   "source": [
    "pd_healthy_baseline_unique, same_pd_ond_baseline, merged_baseline = compare_protein_significance(pd_baseline, ond_baseline)\n",
    "print(pd_healthy_baseline_unique.shape)"
   ]
  },
  {
   "cell_type": "code",
   "execution_count": 76,
   "id": "742d1c95-6a2d-49ed-886e-ea7ec311df5f",
   "metadata": {},
   "outputs": [],
   "source": [
    "with open(\"proteins_matched_prodromals_PD_HC_unique_list.txt\", \"w\") as f:\n",
    "    for protein in pd_healthy_prodromals_unique[\"protein\"].unique().tolist():\n",
    "        f.write(protein + \"\\n\")"
   ]
  },
  {
   "cell_type": "code",
   "execution_count": 77,
   "id": "452ab94b-a65b-4886-9975-5080f95082aa",
   "metadata": {},
   "outputs": [],
   "source": [
    "def save_combined_protein_list(pd_unique_df, additional_list, out_file):\n",
    "    \"\"\"\n",
    "    Save combined list of proteins to a text file.\n",
    "\n",
    "    Parameters\n",
    "    ----------\n",
    "    pd_unique_df : pd.DataFrame\n",
    "        DataFrame with column 'protein' containing PD-unique proteins.\n",
    "    additional_list : list\n",
    "        Additional proteins to include (e.g., from neuro controls).\n",
    "    out_file : str\n",
    "        Path to output text file.\n",
    "    \"\"\"\n",
    "    combined_list = pd_unique_df['protein'].unique().tolist() + additional_list\n",
    "    with open(out_file, \"w\") as f:\n",
    "        for protein in combined_list:\n",
    "            f.write(f\"{protein}\\n\")"
   ]
  },
  {
   "cell_type": "code",
   "execution_count": 78,
   "id": "3458fc3d-dd7c-4ed0-9893-71a3dd270869",
   "metadata": {},
   "outputs": [],
   "source": [
    "# Example usage\n",
    "save_combined_protein_list(\n",
    "    pd_healthy_unique,\n",
    "    ond_all_list,\n",
    "    \"proteins_matched_all_PD_HC_unique_list.txt\"\n",
    ")"
   ]
  },
  {
   "cell_type": "code",
   "execution_count": 79,
   "id": "0f34504f-fcdf-411b-97db-43f17ceeae66",
   "metadata": {},
   "outputs": [],
   "source": [
    "# Example usage\n",
    "save_combined_protein_list(\n",
    "    pd_healthy_baseline_unique,\n",
    "    ond_baseline_list,\n",
    "    \"proteins_matched_baseline_PD_HC_unique_list.txt\"\n",
    ")"
   ]
  },
  {
   "cell_type": "code",
   "execution_count": 80,
   "id": "2be13c0f-b8de-4ba7-afee-342099f3eb9c",
   "metadata": {},
   "outputs": [],
   "source": [
    "# Example usage\n",
    "save_combined_protein_list(\n",
    "    pd_healthy_prodromals_unique,\n",
    "    ond_prodromals_list,\n",
    "    \"proteins_matched_prodromals_PD_HC_unique_list.txt\"\n",
    ")"
   ]
  }
 ],
 "metadata": {
  "kernelspec": {
   "display_name": "Python (test_env)",
   "language": "python",
   "name": "test_env"
  },
  "language_info": {
   "codemirror_mode": {
    "name": "ipython",
    "version": 3
   },
   "file_extension": ".py",
   "mimetype": "text/x-python",
   "name": "python",
   "nbconvert_exporter": "python",
   "pygments_lexer": "ipython3",
   "version": "3.10.0"
  }
 },
 "nbformat": 4,
 "nbformat_minor": 5
}
