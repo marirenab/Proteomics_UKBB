{
 "cells": [
  {
   "cell_type": "code",
   "execution_count": null,
   "metadata": {},
   "outputs": [],
   "source": [
    "import pandas as pd"
   ]
  },
  {
   "cell_type": "code",
   "execution_count": null,
   "metadata": {},
   "outputs": [],
   "source": [
    "import pandas as pd\n",
    "import glob\n",
    "import os\n",
    "\n",
    "# Find all files ending with _metrics.csv in ../Results\n",
    "files = glob.glob(\"Results/*_metrics.csv\")\n",
    "\n",
    "# Option 1: Load into a dictionary (keep separate)\n",
    "dfs = {os.path.basename(f): pd.read_csv(f) for f in files}\n",
    "\n",
    "# Example: access one file\n",
    "# dfs[\"experiment1_metrics.csv\"].head()\n",
    "\n",
    "# Option 2: Concatenate into one dataframe (add filename column)\n",
    "all_metrics = []\n",
    "for f in files:\n",
    "    df = pd.read_csv(f)\n",
    "    df[\"source_file\"] = os.path.basename(f)  # keep track of origin\n",
    "    all_metrics.append(df)\n",
    "\n",
    "all_metrics_df = pd.concat(all_metrics, ignore_index=True)\n",
    "\n",
    "# Now you have all results in one dataframe\n",
    "all_metrics_df.head()\n"
   ]
  },
  {
   "cell_type": "code",
   "execution_count": null,
   "metadata": {},
   "outputs": [],
   "source": [
    "all_metrics_df.groupby([\"source_file\"]).mean().sort_values(by=[\"PR AUC\"])"
   ]
  },
  {
   "cell_type": "code",
   "execution_count": null,
   "metadata": {},
   "outputs": [],
   "source": [
    "# Group by 'source_file' and take the mean\n",
    "grouped_means = all_metrics_df.groupby(\"source_file\").mean()\n",
    "\n",
    "# Filter based on the mean values\n",
    "filtered_df = grouped_means[\n",
    "    (grouped_means[\"Specificity\"] > 0.6) &\n",
    "    (grouped_means[\"Recall\"] > 0.6)\n",
    "]\n"
   ]
  },
  {
   "cell_type": "code",
   "execution_count": null,
   "metadata": {},
   "outputs": [],
   "source": [
    "source_list = filtered_df.reset_index()[\"source_file\"].tolist()"
   ]
  },
  {
   "cell_type": "code",
   "execution_count": null,
   "metadata": {},
   "outputs": [],
   "source": [
    "filtered_df = all_metrics_df[all_metrics_df[\"source_file\"].isin(source_list)]"
   ]
  },
  {
   "cell_type": "code",
   "execution_count": null,
   "metadata": {},
   "outputs": [],
   "source": [
    "filtered_df.groupby(\"source_file\").mean()"
   ]
  },
  {
   "cell_type": "code",
   "execution_count": null,
   "metadata": {},
   "outputs": [],
   "source": [
    "import matplotlib.pyplot as plt\n",
    "import seaborn as sns\n",
    "import pandas as pd\n",
    "\n",
    "# Keep only numeric columns + source_file\n",
    "numeric_cols = filtered_df.select_dtypes(include=\"number\").columns.tolist()\n",
    "metrics = [c for c in numeric_cols if c not in [\"TN\", \"TP\", \"FP\", \"FN\"]]\n",
    "\n",
    "# Melt into long format\n",
    "melted = filtered_df.melt(\n",
    "    id_vars=[\"source_file\"],\n",
    "    value_vars=metrics,\n",
    "    var_name=\"metric\",\n",
    "    value_name=\"value\"\n",
    ")\n",
    "\n",
    "# Ensure numeric type\n",
    "melted[\"value\"] = pd.to_numeric(melted[\"value\"], errors=\"coerce\")\n",
    "\n",
    "# Drop NaNs (just in case)\n",
    "melted = melted.dropna(subset=[\"value\"])\n",
    "\n",
    "# Choose a palette with more colors\n",
    "unique_sources = melted[\"source_file\"].nunique()\n",
    "palette = sns.color_palette(\"tab20\", n_colors=unique_sources)\n",
    "\n",
    "# Plot: distribution of metrics across folds and source files\n",
    "plt.figure(figsize=(12, 6))\n",
    "sns.boxplot(\n",
    "    data=melted,\n",
    "    x=\"metric\", y=\"value\",\n",
    "    hue=\"source_file\",\n",
    "    palette=palette\n",
    ")\n",
    "\n",
    "plt.xticks(rotation=45, ha=\"right\")\n",
    "plt.ylabel(\"Score\")\n",
    "plt.xlabel(\"Metric\")\n",
    "plt.title(\"Metric Distribution Across Folds per Models\")\n",
    "\n",
    "# Remove legend\n",
    "plt.legend([], [], frameon=False)\n",
    "\n",
    "plt.tight_layout()\n",
    "plt.show()\n"
   ]
  },
  {
   "cell_type": "code",
   "execution_count": null,
   "metadata": {},
   "outputs": [],
   "source": [
    "import matplotlib.pyplot as plt\n",
    "import seaborn as sns\n",
    "import pandas as pd\n",
    "\n",
    "# Keep only numeric columns + source_file\n",
    "numeric_cols = filtered_df.select_dtypes(include=\"number\").columns.tolist()\n",
    "metrics = [c for c in numeric_cols if c not in [\"TN\", \"TP\", \"FP\", \"FN\"]]\n",
    "\n",
    "# Melt into long format\n",
    "melted = filtered_df.melt(\n",
    "    id_vars=[\"source_file\"],\n",
    "    value_vars=metrics,\n",
    "    var_name=\"metric\",\n",
    "    value_name=\"value\"\n",
    ")\n",
    "\n",
    "# Ensure numeric type\n",
    "melted[\"value\"] = pd.to_numeric(melted[\"value\"], errors=\"coerce\")\n",
    "melted = melted.dropna(subset=[\"value\"])\n",
    "\n",
    "# Choose a palette with enough colors\n",
    "unique_sources = melted[\"source_file\"].nunique()\n",
    "palette = sns.color_palette(\"tab20\", n_colors=unique_sources)\n",
    "\n",
    "# Plot: separate subplot for each metric\n",
    "num_metrics = len(metrics)\n",
    "fig, axes = plt.subplots(1, num_metrics, figsize=(5*num_metrics, 6), sharey=False)\n",
    "\n",
    "for ax, metric in zip(axes, metrics):\n",
    "    sns.boxplot(\n",
    "        data=melted[melted[\"metric\"] == metric],\n",
    "        x=\"source_file\", y=\"value\",\n",
    "        palette=palette,\n",
    "        ax=ax\n",
    "    )\n",
    "    ax.set_title(metric)\n",
    "    ax.set_xlabel(\"\")\n",
    "    ax.set_ylabel(\"Score\")\n",
    "    ax.set_xticks([])  # Remove x-ticks\n",
    "\n",
    "plt.tight_layout()\n",
    "plt.savefig(\"Metricsvisualisation.pdf\")\n"
   ]
  },
  {
   "cell_type": "code",
   "execution_count": null,
   "metadata": {},
   "outputs": [],
   "source": []
  }
 ],
 "metadata": {
  "kernelspec": {
   "display_name": "Python (test_env)",
   "language": "python",
   "name": "test_env"
  },
  "language_info": {
   "codemirror_mode": {
    "name": "ipython",
    "version": 3
   },
   "file_extension": ".py",
   "mimetype": "text/x-python",
   "name": "python",
   "nbconvert_exporter": "python",
   "pygments_lexer": "ipython3",
   "version": "3.10.5"
  }
 },
 "nbformat": 4,
 "nbformat_minor": 4
}
