{
 "cells": [
  {
   "cell_type": "code",
   "execution_count": null,
   "id": "6e663d21-dca0-4885-ae70-4eab8cc2f2da",
   "metadata": {},
   "outputs": [],
   "source": [
    "import pandas as pd\n",
    "import lightgbm as lgb\n",
    "import numpy as np\n",
    "from sklearn.linear_model import LogisticRegression\n",
    "import sys\n",
    "from sklearn.model_selection import GridSearchCV\n",
    "import seaborn as sns"
   ]
  },
  {
   "cell_type": "code",
   "execution_count": null,
   "id": "a18fa181-737c-4442-b925-1889920a6f87",
   "metadata": {},
   "outputs": [],
   "source": [
    "import sys\n",
    "# Add the folder containing your patched file\n",
    "sys.path.insert(0, '../boruta_py/boruta')\n",
    "\n",
    "# Import your patched BorutaPy\n",
    "from borutamar_py import BorutaPy\n",
    "\n",
    "# Check that Python is using your local file\n",
    "import borutamar_py as bp\n",
    "print(bp.__file__)  \n",
    "# should point to ../../boruta_py/boruta/borutamar_py.py\n",
    "from eBoruta import eBoruta, TrialData, Features, Dataset, setup_logger\n"
   ]
  },
  {
   "cell_type": "code",
   "execution_count": null,
   "id": "f976a998-f80a-45b3-a449-bdffee0bebbb",
   "metadata": {},
   "outputs": [],
   "source": [
    "from borutamar_py import BorutaPy "
   ]
  },
  {
   "cell_type": "code",
   "execution_count": null,
   "id": "f787e32d-ec7e-4e05-975c-1325724e041b",
   "metadata": {},
   "outputs": [],
   "source": [
    "import os\n",
    "print(os.getcwd())\n"
   ]
  },
  {
   "cell_type": "code",
   "execution_count": null,
   "id": "bd11ebdb-3d00-4b21-9ba6-29ecd7014bf6",
   "metadata": {},
   "outputs": [],
   "source": [
    "seed=42"
   ]
  },
  {
   "cell_type": "code",
   "execution_count": null,
   "id": "15ec57b4-25ff-445a-87d4-ef9e53ac0dad",
   "metadata": {},
   "outputs": [],
   "source": [
    "training_hc= pd.read_csv(\"../Training_residualshealthycontrol_healthycontrol.csv\")"
   ]
  },
  {
   "cell_type": "code",
   "execution_count": null,
   "id": "2a0e8f6f-04dc-4a85-bc52-0d57959baa07",
   "metadata": {},
   "outputs": [],
   "source": [
    "training_neuro= pd.read_csv(\"../Training_residualshealthycontrol_neurodegenerative.csv\")"
   ]
  },
  {
   "cell_type": "code",
   "execution_count": null,
   "id": "627cd975-928b-4f90-9b75-68624aba73e6",
   "metadata": {},
   "outputs": [],
   "source": [
    "X_hc = training_hc.set_index(\"eid\").drop(columns=training_hc.columns[-1])\n",
    "y_hc = training_hc.set_index(\"eid\")[training_hc.columns[-1]].astype(\"category\")"
   ]
  },
  {
   "cell_type": "code",
   "execution_count": null,
   "id": "2d9dcf1d-15fa-4386-9d40-1910beacf829",
   "metadata": {},
   "outputs": [],
   "source": [
    "X_neuro = training_neuro.set_index(\"eid\").drop(columns=training_neuro.columns[-1])\n",
    "y_neuro = training_neuro.set_index(\"eid\")[training_neuro.columns[-1]].astype(\"category\")"
   ]
  },
  {
   "cell_type": "code",
   "execution_count": null,
   "id": "2bec66fc-e88a-47c2-a019-7746639029d4",
   "metadata": {},
   "outputs": [],
   "source": [
    "y_neuro"
   ]
  },
  {
   "cell_type": "code",
   "execution_count": null,
   "id": "7d4921b3-7ee1-4797-af51-6af8d3bbefc3",
   "metadata": {},
   "outputs": [],
   "source": [
    "results_neuro = pd.read_csv(\"Results/Feature_importances_LightGBM_balanced_Training_residualshealthycontrol_neurodegenerative.csv\")\n",
    "\n",
    "results_hc = pd.read_csv(\"Results/Feature_importances_LightGBM_balanced_Training_residualshealthycontrol_healthycontrol.csv\")"
   ]
  },
  {
   "cell_type": "code",
   "execution_count": null,
   "id": "9ba74277-935d-4c79-a206-a8f403f1ab81",
   "metadata": {},
   "outputs": [],
   "source": [
    "features_neuro = results_neuro[results_neuro[\"Importance\"] !=0][\"Feature\"].unique().tolist()"
   ]
  },
  {
   "cell_type": "code",
   "execution_count": null,
   "id": "1631b4c7-2faf-4a80-9bce-99f75434012f",
   "metadata": {},
   "outputs": [],
   "source": [
    "features_hc = results_hc[results_hc[\"Importance\"] !=0][\"Feature\"].unique().tolist()"
   ]
  },
  {
   "cell_type": "code",
   "execution_count": null,
   "id": "31044a81-7bf3-4bd4-b5f4-9b2a3e471f33",
   "metadata": {},
   "outputs": [],
   "source": [
    "clf = LogisticRegression(class_weight=\"balanced\", solver='liblinear', random_state=seed)"
   ]
  },
  {
   "cell_type": "code",
   "execution_count": null,
   "id": "d5b904bc-b655-4a7e-b379-76facb023b6d",
   "metadata": {},
   "outputs": [],
   "source": [
    "lasso_params = {\n",
    "    'C': [0.01, 0.1, 1],\n",
    "    'penalty' :['l1'],\n",
    "    'solver' : ['liblinear'],\n",
    "    'class_weight': ['balanced']\n",
    "}\n",
    "\n",
    "\n",
    "\n",
    "\n",
    "grid_search = GridSearchCV(\n",
    "    estimator=clf,\n",
    "    param_grid=lasso_params,\n",
    "    cv=3,\n",
    "    scoring=\"recall\",\n",
    "    n_jobs=4\n",
    ")\n",
    "grid_search.fit(X_hc[features_hc], y_hc)\n",
    "\n",
    "best_model_hc = grid_search.best_estimator_\n",
    "best_params_hc_logreg= grid_search.best_params_\n",
    "print(\"Best CV recall:\", grid_search.best_score_)"
   ]
  },
  {
   "cell_type": "code",
   "execution_count": null,
   "id": "1f62eb93-c1bd-4490-a3bb-a01b0ef82356",
   "metadata": {},
   "outputs": [],
   "source": [
    "\n",
    "grid_search.fit(X_neuro[features_neuro], y_neuro)\n",
    "\n",
    "best_model_neuro = grid_search.best_estimator_\n",
    "best_params_neuro_logreg= grid_search.best_params_\n",
    "print(\"Best CV recall:\", grid_search.best_score_)"
   ]
  },
  {
   "cell_type": "code",
   "execution_count": null,
   "id": "58d62383-03fa-486d-9295-7d114ec15fbc",
   "metadata": {},
   "outputs": [],
   "source": [
    "grid_search.best_params_"
   ]
  },
  {
   "cell_type": "code",
   "execution_count": null,
   "id": "29860a53-63bf-4f37-aa02-1e4dc68d4132",
   "metadata": {},
   "outputs": [],
   "source": [
    "lgb_params = {\n",
    "    'n_estimators': [50, 100,200,500],\n",
    "    'learning_rate': [0.01, 0.1],\n",
    "    'max_depth': [1,5,7,10,15],\n",
    "    'subsample': [0.01, 1],\n",
    "    'colsample_bytree': [0.01, 0.1, 1.0],\n",
    "    'reg_alpha': [0,0.1, 10],\n",
    "    'reg_lambda': [0, 0.1, 10]\n",
    "}"
   ]
  },
  {
   "cell_type": "code",
   "execution_count": null,
   "id": "b7b85bc8-d552-4dc1-b3df-4cb27f1fd921",
   "metadata": {},
   "outputs": [],
   "source": [
    "from sklearn.inspection import permutation_importance"
   ]
  },
  {
   "cell_type": "code",
   "execution_count": null,
   "id": "9fd638cc-314b-400c-99e7-b6501296d2dc",
   "metadata": {},
   "outputs": [],
   "source": [
    "from sklearn.base import BaseEstimator\n",
    "\n",
    "def get_imp(estimator):\n",
    "    # equivalent to the builtin importance getter\n",
    "    return estimator.feature_importances_\n",
    "\n",
    "\n",
    "def get_permutation_imp(estimator: BaseEstimator, trial_data: TrialData) -> np.ndarray:\n",
    "    imp = permutation_importance(\n",
    "        estimator, trial_data.x_test, trial_data.y_test,\n",
    "        scoring='accuracy', n_jobs=-1\n",
    "    )\n",
    "    return np.array(imp['importances_mean'])"
   ]
  },
  {
   "cell_type": "code",
   "execution_count": null,
   "id": "6a3605f7-d44f-4d3d-bb5b-7b37e3f4bf36",
   "metadata": {},
   "outputs": [],
   "source": [
    "def plot_imp_history(df_history: pd.DataFrame):\n",
    "    sns.lineplot(x='Step', y='Importance', hue='Feature', data=df_history)\n",
    "    sns.lineplot(x='Step', y='Threshold', data=df_history, linestyle='--', linewidth=4)"
   ]
  },
  {
   "cell_type": "code",
   "execution_count": null,
   "id": "f4738657-8c79-493d-a770-04b77852cafc",
   "metadata": {},
   "outputs": [],
   "source": [
    "best_model_neuro"
   ]
  },
  {
   "cell_type": "code",
   "execution_count": null,
   "id": "de2e1403-5979-4aa6-8ef6-da133ed1453b",
   "metadata": {},
   "outputs": [],
   "source": [
    "boruta_neuro_logreg = eBoruta(\n",
    ").fit(X_neuro[features_neuro], y_neuro.values, model_type=LogisticRegression,\n",
    "    model_init_kwargs=\n",
    "    best_params_neuro_logreg)\n",
    "plot_imp_history(boruta.features_.history)"
   ]
  },
  {
   "cell_type": "code",
   "execution_count": null,
   "id": "e1c49925-5c0f-416d-9cc5-18ee03509fd5",
   "metadata": {},
   "outputs": [],
   "source": [
    "features = boruta_neuro_logreg.features_\n",
    "features.accepted, features.rejected, features.tentative"
   ]
  },
  {
   "cell_type": "code",
   "execution_count": null,
   "id": "1b02c1cf-b636-4b78-b8df-65e6b07daf8a",
   "metadata": {},
   "outputs": [],
   "source": [
    "boruta_hc_logreg = eBoruta(\n",
    ").fit(\n",
    "    X_hc[features_hc], y_hc.values, model_type=LogisticRegression,\n",
    "    model_init_kwargs=best_params_hc_logreg)\n",
    "plot_imp_history(boruta.features_.history)"
   ]
  },
  {
   "cell_type": "code",
   "execution_count": null,
   "id": "899fe0ea-814b-4578-bf02-f23e1a28674e",
   "metadata": {},
   "outputs": [],
   "source": [
    "features_HC = boruta_HC.features_\n",
    "features_HC.accepted, features_HC.rejected, features_HC.tentative"
   ]
  },
  {
   "cell_type": "code",
   "execution_count": null,
   "id": "6524dee1-a42b-40b6-beeb-3641538b92f7",
   "metadata": {},
   "outputs": [],
   "source": [
    "lgb_params = {\n",
    "    'n_estimators': [50, 100,200,500],\n",
    "    'learning_rate': [0.01, 0.1],\n",
    "    'max_depth': [1,5,7,10,15],\n",
    "    'subsample': [0.01, 1],\n",
    "    'colsample_bytree': [0.01, 0.1, 1.0],\n",
    "    'reg_alpha': [0,0.1, 10],\n",
    "    'reg_lambda': [0, 0.1, 10],\n",
    "    'class_weight':['balanced'],\n",
    "    'random_state':[42]\n",
    "    \n",
    "}"
   ]
  },
  {
   "cell_type": "code",
   "execution_count": null,
   "id": "c162c8cb-4678-4f5e-81d8-1e0026ef3331",
   "metadata": {},
   "outputs": [],
   "source": [
    "lightgbm= lgb.LGBMClassifier(random_state=seed, class_weight='balanced', verbose=-1, n_jobs=4)"
   ]
  },
  {
   "cell_type": "code",
   "execution_count": null,
   "id": "28749e4c-cf1c-44cd-be33-a8f7b0de9466",
   "metadata": {},
   "outputs": [],
   "source": [
    "grid_search = GridSearchCV(\n",
    "    estimator=lightgbm,\n",
    "    param_grid=lgb_params,\n",
    "    cv=3,\n",
    "    scoring=\"recall\",\n",
    "    n_jobs=4\n",
    ")\n",
    "grid_search.fit(X_neuro[features_hc], y_neuro)\n",
    "\n",
    "best_lightgbm_neuro = grid_search.best_estimator_\n",
    "best_params_neuro_lightgbm= grid_search.best_params_\n",
    "print(\"Best CV recall:\", grid_search.best_score_)"
   ]
  },
  {
   "cell_type": "code",
   "execution_count": null,
   "id": "b313199c-ac95-40a9-9d9d-aaca745024ef",
   "metadata": {},
   "outputs": [],
   "source": [
    "grid_search = GridSearchCV(\n",
    "    estimator=lightgbm,\n",
    "    param_grid=lgb_params,\n",
    "    cv=3,\n",
    "    scoring=\"recall\",\n",
    "    n_jobs=4\n",
    ")\n",
    "grid_search.fit(X_hc[features_hc], y_hc)\n",
    "\n",
    "best_lightgbm_hc = grid_search.best_estimator_\n",
    "best_params_hc_lightgbm= grid_search.best_params_\n",
    "print(\"Best CV recall:\", grid_search.best_score_)"
   ]
  },
  {
   "cell_type": "code",
   "execution_count": null,
   "id": "e60d6d3c-9bec-41ea-a833-b1685dc20ec0",
   "metadata": {},
   "outputs": [],
   "source": [
    "best_params_hc_lightgbm"
   ]
  },
  {
   "cell_type": "code",
   "execution_count": null,
   "id": "0d69b23b-d7fc-43e1-80cf-2c5ec9fa674a",
   "metadata": {},
   "outputs": [],
   "source": [
    "\n",
    "boruta_neuro_lightgbm = eBoruta(\n",
    ").fit(\n",
    "    X_neuro[features_neuro], \n",
    "    y_neuro.to_numpy(), \n",
    "    model_type=lgb.LGBMClassifier, \n",
    "    model_init_kwargs=best_params_neuro_lightgbm\n",
    ")"
   ]
  },
  {
   "cell_type": "code",
   "execution_count": null,
   "id": "0034f322-2ce9-45a9-8f00-e5f91ff4d632",
   "metadata": {},
   "outputs": [],
   "source": [
    "plot_imp_history(boruta_neuro_lightgbm.features_.history)"
   ]
  },
  {
   "cell_type": "code",
   "execution_count": null,
   "id": "73bc3fd0-78b1-4c0e-844f-387f9ba2cc6f",
   "metadata": {},
   "outputs": [],
   "source": [
    "plot_imp_history(boruta_hc_lightgbm.features_.history)"
   ]
  },
  {
   "cell_type": "code",
   "execution_count": null,
   "id": "1cc79fcc-ea3d-4e2e-ab99-4a1598638461",
   "metadata": {},
   "outputs": [],
   "source": [
    "\n",
    "boruta_hc_lightgbm = eBoruta(\n",
    ").fit(\n",
    "    X_hc[features_hc], \n",
    "    y_hc.to_numpy(), \n",
    "    model_type=lgb.LGBMClassifier, \n",
    "    model_init_kwargs=best_params_hc_lightgbm\n",
    ")"
   ]
  },
  {
   "cell_type": "code",
   "execution_count": null,
   "id": "d4a202dc-c2bf-4485-a68a-79a30976c41d",
   "metadata": {},
   "outputs": [],
   "source": [
    "features_HC_lightgbm = boruta_hc_lightgbm.features_\n",
    "features_HC_lightgbm.accepted, features_HC_lightgbm.rejected, features_HC_lightgbm.tentative"
   ]
  },
  {
   "cell_type": "code",
   "execution_count": null,
   "id": "1c2a3be8-c390-4378-9d02-a73a586197fd",
   "metadata": {},
   "outputs": [],
   "source": [
    "features_neuro_lightgbm = boruta_neuro_lightgbm.features_\n",
    "features_neuro_lightgbm.accepted, features_neuro_lightgbm.rejected, features_neuro_lightgbm.tentative"
   ]
  },
  {
   "cell_type": "code",
   "execution_count": null,
   "id": "72aa2dc5-1f9d-43d7-8797-01276aa9fe52",
   "metadata": {},
   "outputs": [],
   "source": [
    "features_neuro_lightgbm.accepted.tolist()"
   ]
  },
  {
   "cell_type": "code",
   "execution_count": null,
   "id": "ef01957a-b052-40bf-8e05-a253a24f444a",
   "metadata": {},
   "outputs": [],
   "source": [
    "features_lightgbm_all =features_neuro_lightgbm.accepted.tolist() + features_HC_lightgbm.accepted.tolist()\n"
   ]
  },
  {
   "cell_type": "code",
   "execution_count": null,
   "id": "87f39e88-efbf-47d1-803a-b81e73c2cfd3",
   "metadata": {},
   "outputs": [],
   "source": [
    "len(features_lightgbm_all)"
   ]
  },
  {
   "cell_type": "code",
   "execution_count": null,
   "id": "bfff4c44-d9c1-429e-a587-db7be9d2292e",
   "metadata": {},
   "outputs": [],
   "source": [
    "features_lightgbm_all"
   ]
  },
  {
   "cell_type": "code",
   "execution_count": null,
   "id": "044b92e4-e401-46af-a778-c945db984c54",
   "metadata": {},
   "outputs": [],
   "source": [
    "features_logreg_all = features_HC.accepted.tolist() + features.accepted.tolist()"
   ]
  },
  {
   "cell_type": "code",
   "execution_count": null,
   "id": "c0da6b02-599d-4130-b0f5-59bf758cb50c",
   "metadata": {},
   "outputs": [],
   "source": [
    "len(features_logreg_all)"
   ]
  },
  {
   "cell_type": "code",
   "execution_count": null,
   "id": "97b6ba53-9426-4998-a251-bbe583713c8c",
   "metadata": {},
   "outputs": [],
   "source": [
    "features_logreg_all"
   ]
  },
  {
   "cell_type": "code",
   "execution_count": null,
   "id": "cedbf3a1-de46-42d4-a2d6-c096acfba3f6",
   "metadata": {},
   "outputs": [],
   "source": [
    "# Write to a file\n",
    "with open(\"proteins_logreg_logregboruta_list.txt\", \"w\") as f:\n",
    "   for protein in features_logreg_all:\n",
    "      f.write(protein + \"\\n\")"
   ]
  },
  {
   "cell_type": "code",
   "execution_count": null,
   "id": "ad3aa9fa-bbe6-4dfb-b74a-82b8b00287e8",
   "metadata": {},
   "outputs": [],
   "source": [
    "# Write to a file\n",
    "with open(\"proteins_logreg_lightgbmboruta_list.txt\", \"w\") as f:\n",
    "   for protein in features_lightgbm_all:\n",
    "      f.write(protein + \"\\n\")"
   ]
  },
  {
   "cell_type": "code",
   "execution_count": null,
   "id": "e34a789a-7556-46b8-9a2f-a36cd8ee5f6b",
   "metadata": {},
   "outputs": [],
   "source": []
  }
 ],
 "metadata": {
  "kernelspec": {
   "display_name": "ML_ENVIRONMENT",
   "language": "python",
   "name": "ml_environment"
  },
  "language_info": {
   "codemirror_mode": {
    "name": "ipython",
    "version": 3
   },
   "file_extension": ".py",
   "mimetype": "text/x-python",
   "name": "python",
   "nbconvert_exporter": "python",
   "pygments_lexer": "ipython3",
   "version": "3.11.14"
  }
 },
 "nbformat": 4,
 "nbformat_minor": 5
}
