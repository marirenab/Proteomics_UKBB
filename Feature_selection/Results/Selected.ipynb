{
 "cells": [
  {
   "cell_type": "code",
   "execution_count": 10,
   "metadata": {},
   "outputs": [],
   "source": [
    "import pandas as pd\n",
    "import numpy as np\n",
    "import glob"
   ]
  },
  {
   "cell_type": "code",
   "execution_count": 14,
   "metadata": {},
   "outputs": [],
   "source": [
    "import pandas as pd\n",
    "import glob\n",
    "\n",
    "def save_selected_features(dfs):\n",
    "    \"\"\"\n",
    "    For each dataframe in dfs:\n",
    "      - extracts features with non-zero importance\n",
    "      - saves them to a corresponding .txt file\n",
    "\n",
    "    Parameters\n",
    "    ----------\n",
    "    dfs : dict\n",
    "        Dictionary of dataframes keyed by filename.\n",
    "    \"\"\"\n",
    "    for fname, df in dfs.items():\n",
    "        # Features with Importance == 0\n",
    "        zero_feats = df.loc[df[\"Importance\"] == 0, \"Feature\"].unique().tolist()\n",
    "\n",
    "        # Features that are not in zero_feats\n",
    "        selected_feats = df.loc[~df[\"Feature\"].isin(zero_feats), \"Feature\"].unique().tolist()\n",
    "\n",
    "        # Build output .txt filename (same as CSV but with .txt)\n",
    "        out_txt = fname.replace(\"Feature_importances\", \"Specificfeatures\").replace(\".csv\", \".txt\")\n",
    "\n",
    "        # Save to file\n",
    "        with open(out_txt, \"w\") as f:\n",
    "            for feat in selected_feats:\n",
    "                f.write(f\"{feat}\\n\")\n",
    "\n",
    "        print(f\"✅ Saved {len(selected_feats)} features to {out_txt}\")\n",
    "\n",
    "# --- Usage ---\n"
   ]
  },
  {
   "cell_type": "code",
   "execution_count": 15,
   "metadata": {},
   "outputs": [
    {
     "name": "stdout",
     "output_type": "stream",
     "text": [
      "✅ Saved 75 features to Specificfeatures_LightGBM_balanced_Training_residualstraining_healthycontrol.txt\n",
      "✅ Saved 72 features to Specificfeatures_LightGBM_balanced_Training_residualshealthycontrol_healthycontrol.txt\n"
     ]
    }
   ],
   "source": [
    "files = glob.glob(\"Feature_importances_LightGBM*_*_healthycontrol.csv\")\n",
    "dfs = {f: pd.read_csv(f) for f in files}\n",
    "save_selected_features(dfs)\n"
   ]
  },
  {
   "cell_type": "code",
   "execution_count": 16,
   "metadata": {},
   "outputs": [
    {
     "name": "stdout",
     "output_type": "stream",
     "text": [
      "✅ Saved 2 features to Specificfeatures_LightGBM_balanced_Training_residualstraining_neurodegenerative.txt\n",
      "✅ Saved 61 features to Specificfeatures_LightGBM_balanced_Training_residualshealthycontrol_neurodegenerative.txt\n"
     ]
    }
   ],
   "source": [
    "\n",
    "files = glob.glob(\"Feature_importances_LightGBM*_*_neurodegenerative.csv\")\n",
    "dfs = {f: pd.read_csv(f) for f in files}\n",
    "save_selected_features(dfs)\n"
   ]
  },
  {
   "cell_type": "code",
   "execution_count": 17,
   "metadata": {},
   "outputs": [
    {
     "name": "stdout",
     "output_type": "stream",
     "text": [
      "✅ Saved 304 features to Specificfeatures_LASSORegression_Training_residualstraining_healthycontrol.txt\n",
      "✅ Saved 297 features to Specificfeatures_LASSORegression_Training_residualshealthycontrol_healthycontrol.txt\n"
     ]
    }
   ],
   "source": [
    "files = glob.glob(\"Feature_importances_LASSORegression*_*_healthycontrol.csv\")\n",
    "dfs = {f: pd.read_csv(f) for f in files}\n",
    "save_selected_features(dfs)"
   ]
  },
  {
   "cell_type": "code",
   "execution_count": 18,
   "metadata": {},
   "outputs": [
    {
     "name": "stdout",
     "output_type": "stream",
     "text": [
      "✅ Saved 253 features to Specificfeatures_LASSORegression_Training_residualstraining_neurodegenerative.txt\n",
      "✅ Saved 253 features to Specificfeatures_LASSORegression_Training_residualshealthycontrol_neurodegenerative.txt\n"
     ]
    }
   ],
   "source": [
    "files = glob.glob(\"Feature_importances_LASSORegression*_*_neurodegenerative.csv\")\n",
    "dfs = {f: pd.read_csv(f) for f in files}\n",
    "save_selected_features(dfs)"
   ]
  },
  {
   "cell_type": "code",
   "execution_count": null,
   "metadata": {},
   "outputs": [],
   "source": []
  }
 ],
 "metadata": {
  "kernelspec": {
   "display_name": "Python (test_env)",
   "language": "python",
   "name": "test_env"
  },
  "language_info": {
   "codemirror_mode": {
    "name": "ipython",
    "version": 3
   },
   "file_extension": ".py",
   "mimetype": "text/x-python",
   "name": "python",
   "nbconvert_exporter": "python",
   "pygments_lexer": "ipython3",
   "version": "3.10.0"
  }
 },
 "nbformat": 4,
 "nbformat_minor": 5
}
