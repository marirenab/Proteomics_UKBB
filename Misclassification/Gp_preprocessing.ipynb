{
 "cells": [
  {
   "cell_type": "code",
   "execution_count": null,
   "id": "18f6fb74-8480-47a8-8e26-a5f45e02e086",
   "metadata": {},
   "outputs": [],
   "source": [
    "import pandas as pd\n",
    "import numpy as np\n",
    "import sys\n",
    "sys.path.append(os.path.abspath(\"../../../DNANEXUS/Updated_data\"))\n",
    "import utilsfiles\n",
    "from simpledbf import Dbf5\n",
    "from utilsfiles import recode_reads"
   ]
  },
  {
   "cell_type": "code",
   "execution_count": null,
   "id": "cea64751-1952-425b-957d-e3f202da4a1b",
   "metadata": {},
   "outputs": [],
   "source": [
    "gp_data = pd.read_csv(\"/rds/general/user/meb22/projects/ukbiobank/live/ukbiobank/data_2025/UKBB_diagnoses_Jun2025/gp_clinical_6_june.csv\")"
   ]
  },
  {
   "cell_type": "code",
   "execution_count": null,
   "id": "3b151aaa-3292-4f30-bdaf-ca92ad42061f",
   "metadata": {},
   "outputs": [],
   "source": [
    "coding1834 = pd.read_csv(\"/rds/general/user/meb22/projects/ukbiobank/live/ukbiobank/codings/coding1834.tsv\", sep=\"\\t\")"
   ]
  },
  {
   "cell_type": "code",
   "execution_count": null,
   "id": "24910446-6547-415a-8614-51f52ff0fa1e",
   "metadata": {},
   "outputs": [],
   "source": [
    "coding1834[\"coding\"] = coding1834[\"coding\"].astype(str)"
   ]
  },
  {
   "cell_type": "code",
   "execution_count": null,
   "id": "9bac9909-4e56-477e-a9dc-73fab76a0d17",
   "metadata": {},
   "outputs": [],
   "source": [
    "coding1835 = pd.read_csv(\"/rds/general/user/meb22/projects/ukbiobank/live/ukbiobank/codings/coding1835.tsv\", sep=\"\\t\")"
   ]
  },
  {
   "cell_type": "code",
   "execution_count": null,
   "id": "8408f3d5-20a7-489c-8757-3461399d7c16",
   "metadata": {},
   "outputs": [],
   "source": [
    "coding1835[\"coding\"] = coding1835[\"coding\"].astype(str)"
   ]
  },
  {
   "cell_type": "code",
   "execution_count": null,
   "id": "997d9e5f-afdc-4719-9311-51ed5e603d30",
   "metadata": {},
   "outputs": [],
   "source": [
    "dict1834 = dict(zip(coding1834[\"coding\"], coding1834[\"meaning\"]))\n",
    "dict1835 = dict(zip(coding1835[\"coding\"], coding1835[\"meaning\"]))"
   ]
  },
  {
   "cell_type": "code",
   "execution_count": null,
   "id": "6654e98a-f6f7-439f-a51a-d729e977c799",
   "metadata": {},
   "outputs": [],
   "source": [
    "gp_data[\"icd10\"] = gp_data[\"read_2\"].map(dict1834)\n",
    "gp_data[\"icd10\"] = gp_data[\"read_3\"].map(dict1835)\n"
   ]
  },
  {
   "cell_type": "code",
   "execution_count": null,
   "id": "266103d3-e331-4349-809d-fdac4d80ea39",
   "metadata": {},
   "outputs": [],
   "source": [
    "gp_data_drop = gp_data.dropna(subset=\"icd10\")"
   ]
  },
  {
   "cell_type": "code",
   "execution_count": null,
   "id": "16dee62f-f029-492c-a73b-19b117bc7869",
   "metadata": {},
   "outputs": [],
   "source": [
    "gp_data_drop.to_csv(\"/rds/general/user/meb22/projects/ukbiobank/live/ukbiobank/data_2025/UKBB_diagnoses_Jun2025/gpmappedicd1018341835.csv\")"
   ]
  },
  {
   "cell_type": "code",
   "execution_count": null,
   "id": "33c1d316-9f39-4312-904b-e42514935e29",
   "metadata": {},
   "outputs": [],
   "source": [
    "gp_data_drop"
   ]
  },
  {
   "cell_type": "code",
   "execution_count": null,
   "id": "0210c0e5-fd0d-4e85-acb8-a02e4b74846f",
   "metadata": {},
   "outputs": [],
   "source": [
    "dbf3 = Dbf5('/rds/general/user/meb22/projects/ukbiobank/live/ukbiobank/codings/readbrowser/Standard/V3/ICD10.DBF')\n",
    "df3 = dbf3.to_dataframe()\n",
    "dbf2 = Dbf5('/rds/general/user/meb22/projects/ukbiobank/live/ukbiobank/codings/readbrowser/Standard/V2/ICD10.DBF')\n",
    "df2 = dbf2.to_dataframe()\n",
    "df3 = recode_reads(df3)\n",
    "df2 = recode_reads(df2)"
   ]
  },
  {
   "cell_type": "code",
   "execution_count": null,
   "id": "858751dd-cf52-4394-82fc-1689e895a0de",
   "metadata": {},
   "outputs": [],
   "source": [
    "df2 = df2[[\"READ_CODE\",\"value\"]]\n",
    "df3= df3[[\"READ_CODE\",\"value\"]]\n",
    "df3_dict = dict(zip(df3[\"READ_CODE\"], df3[\"value\"]))\n",
    "df2_dict = dict(zip(df2[\"READ_CODE\"], df2[\"value\"]))"
   ]
  },
  {
   "cell_type": "code",
   "execution_count": null,
   "id": "22ed1941-8dcf-4d91-abce-b405868323c0",
   "metadata": {},
   "outputs": [],
   "source": [
    "gp_data[\"icd10\"] = gp_data[\"read_2\"].map(df2_dict)\n",
    "gp_data[\"icd10\"] = gp_data[\"read_3\"].map(df3_dict)"
   ]
  },
  {
   "cell_type": "code",
   "execution_count": null,
   "id": "77951459-e916-4a6d-b6b7-08e6cf3c23c4",
   "metadata": {},
   "outputs": [],
   "source": [
    "gp_datadropnhs = gp_data.dropna(subset=\"icd10\")"
   ]
  },
  {
   "cell_type": "code",
   "execution_count": null,
   "id": "45a39487-9825-4513-8395-2441cc6b8fb3",
   "metadata": {},
   "outputs": [],
   "source": [
    "gp_datadropnhs.rename(columns={\"icd10\" : \"icd10_analytical\"}, inplace=True)"
   ]
  },
  {
   "cell_type": "code",
   "execution_count": null,
   "id": "fc1ba4c1-cdf3-4bb0-82f3-2b1e94d03da6",
   "metadata": {},
   "outputs": [],
   "source": [
    "gp_mapped = pd.merge(gp_datadropnhs , gp_data_drop, on=[\"eid\",\"data_provider\",\"event_dt\",\"read_2\",\"read_3\",\"value1\",\"value2\",\"value3\"])"
   ]
  },
  {
   "cell_type": "code",
   "execution_count": null,
   "id": "865ccd75-a132-45fc-ad8b-a8b6bd7a2cce",
   "metadata": {},
   "outputs": [],
   "source": [
    "gp_mapped_dropna = gp_mapped.dropna(subset=[\"icd10_analytical\", \"icd10\"] ,how=\"all\")"
   ]
  },
  {
   "cell_type": "code",
   "execution_count": null,
   "id": "7a6230c0-64b6-4239-9879-7017ef926b80",
   "metadata": {},
   "outputs": [],
   "source": [
    "gp_mapped_dropna.to_csv(\"/rds/general/user/meb22/projects/ukbiobank/live/ukbiobank/data_2025/UKBB_diagnoses_Jun2025/gpmappedicd10_analytical.csv\")"
   ]
  },
  {
   "cell_type": "code",
   "execution_count": null,
   "id": "10c1fe31-bb20-49a7-90cc-efcb6b272149",
   "metadata": {},
   "outputs": [],
   "source": [
    "gp_mapped_dropna[[\"eid\",\"event_dt\",\"icd10\",\"icd10_analytical\"]].to_csv(\"/rds/general/user/meb22/projects/ukbiobank/live/ukbiobank/data_2025/UKBB_diagnoses_Jun2025/gpmappedicd10_analytical.csv\")"
   ]
  },
  {
   "cell_type": "code",
   "execution_count": null,
   "id": "f712ff87-44c8-4958-ac92-d56959df5f9b",
   "metadata": {},
   "outputs": [],
   "source": [
    "gp_mapped_dropna[[\"eid\",\"event_dt\",\"icd10\",\"icd10_analytical\"]]"
   ]
  },
  {
   "cell_type": "code",
   "execution_count": null,
   "id": "d8a1688e-b5f6-4041-b369-d0b99184150a",
   "metadata": {},
   "outputs": [],
   "source": []
  }
 ],
 "metadata": {
  "kernelspec": {
   "display_name": "Python (test_env)",
   "language": "python",
   "name": "test_env"
  },
  "language_info": {
   "codemirror_mode": {
    "name": "ipython",
    "version": 3
   },
   "file_extension": ".py",
   "mimetype": "text/x-python",
   "name": "python",
   "nbconvert_exporter": "python",
   "pygments_lexer": "ipython3",
   "version": "3.10.5"
  }
 },
 "nbformat": 4,
 "nbformat_minor": 5
}
